{
 "cells": [
  {
   "cell_type": "markdown",
   "metadata": {},
   "source": [
    "# CARS prepare and compute_dsm pipelines\n",
    "This notebook shows how to configure and launch CARS prepare and compute_dsm pipeline. \n",
    "This pipeline takes input configuration with two captors images and their geometric models to generate prepare inputs to the main CARS compute_dsm pipeline.\n",
    "\n",
    "BEWARE: The notebooks are not made to run big production : keep input data images low and not too much pairs in pipelines loops. \n"
   ]
  },
  {
   "cell_type": "code",
   "execution_count": null,
   "metadata": {
    "scrolled": true
   },
   "outputs": [],
   "source": [
    "# Load cars_generic : generic notebook configuration and load CARS import. \n",
    "%run cars_generic.ipynb\n",
    "\n",
    "# Generic configuration that can be changed\n",
    "print(\"\\nCARS Configuration directories:\")\n",
    "\n",
    "# CARS source root directory \n",
    "#CARS_ROOT_DIR=\"TO CHANGE\" # Default in cars_generic: default parent notebook directory (..)\n",
    "print(\"CARS_ROOT_DIR: {}\".format(CARS_ROOT_DIR))\n",
    "\n",
    "# CARS working directory\n",
    "#CARS_WORK_DIR=\"TO CHANGE\" # Default in cars_generic: $TMPDIR/cars-work\n",
    "print(\"CARS_WORK_DIR: {}\".format(CARS_WORK_DIR))\n",
    "\n",
    "# CARS inputs directory with data and inputs json prepare configuration\n",
    "#CARS_INPUTS_DIR=\"TO CHANGE\" #Default: \"data_samples\" copied from CARS demo source in cars_generic \n",
    "print(\"CARS_INPUTS_DIR: {} \".format(CARS_INPUTS_DIR))"
   ]
  },
  {
   "cell_type": "code",
   "execution_count": null,
   "metadata": {},
   "outputs": [],
   "source": [
    "## Import CARS prepare"
   ]
  },
  {
   "cell_type": "code",
   "execution_count": null,
   "metadata": {},
   "outputs": [],
   "source": [
    "# Import cars read conf functions\n",
    "from cars.conf.input_parameters import read_input_parameters  # for prepare\n",
    "from cars.conf.output_prepare import read_preprocessing_content_file # for compute_dsm\n",
    "\n",
    "# Import correlator configuration \n",
    "from cars.plugins.matching.correlator_configuration import corr_conf\n",
    "\n",
    "# Import pipelines\n",
    "from cars.pipelines import prepare, compute_dsm"
   ]
  },
  {
   "cell_type": "markdown",
   "metadata": {},
   "source": [
    "## Check and Get Inputs data\n",
    "Input data can be changed manually but you need to create your own input directory with data and adequate input json configuration. Then, change the CARS_INPUT_DIR above.  "
   ]
  },
  {
   "cell_type": "markdown",
   "metadata": {},
   "source": [
    "Show inputs directory containing data and JSON configuration. "
   ]
  },
  {
   "cell_type": "code",
   "execution_count": null,
   "metadata": {
    "scrolled": false
   },
   "outputs": [],
   "source": [
    "!ls -al {CARS_INPUTS_DIR}"
   ]
  },
  {
   "cell_type": "code",
   "execution_count": null,
   "metadata": {},
   "outputs": [],
   "source": [
    "# Get all json files in inputs_directory recursively : Assuming all json files are CARS input files !\n",
    "list_prepare_input_file_path = glob.glob(CARS_INPUTS_DIR+\"/*.json\")\n",
    "list_prepare_input_file_path"
   ]
  },
  {
   "cell_type": "markdown",
   "metadata": {},
   "source": [
    "Show CARS Json input configuration files: \n",
    "The configuration needs at least: \n",
    "- img1 : left stereo image (with geometric models inside or in geom file with same name)\n",
    "- img2 : right stereo image (with geometric models inside or in geom file with same name)\n",
    "- color1: image to generate a True Ortho in parallel of the DSM\n"
   ]
  },
  {
   "cell_type": "code",
   "execution_count": null,
   "metadata": {},
   "outputs": [],
   "source": [
    "list_prepare_input_file=[]\n",
    "for prepare_input_file_path in list_prepare_input_file_path: \n",
    "    print(\"Input prepare json file: {}\".format(prepare_input_file_path))\n",
    "    # Get and Check json input file content\n",
    "    prepare_input_file=read_input_parameters(prepare_input_file_path)\n",
    "    list_prepare_input_file.append(prepare_input_file)\n",
    "    print(json.dumps(prepare_input_file, indent=2))"
   ]
  },
  {
   "cell_type": "markdown",
   "metadata": {},
   "source": [
    "## Prepare configuration\n",
    "This part is to configure prepare pipeline. \n",
    "By default, it uses CARS demo data from source code copied in WORK_DIR/demo/ \n"
   ]
  },
  {
   "cell_type": "code",
   "execution_count": null,
   "metadata": {},
   "outputs": [],
   "source": [
    "# Create outputs_prepare subdirectory in CARS_WORK_DIR \n",
    "CARS_OUTPUTS_PREPARE_DIR = mkdir(CARS_WORK_DIR, \"outputs_prepare\")\n",
    "print(\"CARS_OUTPUTS_PREPARE_DIR : {} \".format(CARS_OUTPUTS_PREPARE_DIR))\n",
    "\n",
    "# CARS Configuration\n",
    "\n",
    "CARS_MODE = \"local_dask\" # Can be also pbs_dask if you have a PBS Cluster\n",
    "\n",
    "CARS_NB_WORKERS = 4      \n",
    "\n",
    "CARS_WALLTIME = \"01:00:00\" # 1 hour for DASK"
   ]
  },
  {
   "cell_type": "markdown",
   "metadata": {},
   "source": [
    "## Run CARS prepare pipeline for each pair\n",
    "for each JSON pair configuration in list_prepare_input_file above"
   ]
  },
  {
   "cell_type": "code",
   "execution_count": null,
   "metadata": {
    "scrolled": true
   },
   "outputs": [],
   "source": [
    "# Lancement de l'étape de prepare pour chaque paire\n",
    "prepare_pair_num = 1\n",
    "for prepare_input_file in list_prepare_input_file: \n",
    "    # Create numbered output prepare subdirectory for each pair \n",
    "    cars_output_prepare_dir = mkdir(CARS_OUTPUTS_PREPARE_DIR, \"cars_prepare-\"+str(prepare_pair_num ))\n",
    "    # CARS RUN PREPARE pipeline run \n",
    "    prepare.run(prepare_input_file, cars_output_prepare_dir, mode = CARS_MODE, nb_workers = CARS_NB_WORKERS, walltime=CARS_WALLTIME)\n",
    "    prepare_pair_num = prepare_pair_num + 1"
   ]
  },
  {
   "cell_type": "markdown",
   "metadata": {},
   "source": [
    "## CARS compute_dsm configuration"
   ]
  },
  {
   "cell_type": "code",
   "execution_count": null,
   "metadata": {},
   "outputs": [],
   "source": [
    "# CARS Output DSM directory creation\n",
    "CARS_OUTPUT_DSM_DIR = mkdir(CARS_WORK_DIR, \"output_dsm\")\n",
    "print(\"CARS_OUTPUT_DSM_DIR : {} \".format(CARS_OUTPUT_DSM_DIR))"
   ]
  },
  {
   "cell_type": "code",
   "execution_count": null,
   "metadata": {},
   "outputs": [],
   "source": [
    "# Get all content.json configuration files from cars prepare steps for input to compute_dsm\n",
    "list_compute_input_file_path = glob.glob(CARS_OUTPUTS_PREPARE_DIR+'/**/content.json', recursive=True)\n",
    "list_compute_input_file_path"
   ]
  },
  {
   "cell_type": "code",
   "execution_count": null,
   "metadata": {},
   "outputs": [],
   "source": [
    "list_compute_input_file = [read_preprocessing_content_file(file_path) for file_path in list_compute_input_file_path]"
   ]
  },
  {
   "cell_type": "code",
   "execution_count": null,
   "metadata": {},
   "outputs": [],
   "source": [
    "# Generate correlator configuration\n",
    "corr_config = corr_conf.configure_correlator()"
   ]
  },
  {
   "cell_type": "markdown",
   "metadata": {},
   "source": [
    "## Run CARS compute_dsm pipeline for all pairs\n"
   ]
  },
  {
   "cell_type": "code",
   "execution_count": null,
   "metadata": {
    "scrolled": true
   },
   "outputs": [],
   "source": [
    "compute_dsm.run(list_compute_input_file, CARS_OUTPUT_DSM_DIR, mode=CARS_MODE, nb_workers=CARS_NB_WORKERS,  corr_config = corr_config)"
   ]
  },
  {
   "cell_type": "markdown",
   "metadata": {},
   "source": [
    "## Show DSM and color"
   ]
  },
  {
   "cell_type": "code",
   "execution_count": null,
   "metadata": {},
   "outputs": [],
   "source": [
    "# Showing Imports\n",
    "import rasterio\n",
    "from rasterio.plot import show\n",
    "from matplotlib import pyplot as plt\n",
    "from matplotlib.colors import LightSource"
   ]
  },
  {
   "cell_type": "code",
   "execution_count": null,
   "metadata": {
    "scrolled": true
   },
   "outputs": [],
   "source": [
    "# Open DSM and show content with Rasterio\n",
    "CARS_OUTPUT_DSM=os.path.join(CARS_OUTPUT_DSM_DIR+\"/dsm.tif\")\n",
    "CARS_OUTPUT_COLOR=os.path.join(CARS_OUTPUT_DSM_DIR+\"/clr.tif\")\n",
    "\n",
    "dsm = rasterio.open(CARS_OUTPUT_DSM)\n",
    "print(\"DSM characteristics of {}:\".format(CARS_OUTPUT_DSM))\n",
    "print(\"Number of channels: {}\".format(dsm.count))\n",
    "print(\"Height, width = [{},{}]\".format(dsm.height, dsm.width))\n",
    "print(\"CRS: {}\".format(dsm.crs))\n",
    "print(\"Bounds: {}\".format(dsm.bounds))\n",
    "\n",
    "color = rasterio.open(CARS_OUTPUT_COLOR)\n",
    "print(\"\\nColor characteristics of {}:\".format(CARS_OUTPUT_DSM))\n",
    "print(\"Number of channels: {}\".format(color.count))\n",
    "print(\"Height, width = [{},{}]\".format(color.height, color.width))\n",
    "print(\"CRS: {}\".format(color.crs))"
   ]
  },
  {
   "cell_type": "code",
   "execution_count": null,
   "metadata": {},
   "outputs": [],
   "source": [
    "# Rasterio plot\n",
    "show(dsm)\n",
    "\n",
    "show(color)"
   ]
  },
  {
   "cell_type": "code",
   "execution_count": null,
   "metadata": {
    "scrolled": true
   },
   "outputs": [],
   "source": [
    "color_array =  color.read(1)\n",
    "plt.imshow(color_array)\n",
    "plt.show()\n",
    "\n",
    "dsm_array = dsm.read(1)\n",
    "plt.imshow(dsm_array,cmap=\"terrain\")\n",
    "plt.show()"
   ]
  }
 ],
 "metadata": {
  "kernelspec": {
   "display_name": "Python 3",
   "language": "python",
   "name": "python3"
  },
  "language_info": {
   "codemirror_mode": {
    "name": "ipython",
    "version": 3.0
   },
   "file_extension": ".py",
   "mimetype": "text/x-python",
   "name": "python",
   "nbconvert_exporter": "python",
   "pygments_lexer": "ipython3",
   "version": "3.8.5"
  }
 },
 "nbformat": 4,
 "nbformat_minor": 0
}