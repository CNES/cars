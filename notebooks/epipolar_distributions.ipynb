{
 "cells": [
  {
   "cell_type": "markdown",
   "metadata": {},
   "source": [
    "# Analyse epipolar distributions"
   ]
  },
  {
   "cell_type": "markdown",
   "metadata": {},
   "source": [
    "## Notebook parameters\n",
    "\n",
    "Those parameters need to be set before running the notebook."
   ]
  },
  {
   "cell_type": "code",
   "execution_count": null,
   "metadata": {},
   "outputs": [],
   "source": [
    "# Path to the cars folder\n",
    "cars_home = \"TODO\"\n",
    "# Path to the directory containing the content.json file of the prepare step output\n",
    "content_dir = \"TODO\""
   ]
  },
  {
   "cell_type": "markdown",
   "metadata": {},
   "source": [
    "## Imports"
   ]
  },
  {
   "cell_type": "code",
   "execution_count": null,
   "metadata": {},
   "outputs": [],
   "source": [
    "### Trick to override cars version\n",
    "import sys\n",
    "sys.path = [cars_home] + sys.path\n",
    "import os\n",
    "os.environ['OTB_APPLICATION_PATH'] = os.path.join(cars_home,'build','lib','otb','applications')+':'+os.environ['OTB_APPLICATION_PATH']\n",
    "###\n",
    "import numpy as np\n",
    "from scipy import stats\n",
    "import matplotlib as mp\n",
    "import matplotlib.pyplot as plt\n",
    "from cars.conf import output_prepare"
   ]
  },
  {
   "cell_type": "markdown",
   "metadata": {},
   "source": [
    "## Reading matches data\n",
    "\n",
    "First, we load matches data with numpy"
   ]
  },
  {
   "cell_type": "code",
   "execution_count": null,
   "metadata": {},
   "outputs": [],
   "source": [
    "conf = output_prepare.read_preprocessing_content_file(os.path.join(content_dir,'content.json'))\n",
    "matches = np.load(conf['preprocessing']['output']['matches'])\n",
    "raw_matches = np.load(os.path.join(content_dir,'raw_matches.npy'))\n",
    "cars_disp_min = conf['preprocessing']['output']['minimum_disparity']\n",
    "cars_disp_max = conf['preprocessing']['output']['maximum_disparity']"
   ]
  },
  {
   "cell_type": "markdown",
   "metadata": {},
   "source": [
    "From matches we can compute the epipolar error and disparity"
   ]
  },
  {
   "cell_type": "code",
   "execution_count": null,
   "metadata": {},
   "outputs": [],
   "source": [
    "epipolar_error = matches[:,1] - matches[:,3]\n",
    "raw_epipolar_error = raw_matches[:,1] - raw_matches[:,3]\n",
    "disparity = matches[:,2] - matches[:,0]\n",
    "raw_disparity = raw_matches[:,2] - raw_matches[:,0]"
   ]
  },
  {
   "cell_type": "code",
   "execution_count": null,
   "metadata": {},
   "outputs": [],
   "source": [
    "print('Disparity range as computed by cars: [{}, {}]'.format(cars_disp_min, cars_disp_max))"
   ]
  },
  {
   "cell_type": "markdown",
   "metadata": {},
   "source": [
    "## Distribution of epipolar error and disparity\n",
    "\n",
    "Lets have a look at distributions of epipolar error and disparity range. Red lines show the disparity range used. First we need to compute common bounds between raw and filtered matches."
   ]
  },
  {
   "cell_type": "code",
   "execution_count": null,
   "metadata": {},
   "outputs": [],
   "source": [
    "raw_epipolar_error_min = np.percentile(raw_epipolar_error,1)\n",
    "raw_epipolar_error_max = np.percentile(raw_epipolar_error,99)\n",
    "epipolar_error_min = min(np.min(epipolar_error),raw_epipolar_error_min)\n",
    "epipolar_error_max = max(np.max(epipolar_error), raw_epipolar_error_max)\n",
    "raw_disparity_min = np.percentile(raw_disparity,1)\n",
    "raw_disparity_max = np.percentile(raw_disparity,99)\n",
    "disparity_min = min(np.min(disparity),raw_disparity_min)\n",
    "disparity_max = max(np.max(disparity), raw_disparity_max)"
   ]
  },
  {
   "cell_type": "markdown",
   "metadata": {},
   "source": [
    "Now we can plot distribution of epipolar error and disparity, for raw and filtered matches."
   ]
  },
  {
   "cell_type": "code",
   "execution_count": null,
   "metadata": {},
   "outputs": [],
   "source": [
    "# resolution of histogram\n",
    "hist_resolution = 'scott'\n",
    "fig, ((ax0, ax1), (ax2, ax3)) = plt.subplots(ncols=2, nrows=2, figsize=(18,10))\n",
    "ax0.set_title(\"Raw epipolar error distribution\")\n",
    "ax0.set_xlabel(\"Epipolar error in pixels\")\n",
    "ax0.set_ylabel(\"Number of matches\")\n",
    "ax0.grid(True)\n",
    "n, bins, patches = ax0.hist(raw_epipolar_error, hist_resolution, alpha=0.7, range =(epipolar_error_min, epipolar_error_max), histtype='stepfilled')\n",
    "\n",
    "ax2.set_title(\"Corrected epipolar error distribution\")\n",
    "ax2.set_xlabel(\"Epipolar error in pixels\")\n",
    "ax2.set_ylabel(\"Number of matches\")\n",
    "ax2.grid(True)\n",
    "n, bins, patches = ax2.hist(epipolar_error, hist_resolution, alpha=0.7, range =(epipolar_error_min, epipolar_error_max), histtype='stepfilled')\n",
    "\n",
    "ax1.set_title(\"Raw disparity distribution\")\n",
    "ax1.set_xlabel(\"Disparity in pixels\")\n",
    "ax1.set_ylabel(\"Number of matches\")\n",
    "ax1.axvline(cars_disp_min, color='red')\n",
    "ax1.axvline(cars_disp_max, color='red')\n",
    "ax1.grid(True)\n",
    "n, bins, patches = ax1.hist(raw_disparity, hist_resolution, alpha=0.7, histtype='stepfilled', range=(disparity_min, disparity_max))\n",
    "\n",
    "ax3.set_title(\"Disparity distribution\")\n",
    "ax3.set_xlabel(\"Disparity in pixels\")\n",
    "ax3.axvline(cars_disp_min, color='red')\n",
    "ax3.axvline(cars_disp_max, color='red')\n",
    "ax3.grid(True)\n",
    "n, bins, patches = ax3.hist(disparity, hist_resolution, alpha=0.7, histtype='stepfilled', range=(disparity_min, disparity_max))\n",
    "\n",
    "fig.tight_layout()"
   ]
  },
  {
   "cell_type": "code",
   "execution_count": null,
   "metadata": {},
   "outputs": [],
   "source": [
    "epipolar_error_mean = epipolar_error.mean()\n",
    "epipolar_error_std = epipolar_error.std()\n",
    "print(\"Residual epipolar error: mean = {} pixels, stdev = {} pixels\".format(epipolar_error_mean, epipolar_error_std))"
   ]
  },
  {
   "cell_type": "markdown",
   "metadata": {},
   "source": [
    "## Spatial distribution of epipolar error and disparity range"
   ]
  },
  {
   "cell_type": "markdown",
   "metadata": {},
   "source": [
    "The following graphic show the spatial distribution of the epipolar error after grid correction by cars."
   ]
  },
  {
   "cell_type": "code",
   "execution_count": null,
   "metadata": {},
   "outputs": [],
   "source": [
    "# This parameter can be changed for coarser or finer aggregation\n",
    "bins = (100,100)"
   ]
  },
  {
   "cell_type": "markdown",
   "metadata": {},
   "source": [
    "We compute the mean epipolar error in each bin."
   ]
  },
  {
   "cell_type": "code",
   "execution_count": null,
   "metadata": {},
   "outputs": [],
   "source": [
    "clip_percentile=1\n",
    "stats_epi_2d, xedges, yedges,nb = stats.binned_statistic_2d(matches[:, 0], matches[:, 1], epipolar_error, bins=bins, statistic=\"mean\")\n",
    "count_epi_2d, xedges, yedges,nb = stats.binned_statistic_2d(matches[:, 0], matches[:, 1], epipolar_error, bins=bins, statistic=\"count\")\n",
    "\n",
    "# Cell centers\n",
    "x1d = (xedges[1:] + xedges[:-1])/2\n",
    "y1d = (yedges[1:] + yedges[:-1])/2\n",
    "x2d, y2d = np.meshgrid(x1d,y1d)"
   ]
  },
  {
   "cell_type": "markdown",
   "metadata": {},
   "source": [
    "Now we can display the spatial distribution of the epipolar error"
   ]
  },
  {
   "cell_type": "code",
   "execution_count": null,
   "metadata": {},
   "outputs": [],
   "source": [
    "fig, (ax0,ax1) = plt.subplots(ncols=2,figsize=(12,6))\n",
    "ax0.set_title(\"Epipolar error spatial distribution\")\n",
    "scatter0 = ax0.scatter(x2d.flatten(), y2d.flatten(), c = stats_epi_2d.flatten(), cmap='bwr' , marker='s',\n",
    "                      vmin=epipolar_error_mean - epipolar_error_std, vmax=epipolar_error_mean + epipolar_error_std, s= 6)\n",
    "ax0.legend(*scatter0.legend_elements(),loc='lower right', title='pixels')\n",
    "scatter1 = ax1.scatter(x2d.flatten(), y2d.flatten(), c = count_epi_2d.flatten(), cmap='YlGn', marker='s', s= 6)\n",
    "ax1.set_title(\"Number of matches in each bin\")\n",
    "ax1.legend(*scatter1.legend_elements(),loc='lower right', title='Number of matches')\n",
    "plt.xlabel('x')\n",
    "plt.ylabel('y')\n",
    "ax0.grid(True)\n",
    "ax1.grid(True)\n",
    "fig.tight_layout()"
   ]
  },
  {
   "cell_type": "markdown",
   "metadata": {},
   "source": [
    "Next, we compute disparity minimum, maximum and range width for each bin"
   ]
  },
  {
   "cell_type": "code",
   "execution_count": null,
   "metadata": {},
   "outputs": [],
   "source": [
    "stats_dispmin_2d, xedges, yedges,nb = stats.binned_statistic_2d(\n",
    "matches[:, 0], matches[:, 1], disparity, bins=bins, statistic=np.min)\n",
    "stats_dispmax_2d, xedges, yedges,nb = stats.binned_statistic_2d(\n",
    "matches[:, 0], matches[:, 1], disparity, bins=bins, statistic=np.max)\n",
    "disp_width = stats_dispmax_2d-stats_dispmin_2d\n",
    "# Cell centers\n",
    "x1d = (xedges[1:] + xedges[:-1])/2\n",
    "y1d = (yedges[1:] + yedges[:-1])/2\n",
    "\n",
    "x2d, y2d = np.meshgrid(x1d,y1d)"
   ]
  },
  {
   "cell_type": "markdown",
   "metadata": {},
   "source": [
    "We can now display the spatial distribution of disparity"
   ]
  },
  {
   "cell_type": "code",
   "execution_count": null,
   "metadata": {},
   "outputs": [],
   "source": [
    "fig, (ax0, ax1, ax2) = plt.subplots(ncols=3,figsize=(18,6))\n",
    "\n",
    "scatter0 = ax0.scatter(x2d.flatten(), y2d.flatten(), c = stats_dispmin_2d.flatten(), cmap='viridis', marker='s',\n",
    "                      vmin=cars_disp_min, vmax=cars_disp_max, s= 6)\n",
    "ax0.set_title(\"Minimum disparity spatial distribution\")\n",
    "ax0.legend(*scatter0.legend_elements(),loc='lower right', title='pixels')\n",
    "ax0.grid(True)\n",
    "scatter1 = ax1.scatter(x2d.flatten(), y2d.flatten(), c = stats_dispmax_2d.flatten(), cmap='viridis', marker='s',\n",
    "                      vmin=cars_disp_min, vmax=cars_disp_max, s= 6)\n",
    "ax1.set_title(\"Maximum disparity spatial distribution\")\n",
    "ax1.legend(*scatter1.legend_elements(),loc='lower right', title='pixels')\n",
    "ax1.grid(True)\n",
    "scatter2 = ax2.scatter(x2d.flatten(), y2d.flatten(), c = disp_width.flatten(), cmap='YlGn', marker='s',\n",
    "                      vmin=0, vmax=cars_disp_max-cars_disp_min, s= 6)\n",
    "ax2.set_title(\"Disparity range width spatial distribution\")\n",
    "try:\n",
    "    ax2.legend(*scatter2.legend_elements(),loc='lower right', title='pixels')\n",
    "except:\n",
    "    print(\"Cannot plot legend for disparity range\")\n",
    "ax2.grid(True)"
   ]
  },
  {
   "cell_type": "code",
   "execution_count": null,
   "metadata": {},
   "outputs": [],
   "source": []
  }
 ],
 "metadata": {
  "kernelspec": {
   "display_name": "cars-python-3.7-pandora-v1.b",
   "language": "python",
   "name": "cars-python-3.7-pandora-v1.b"
  },
  "language_info": {
   "codemirror_mode": {
    "name": "ipython",
    "version": 3
   },
   "file_extension": ".py",
   "mimetype": "text/x-python",
   "name": "python",
   "nbconvert_exporter": "python",
   "pygments_lexer": "ipython3",
   "version": "3.7.2"
  }
 },
 "nbformat": 4,
 "nbformat_minor": 4
}