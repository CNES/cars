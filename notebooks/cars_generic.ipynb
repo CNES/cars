{
 "cells": [
  {
   "cell_type": "markdown",
   "id": "3a89ee80",
   "metadata": {},
   "source": [
    "# CARS notebooks generic configuration\n",
    "This notebook have generic configuration and functions for CARS notebooks"
   ]
  },
  {
   "cell_type": "markdown",
   "id": "59444f49",
   "metadata": {},
   "source": [
    "## Generic imports"
   ]
  },
  {
   "cell_type": "code",
   "execution_count": null,
   "id": "6ab91b62",
   "metadata": {},
   "outputs": [],
   "source": [
    "# Generic imports for CARS notebooks\n",
    "import os\n",
    "import json\n",
    "import glob\n",
    "import shutil\n",
    "import tempfile\n",
    "import warnings\n",
    "\n",
    "# Generic imports from CARS\n",
    "import cars"
   ]
  },
  {
   "cell_type": "markdown",
   "id": "4a004223",
   "metadata": {},
   "source": [
    "## Generic functions"
   ]
  },
  {
   "cell_type": "code",
   "execution_count": null,
   "id": "0bae3032",
   "metadata": {},
   "outputs": [],
   "source": [
    "def mkdir(root_dir, name_dir):\n",
    "    \"\"\" \n",
    "    Make a directory in root directory\n",
    "    Returns the full path directory created\n",
    "    \"\"\"\n",
    "    try:\n",
    "        full_path_name_dir=os.path.join(root_dir,name_dir)\n",
    "        os.mkdir(full_path_name_dir)\n",
    "    except OSError:\n",
    "        print (\"Error mkdir %s \" % full_path_name_dir)\n",
    "    return full_path_name_dir\n",
    "\n",
    "def rmdir(name_dir):\n",
    "    \"\"\" \n",
    "    Remove a specified directory\n",
    "    \"\"\"\n",
    "    try:\n",
    "        shutil.rmtree(name_dir)\n",
    "    except OSError as e:\n",
    "        print(\"Error: %s - %s.\" % (e.filename, e.strerror))\n",
    "\n",
    "    \n"
   ]
  },
  {
   "cell_type": "markdown",
   "id": "674b46a6",
   "metadata": {},
   "source": [
    "## Generic configuration"
   ]
  },
  {
   "cell_type": "code",
   "execution_count": null,
   "id": "d316445c",
   "metadata": {},
   "outputs": [],
   "source": [
    "# Limit some outputs warnings\n",
    "warnings.filterwarnings(\"ignore\", category=FutureWarning)\n",
    "warnings.filterwarnings(\"ignore\", category=DeprecationWarning)"
   ]
  },
  {
   "cell_type": "markdown",
   "id": "73ed6a50",
   "metadata": {},
   "source": [
    "### Check CARS installation"
   ]
  },
  {
   "cell_type": "code",
   "execution_count": null,
   "id": "5b58dc08",
   "metadata": {},
   "outputs": [],
   "source": [
    "# Show cars version\n",
    "print(\"Show CARS version:\")\n",
    "!cars --version\n"
   ]
  },
  {
   "cell_type": "markdown",
   "id": "67a667fc",
   "metadata": {},
   "source": [
    "### Get CARS installation root directory from notebook"
   ]
  },
  {
   "cell_type": "code",
   "execution_count": null,
   "id": "5421e2fb",
   "metadata": {},
   "outputs": [],
   "source": [
    "CARS_ROOT_DIR = os.path.abspath('..')\n"
   ]
  },
  {
   "cell_type": "markdown",
   "id": "5099c224",
   "metadata": {},
   "source": [
    "### Create TMP Working directory "
   ]
  },
  {
   "cell_type": "code",
   "execution_count": null,
   "id": "200ae2d1",
   "metadata": {},
   "outputs": [],
   "source": [
    "tmpdir = tempfile.mkdtemp()\n",
    "CARS_WORK_DIR = mkdir(tmpdir, \"carswork\")"
   ]
  },
  {
   "cell_type": "markdown",
   "id": "ec6aafc3",
   "metadata": {},
   "source": [
    "### Demo data set up \n"
   ]
  },
  {
   "cell_type": "code",
   "execution_count": null,
   "id": "6cbba345",
   "metadata": {},
   "outputs": [],
   "source": [
    "# Copy data samples from CARS source code to work dir\n",
    "shutil.copy(os.path.join(CARS_ROOT_DIR,\"docs/source/demo/data_samples.tar.bz2\"), CARS_WORK_DIR)\n",
    "# decompact samples demo data \n",
    "print(\"Decompress CARS demo data to {}/data_samples\".format(CARS_WORK_DIR))\n",
    "! tar xfj {CARS_WORK_DIR+'/data_samples.tar.bz2'} -C {CARS_WORK_DIR}\n",
    "\n",
    "# Define CARS data inputs directory\n",
    "CARS_INPUTS_DIR=os.path.join(CARS_WORK_DIR, \"data_samples\")"
   ]
  }
 ],
 "metadata": {
  "kernelspec": {
   "display_name": "cars-0.4.0rc1.dev173+g29521c0.d20210615",
   "language": "python",
   "name": "cars-venv"
  },
  "language_info": {
   "codemirror_mode": {
    "name": "ipython",
    "version": 3
   },
   "file_extension": ".py",
   "mimetype": "text/x-python",
   "name": "python",
   "nbconvert_exporter": "python",
   "pygments_lexer": "ipython3",
   "version": "3.8.5"
  }
 },
 "nbformat": 4,
 "nbformat_minor": 5
}
