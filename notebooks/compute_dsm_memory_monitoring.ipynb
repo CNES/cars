{
 "cells": [
  {
   "cell_type": "markdown",
   "metadata": {},
   "source": [
    "# Monitoring of CARS memory consumption during full_res_dsm_pipeline step\n",
    "This notebook shows how to load data and plot graph to monitor memory consumption during execution of CARS `full_res_dsm_pipeline` step with Dask."
   ]
  },
  {
   "cell_type": "markdown",
   "metadata": {},
   "source": [
    "## Necessary imports"
   ]
  },
  {
   "cell_type": "code",
   "execution_count": 1,
   "metadata": {},
   "outputs": [],
   "source": [
    "import numpy as np\n",
    "import matplotlib as mp\n",
    "import matplotlib.pyplot as plt\n",
    "import os"
   ]
  },
  {
   "cell_type": "markdown",
   "metadata": {},
   "source": [
    "## Reading Data\n",
    "* `output_dir` should be replaced by the output folder of the compute DSM step. \n",
    "* `nb_workers_per_pbs_jobs` is the number of workers process per pbs job (2 by defaults)\n",
    "* `nb_pbs_jobs` is the number of pbs jobs (Number of workers divided by 'nb_workers_per_pbs_jobs')"
   ]
  },
  {
   "cell_type": "code",
   "execution_count": 2,
   "metadata": {},
   "outputs": [],
   "source": [
    "output_dir = 'TODO'\n",
    "nb_workers_per_pbs_job = 2\n",
    "nb_pbs_jobs = 100"
   ]
  },
  {
   "cell_type": "markdown",
   "metadata": {},
   "source": [
    "Next cell reads the data file if they are available for each worker. Note that data are updated as `compute_dsm goes`, so you can track updates by re-executing the cell."
   ]
  },
  {
   "cell_type": "code",
   "execution_count": 9,
   "metadata": {},
   "outputs": [],
   "source": [
    "data = []\n",
    "for i in range(0,nb_workers_per_pbs_job):\n",
    "    for j in range(0,nb_pbs_jobs):\n",
    "        data_file = os.path.join(output_dir,'dask_log','memory_{}-{}.npy'.format(j,i))\n",
    "        if os.path.isfile(data_file):\n",
    "            data.append(np.load(data_file))"
   ]
  },
  {
   "cell_type": "markdown",
   "metadata": {},
   "source": [
    "## Number of datasets in memory\n",
    "The next cell shows the number of dataset (points clouds, rasters and total from left to right) for each worker."
   ]
  },
  {
   "cell_type": "code",
   "execution_count": null,
   "metadata": {},
   "outputs": [],
   "source": [
    "fig, axes = plt.subplots(ncols=3,nrows=1,figsize=(20,5), sharey=True)\n",
    "for d in data:\n",
    "    axes[0].set_title(\"Number of points cloud datasets stored against time\")\n",
    "    axes[0].set_xlabel(\"Elapsed time in seconds\")\n",
    "    axes[0].set_ylabel(\"Number of datasets\")\n",
    "    axes[0].grid(True)\n",
    "    axes[0].plot(d[:,0],d[:,1])\n",
    "for d in data:\n",
    "    axes[1].set_title(\"Number of rasters datasets stored against time\")\n",
    "    axes[1].set_xlabel(\"Elapsed time in seconds\")\n",
    "    axes[1].set_ylabel(\"Number of datasets\")\n",
    "    axes[1].grid(True)\n",
    "    axes[1].plot(d[:,0],d[:,3])\n",
    "for d in data:\n",
    "    axes[2].set_title(\"Total number of datasets stored against time\")\n",
    "    axes[2].set_xlabel(\"Elapsed time in seconds\")\n",
    "    axes[2].set_ylabel(\"Number of datasets\")\n",
    "    axes[2].grid(True)\n",
    "    axes[2].plot(d[:,0],d[:,3]+d[:,1])\n",
    "    "
   ]
  },
  {
   "cell_type": "markdown",
   "metadata": {},
   "source": [
    "## Estimated memory consumed by datasets\n",
    "The next cell shows the estimated memory consumed by those datasets (points clouds, rasters and total from left to right) for each worker."
   ]
  },
  {
   "cell_type": "code",
   "execution_count": null,
   "metadata": {},
   "outputs": [],
   "source": [
    "fig, axes = plt.subplots(ncols=3,nrows=1,figsize=(20,5), sharey=True)\n",
    "for d in data:\n",
    "    axes[0].set_title(\"Estimated points cloud used memory against time\")\n",
    "    axes[0].set_xlabel(\"Elapsed time in seconds\")\n",
    "    axes[0].set_ylabel(\"Memory in Mb\")\n",
    "    axes[0].grid(True)\n",
    "    axes[0].plot(d[:,0],d[:,2]/1000000)\n",
    "for d in data:\n",
    "    axes[1].set_title(\"Estimated rasters used memory against time\")\n",
    "    axes[1].set_xlabel(\"Elapsed time in seconds\")\n",
    "    axes[1].set_ylabel(\"Memory in Mb\")\n",
    "    axes[1].grid(True)\n",
    "    axes[1].plot(d[:,0],d[:,4]/1000000)\n",
    "for d in data:\n",
    "    axes[2].set_title(\"Total estimated memory for datasets against time\")\n",
    "    axes[2].set_xlabel(\"Elapsed time in seconds\")\n",
    "    axes[2].set_ylabel(\"Memory in Mb\")\n",
    "    axes[2].grid(True)\n",
    "    axes[2].plot(d[:,0],(d[:,2]+d[:,4])/1000000)"
   ]
  },
  {
   "cell_type": "markdown",
   "metadata": {},
   "source": [
    "## Memory used by workers processes\n",
    "In addition, the above figure shows the memory consumed by the full python processes of workers, as estimated by ```psutils```. Left graph shows total estimated memory for datasets, for the sake of comparison."
   ]
  },
  {
   "cell_type": "code",
   "execution_count": null,
   "metadata": {},
   "outputs": [],
   "source": [
    "fig, (ax0, ax1) = plt.subplots(ncols=2, nrows=1, figsize=(20,5), sharey=True)\n",
    "for d in data:\n",
    "    ax0.set_title(\"Worker process memory against time\")\n",
    "    ax0.set_xlabel(\"Elapsed time in seconds\")\n",
    "    ax0.set_ylabel(\"Memory in Mb\")\n",
    "    ax0.grid(True)\n",
    "    ax0.plot(d[:,0],d[:,5]/1000000)\n",
    "for d in data:\n",
    "    ax1.set_title(\"Total estimated memory for datasets against time\")\n",
    "    ax1.set_xlabel(\"Elapsed time in seconds\")\n",
    "    ax1.set_ylabel(\"Memory in Mb\")\n",
    "    ax1.grid(True)\n",
    "    ax1.plot(d[:,0],(d[:,2]+d[:,4])/1000000)"
   ]
  }
 ],
 "metadata": {
  "kernelspec": {
   "display_name": "AmaltheeClient_Test",
   "language": "python",
   "name": "amalthee_test"
  },
  "language_info": {
   "codemirror_mode": {
    "name": "ipython",
    "version": 3
   },
   "file_extension": ".py",
   "mimetype": "text/x-python",
   "name": "python",
   "nbconvert_exporter": "python",
   "pygments_lexer": "ipython3",
   "version": "3.8.5"
  }
 },
 "nbformat": 4,
 "nbformat_minor": 4
}
