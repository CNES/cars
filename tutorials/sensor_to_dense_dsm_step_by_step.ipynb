{
 "cells": [
  {
   "cell_type": "markdown",
   "id": "16eb7b25-7d54-4dc0-bdf6-f8ffad496dc2",
   "metadata": {},
   "source": [
    "# Dense dsm step by step from sensor images\n",
    "\n",
    "This notebook run step by step the dense dsm pipeline, from sensor images inputs to terrain DSM for one pair.\n"
   ]
  },
  {
   "cell_type": "markdown",
   "id": "1591b3bd-2f4c-4c5e-a65d-752b90e37418",
   "metadata": {},
   "source": [
    "### Imports"
   ]
  },
  {
   "cell_type": "code",
   "execution_count": null,
   "id": "7f7b6fe6-b60c-4f99-948b-2b7a1af4f52a",
   "metadata": {},
   "outputs": [],
   "source": [
    "# Notebook local imports\n",
    "\n",
    "import os\n",
    "import math\n",
    "import numpy as np\n",
    "###\n",
    "import warnings\n",
    "# Filter warnings\n",
    "warnings.filterwarnings(\"ignore\",category=UserWarning)\n",
    "# import pretty print\n",
    "import pprint \n",
    "pp = pprint.PrettyPrinter(indent=4)\n",
    "\n",
    "# import external function for notebook\n",
    "from notebook_helpers import get_full_data, show_data, save_data, get_dir_path, set_up_demo_inputs"
   ]
  },
  {
   "cell_type": "code",
   "execution_count": null,
   "id": "72c0030d-8b0d-4ca9-84e7-370af1ecc8f4",
   "metadata": {},
   "outputs": [],
   "source": [
    "# CARS imports\n",
    "\n",
    "# Applications\n",
    "from cars.applications.application import Application\n",
    "from cars.applications.grid_generation import grid_correction\n",
    "from cars.applications.sparse_matching import sparse_matching_tools\n",
    "from cars.applications.dem_generation import dem_generation_tools\n",
    "from cars.applications.dem_generation import dem_generation_constants as dem_gen_cst\n",
    "\n",
    "# Pipelines\n",
    "import cars.pipelines.parameters.sensor_inputs_constants as sens_cst\n",
    "from cars.pipelines.parameters import sensor_inputs, output_parameters\n",
    "from cars.pipelines.pipeline_constants import GEOMETRY_PLUGIN\n",
    "\n",
    "# Conf, core, orchestrator\n",
    "from cars.core import cars_logging\n",
    "from cars.core import inputs, preprocessing\n",
    "from cars.core.utils import safe_makedirs\n",
    "from cars.orchestrator import orchestrator\n",
    "from cars.core.utils import make_relative_path_absolute\n",
    "from cars import import_plugins"
   ]
  },
  {
   "cell_type": "code",
   "execution_count": null,
   "id": "7be5977b-c916-424f-8c50-8c2bc9ec63e8",
   "metadata": {},
   "outputs": [],
   "source": [
    "# Show CARS version\n",
    "from cars import __version__\n",
    "print(\"CARS version used : {}\".format(__version__))"
   ]
  },
  {
   "cell_type": "code",
   "execution_count": null,
   "id": "e72c95ab",
   "metadata": {},
   "outputs": [],
   "source": [
    "# Import external plugins\n",
    "import_plugins()"
   ]
  },
  {
   "cell_type": "markdown",
   "id": "e345f961-0e80-453f-afe6-b15a7f026f28",
   "metadata": {},
   "source": [
    "---------\n",
    "\n",
    "## Inputs/Outputs"
   ]
  },
  {
   "cell_type": "markdown",
   "id": "b35429a0-0a8e-4a83-ae4f-506777fbfdb9",
   "metadata": {},
   "source": [
    "### Define outputs"
   ]
  },
  {
   "cell_type": "code",
   "execution_count": null,
   "id": "750644f6-96d5-45d9-979c-980183ad4e9a",
   "metadata": {},
   "outputs": [],
   "source": [
    "# Modify with your own output path if needed\n",
    "output_dir = os.path.join(get_dir_path(), \"output_notebook\")\n",
    "print(output_dir)"
   ]
  },
  {
   "cell_type": "markdown",
   "id": "e87bf76c-08c6-4e89-84a5-0657fe6f08c6",
   "metadata": {},
   "source": [
    "### Define inputs"
   ]
  },
  {
   "cell_type": "code",
   "execution_count": null,
   "id": "2f138b48-7fb7-4286-9cba-779cd6246212",
   "metadata": {},
   "outputs": [],
   "source": [
    "# By default, the notebook use data_gizeh_small.tar.bz2, data_gizeh is available also (performance dependent).\n",
    "# For you own data: Modify input_dir_path and modify all images, geometric models and color file names below\n",
    "input_dir_path = set_up_demo_inputs(\"data_gizeh_small\")\n",
    "\n",
    "inputs_conf = {\n",
    "    \"sensors\": {\n",
    "        \"left\": {\n",
    "            \"image\": os.path.join(input_dir_path, \"img1.tif\"),\n",
    "            \"geomodel\": {\n",
    "              \"path\": os.path.join(input_dir_path, \"img1.geom\")\n",
    "            },\n",
    "            \"color\": os.path.join(input_dir_path, \"color1.tif\")\n",
    "        },\n",
    "        \"right\": {\n",
    "            \"image\": os.path.join(input_dir_path, \"img2.tif\"),\n",
    "            \"geomodel\": {\n",
    "              \"path\": os.path.join(input_dir_path, \"img2.geom\")\n",
    "            }\n",
    "        },   \n",
    "    },\n",
    "    \"pairing\": [[\"left\", \"right\"]]\n",
    "}\n",
    "\n",
    "updated_inputs_conf = sensor_inputs.sensors_check_inputs(inputs_conf)\n",
    "pp.pprint(updated_inputs_conf)"
   ]
  },
  {
   "cell_type": "code",
   "execution_count": null,
   "id": "92bfe09e",
   "metadata": {},
   "outputs": [],
   "source": [
    "# Get geometry plugin\n",
    "(\n",
    "    _,\n",
    "    updated_inputs_conf[GEOMETRY_PLUGIN],\n",
    "    geom_plugin_without_dem_and_geoid,\n",
    "    geom_plugin_with_dem_and_geoid,\n",
    "    _\n",
    ") = sensor_inputs.check_geometry_plugin(\n",
    "    updated_inputs_conf, {}, updated_inputs_conf.get(GEOMETRY_PLUGIN, None)\n",
    ")"
   ]
  },
  {
   "cell_type": "markdown",
   "id": "805d1a8e-8c19-48dd-a583-88dccf757e6c",
   "metadata": {},
   "source": [
    "---------\n",
    "\n",
    "## Applications Init"
   ]
  },
  {
   "cell_type": "markdown",
   "id": "a000b584-d32b-4bfb-94fd-59b73b3c64bb",
   "metadata": {},
   "source": [
    "#### GridGeneration\n",
    "\n",
    "This application generates epipolar grids corresponding to sensor pair"
   ]
  },
  {
   "cell_type": "code",
   "execution_count": null,
   "id": "0b94cdfd-615a-4894-804f-4fa051f7dd3f",
   "metadata": {},
   "outputs": [],
   "source": [
    "epipolar_grid_generation_application = Application(\"grid_generation\")"
   ]
  },
  {
   "cell_type": "markdown",
   "id": "fce2db08-74cf-40a8-bafc-9cddac747ff4",
   "metadata": {},
   "source": [
    "#### Resampling\n",
    "\n",
    "This application generates epipolar images from epipolar grids "
   ]
  },
  {
   "cell_type": "code",
   "execution_count": null,
   "id": "c760ceba-7dd2-4266-a906-0393a93bbb53",
   "metadata": {},
   "outputs": [],
   "source": [
    "resampling_application = Application(\"resampling\")"
   ]
  },
  {
   "cell_type": "markdown",
   "id": "bad024a7-4463-4f79-835f-23c1c0813bc3",
   "metadata": {},
   "source": [
    "#### SparseMatching\n",
    "\n",
    "This application generates sparse matches of stereo images pairs"
   ]
  },
  {
   "cell_type": "code",
   "execution_count": null,
   "id": "0733714e-8e06-4f0d-8a06-e0dd17b5f6bc",
   "metadata": {},
   "outputs": [],
   "source": [
    "sparse_matching_application = Application(\"sparse_matching\")"
   ]
  },
  {
   "cell_type": "markdown",
   "id": "016739ef-fbac-44c6-9158-ee6a28a0155a",
   "metadata": {},
   "source": [
    "#### Dem Generation\n",
    "This application generates dem when initial_elevation is not provided"
   ]
  },
  {
   "cell_type": "code",
   "execution_count": null,
   "id": "80e159be-672e-401b-88e9-215bf0780a9f",
   "metadata": {},
   "outputs": [],
   "source": [
    "dem_generation_application = Application(\"dem_generation\")"
   ]
  },
  {
   "cell_type": "markdown",
   "id": "9b1bb4ca-36c9-490c-b20f-eb4987183e45",
   "metadata": {},
   "source": [
    "#### DenseMatching\n",
    "\n",
    "This application generates dense matches of stereo images pairs"
   ]
  },
  {
   "cell_type": "code",
   "execution_count": null,
   "id": "9187b0a1-ffda-445d-a2ca-6305a55a1852",
   "metadata": {},
   "outputs": [],
   "source": [
    "dense_matching_application = Application(\"dense_matching\")"
   ]
  },
  {
   "cell_type": "code",
   "execution_count": null,
   "id": "e029a9ed",
   "metadata": {},
   "outputs": [],
   "source": [
    "corr_cfg = dense_matching_application.loader.get_conf()\n",
    "left_image = inputs_conf[\"sensors\"][\"left\"][\"image\"]\n",
    "right_image = inputs_conf[\"sensors\"][\"right\"][\"image\"]\n",
    "dense_matching_application.corr_config = (\n",
    "    dense_matching_application.loader.check_conf(\n",
    "        corr_cfg, left_image, right_image\n",
    "    )\n",
    ")"
   ]
  },
  {
   "cell_type": "markdown",
   "id": "70fc57f9-6aac-4e1f-8ec4-4bd674515867",
   "metadata": {},
   "source": [
    "#### Show used application configuration"
   ]
  },
  {
   "cell_type": "code",
   "execution_count": null,
   "id": "88b285eb-c4bc-4dcf-9379-34b324ea67df",
   "metadata": {},
   "outputs": [],
   "source": [
    "# Example with dense matching application\n",
    "dense_matching_application.print_config()"
   ]
  },
  {
   "cell_type": "markdown",
   "id": "a7860234-b211-466a-8cc2-43a1fb769839",
   "metadata": {},
   "source": [
    "#### Triangulation\n",
    "\n",
    "This application triangulates matches, in order to get each (X, Y, Z) point position"
   ]
  },
  {
   "cell_type": "code",
   "execution_count": null,
   "id": "c3904b20-dd90-4202-a91f-6186c51a3800",
   "metadata": {},
   "outputs": [],
   "source": [
    "triangulation_application = Application(\"triangulation\")"
   ]
  },
  {
   "cell_type": "markdown",
   "id": "d84ca47c-e520-4488-bfa4-7ff6c85ce78c",
   "metadata": {},
   "source": [
    "#### PointCloudFusion\n",
    "\n",
    "This application performs the fusion of epipolar points from pairs to a terrain point cloud"
   ]
  },
  {
   "cell_type": "code",
   "execution_count": null,
   "id": "29e57ea2-84a2-4598-9218-032cce1678ef",
   "metadata": {},
   "outputs": [],
   "source": [
    "pc_fusion_application = Application(\"point_cloud_fusion\")"
   ]
  },
  {
   "cell_type": "markdown",
   "id": "2f4b68fe-f0f5-4e58-9a7c-06f976cf0235",
   "metadata": {},
   "source": [
    "#### PointCloudOutlierRemoval : small components\n",
    "\n",
    "This application removes outlier points. The method used is \"small component removal\""
   ]
  },
  {
   "cell_type": "code",
   "execution_count": null,
   "id": "8cac0f1d-542f-4bc1-a1b6-b0fffe6bd6e2",
   "metadata": {},
   "outputs": [],
   "source": [
    "conf_outlier_removal_small_components = {\"method\": \"small_components\", \"activated\": True}\n",
    "pc_outlier_removal_small_comp_application = Application(\"point_cloud_outlier_removal\", cfg=conf_outlier_removal_small_components)"
   ]
  },
  {
   "cell_type": "markdown",
   "id": "51682146-3b56-471e-9530-44fdc53332cd",
   "metadata": {},
   "source": [
    "#### PointCloudOutlierRemoval : statistical\n",
    "\n",
    "This application removes outlier points. The method used is \"statistical removal\""
   ]
  },
  {
   "cell_type": "code",
   "execution_count": null,
   "id": "2d9eaf2e-b3b9-4c1a-baa9-5c4474902ddc",
   "metadata": {},
   "outputs": [],
   "source": [
    "conf_outlier_removal_small_statistical = {\"method\": \"statistical\", \"activated\": True}\n",
    "pc_outlier_removal_stats_application = Application(\"point_cloud_outlier_removal\", cfg=conf_outlier_removal_small_statistical)"
   ]
  },
  {
   "cell_type": "markdown",
   "id": "e32e187c-92f7-4b79-ab82-74fae9f1553d",
   "metadata": {},
   "source": [
    "#### PointCloudRasterization\n",
    "\n",
    "This application performs the rasterization of a terrain point cloint."
   ]
  },
  {
   "cell_type": "code",
   "execution_count": null,
   "id": "cc196e18-d5ad-4441-93fb-a2c8f6fa69a9",
   "metadata": {},
   "outputs": [],
   "source": [
    "conf_rasterization = { \n",
    "    \"method\": \"simple_gaussian\",\n",
    "    \"dsm_radius\": 3,\n",
    "    \"sigma\": 0.3\n",
    "}\n",
    "rasterization_application = Application(\"point_cloud_rasterization\", cfg=conf_rasterization)"
   ]
  },
  {
   "cell_type": "markdown",
   "id": "d7b6424b-09a6-4c5c-ac55-3f9972a0d5c8",
   "metadata": {},
   "source": [
    "### Create orchestrator\n"
   ]
  },
  {
   "cell_type": "code",
   "execution_count": null,
   "id": "9df071c0-5478-464f-bec4-a08b46d3eeb3",
   "metadata": {},
   "outputs": [],
   "source": [
    "# Use sequential mode in notebook\n",
    "orchestrator_conf = {\"mode\": \"sequential\"}\n",
    "cars_orchestrator = orchestrator.Orchestrator(orchestrator_conf=orchestrator_conf, out_dir=output_dir)"
   ]
  },
  {
   "cell_type": "markdown",
   "id": "ced933d0-15a0-448e-b426-cd3171a609d7",
   "metadata": {},
   "source": [
    "---------\n",
    "\n",
    "## Run pipeline step by step from sensors to DSM"
   ]
  },
  {
   "cell_type": "markdown",
   "id": "02b096ba-cdd3-47e5-9778-ce4fa8f3a3c6",
   "metadata": {},
   "source": [
    "### Sensors images generation\n",
    "\n",
    "From input configuration \"inputs\" seen before"
   ]
  },
  {
   "cell_type": "code",
   "execution_count": null,
   "id": "1fc74dcd-eaa7-4bed-b1c9-ae5369e1a0bc",
   "metadata": {},
   "outputs": [],
   "source": [
    "_, sensor_image_left, sensor_image_right = sensor_inputs.generate_inputs(updated_inputs_conf, geom_plugin_without_dem_and_geoid)[0]"
   ]
  },
  {
   "cell_type": "markdown",
   "id": "35fa45cc-8969-444a-a524-f51acda84322",
   "metadata": {},
   "source": [
    "### Grid Generation : epipolar grid generation"
   ]
  },
  {
   "cell_type": "code",
   "execution_count": null,
   "id": "604e0309-5615-4320-ba1b-fc0e5f018c39",
   "metadata": {},
   "outputs": [],
   "source": [
    "geom_plugin = geom_plugin_with_dem_and_geoid\n",
    "if updated_inputs_conf[\"initial_elevation\"][\"dem\"] is None:\n",
    "    geom_plugin = geom_plugin_without_dem_and_geoid\n",
    "\n",
    "grid_left, grid_right = epipolar_grid_generation_application.run(\n",
    "    sensor_image_left,\n",
    "    sensor_image_right,\n",
    "    geom_plugin,\n",
    "    orchestrator=cars_orchestrator\n",
    ")"
   ]
  },
  {
   "cell_type": "markdown",
   "id": "bdc39b9a-b16a-40cb-b7a7-bbe6a9f15127",
   "metadata": {},
   "source": [
    "### Resampling : epipolar images generation\n"
   ]
  },
  {
   "cell_type": "code",
   "execution_count": null,
   "id": "249c01e1-7969-4059-9085-64d02ce5ba0a",
   "metadata": {},
   "outputs": [],
   "source": [
    "epipolar_image_left, epipolar_image_right = resampling_application.run(\n",
    "    sensor_image_left,\n",
    "    sensor_image_right,\n",
    "    grid_left,\n",
    "    grid_right,\n",
    "    orchestrator=cars_orchestrator,\n",
    "    margins_fun=sparse_matching_application.get_margins_fun()\n",
    ")"
   ]
  },
  {
   "cell_type": "markdown",
   "id": "bed4e090-17ca-4199-8983-f8bf207972a5",
   "metadata": {},
   "source": [
    "### Show epipolar image"
   ]
  },
  {
   "cell_type": "code",
   "execution_count": null,
   "id": "9729be2b-62e0-4cdb-a5ab-5ea859525681",
   "metadata": {},
   "outputs": [],
   "source": [
    "data_image_left = get_full_data(epipolar_image_left, \"im\")\n",
    "show_data(data_image_left, mode=\"image\")"
   ]
  },
  {
   "cell_type": "code",
   "execution_count": null,
   "id": "44287ce1",
   "metadata": {},
   "outputs": [],
   "source": [
    "data_image_right = get_full_data(epipolar_image_right, \"im\")\n",
    "show_data(data_image_right, mode=\"image\")"
   ]
  },
  {
   "cell_type": "markdown",
   "id": "48c814dd-91b9-4274-af24-4b54de1fd52a",
   "metadata": {},
   "source": [
    "###  Sparse matching: compute sifts"
   ]
  },
  {
   "cell_type": "code",
   "execution_count": null,
   "id": "ca76004f-257e-490e-b9db-3e4b8bc8beae",
   "metadata": {},
   "outputs": [],
   "source": [
    "epipolar_matches_left, _ = sparse_matching_application.run(\n",
    "    epipolar_image_left,\n",
    "    epipolar_image_right,\n",
    "    grid_left.attributes[\"disp_to_alt_ratio\"],\n",
    "    orchestrator=cars_orchestrator\n",
    ")"
   ]
  },
  {
   "cell_type": "markdown",
   "id": "fdd5aece-cacb-4d06-8421-4d0719c9ed18",
   "metadata": {},
   "source": [
    "### Grid correction: correct epipolar grids from sparse matches\n",
    "Find correction to apply, and generate new right epipolar grid"
   ]
  },
  {
   "cell_type": "markdown",
   "id": "ddebc80e-0e6e-4701-9aac-b80454b8fe97",
   "metadata": {},
   "source": [
    "#### Filter matches"
   ]
  },
  {
   "cell_type": "code",
   "execution_count": null,
   "id": "2a484184-b526-4828-ae47-b950aa387623",
   "metadata": {},
   "outputs": [],
   "source": [
    "matches_array = sparse_matching_application.filter_matches(\n",
    "    epipolar_matches_left, \n",
    "    grid_left,\n",
    "    grid_right,\n",
    "    orchestrator=cars_orchestrator\n",
    ")"
   ]
  },
  {
   "cell_type": "markdown",
   "id": "c3b1edad-5099-4eaa-b0f7-a8180c9e7c51",
   "metadata": {},
   "source": [
    "#### Estimate grid correction"
   ]
  },
  {
   "cell_type": "code",
   "execution_count": null,
   "id": "8428c2ca-29e7-4651-be90-96ac507f0608",
   "metadata": {},
   "outputs": [],
   "source": [
    "grid_correction_coef, corrected_matches_array, _, _, _ = grid_correction.estimate_right_grid_correction(matches_array, grid_right)"
   ]
  },
  {
   "cell_type": "markdown",
   "id": "6ff3538a-8925-450e-a7a1-431ad8ef5dd6",
   "metadata": {},
   "source": [
    "#### Correct right grid"
   ]
  },
  {
   "cell_type": "code",
   "execution_count": null,
   "id": "1cf32b1f-d1d8-4df4-aff1-650f33d8cf3f",
   "metadata": {},
   "outputs": [],
   "source": [
    "corrected_grid_right = grid_correction.correct_grid(grid_right, grid_correction_coef, False, output_dir)"
   ]
  },
  {
   "cell_type": "markdown",
   "id": "96348e1a-5b8c-4b64-a9c1-85cf9f227ad5",
   "metadata": {},
   "source": [
    "#### Triangulate matches"
   ]
  },
  {
   "cell_type": "code",
   "execution_count": null,
   "id": "9dc0b956-62a9-4e13-9e2d-e1946a241b66",
   "metadata": {},
   "outputs": [],
   "source": [
    "# triangulate matches\n",
    "triangulated_matches = dem_generation_tools.triangulate_sparse_matches(\n",
    "    sensor_image_left,\n",
    "    sensor_image_right,\n",
    "    grid_left,\n",
    "    corrected_grid_right,\n",
    "    corrected_matches_array,\n",
    "    geometry_plugin=geom_plugin,\n",
    ")\n",
    "\n",
    "# filter triangulated_matches\n",
    "filtered_triangulated_matches = sparse_matching_tools.filter_point_cloud_matches(\n",
    "    triangulated_matches,\n",
    "    matches_filter_knn=(\n",
    "        sparse_matching_application.get_matches_filter_knn()\n",
    "    ),\n",
    "    matches_filter_dev_factor=(\n",
    "        sparse_matching_application.get_matches_filter_dev_factor()\n",
    "    ),\n",
    ")\n"
   ]
  },
  {
   "cell_type": "markdown",
   "id": "022ca52a-6501-49ed-a75c-101482da5aae",
   "metadata": {},
   "source": [
    "#### Generate dem and update objects"
   ]
  },
  {
   "cell_type": "code",
   "execution_count": null,
   "id": "54d1d235-7e51-4c8c-81b2-8602e6cef454",
   "metadata": {},
   "outputs": [],
   "source": [
    "\n",
    "# Generate dem\n",
    "dem = dem_generation_application.run(\n",
    "    [triangulated_matches], cars_orchestrator.out_dir, updated_inputs_conf[sens_cst.INITIAL_ELEVATION][sens_cst.GEOID]\n",
    ")\n",
    "dem_min = dem.attributes[dem_gen_cst.DEM_MIN_PATH]\n",
    "dem_max = dem.attributes[dem_gen_cst.DEM_MAX_PATH]\n",
    "\n",
    "if updated_inputs_conf[sens_cst.INITIAL_ELEVATION][sens_cst.DEM_PATH] is None:  \n",
    "    dem_median = dem.attributes[dem_gen_cst.DEM_MEDIAN_PATH]\n",
    "    \n",
    "    # Generate geometry loader with dem and geoid\n",
    "    updated_inputs_conf[sens_cst.INITIAL_ELEVATION][sens_cst.DEM_PATH] = dem_median\n",
    "    (\n",
    "        _,\n",
    "        _,\n",
    "        geom_plugin_without_dem_and_geoid,\n",
    "        geom_plugin_with_dem_and_geoid,\n",
    "        _\n",
    "    ) = sensor_inputs.check_geometry_plugin(\n",
    "        updated_inputs_conf, {}, updated_inputs_conf.get(GEOMETRY_PLUGIN, None)\n",
    "    )\n",
    "    \n",
    "    # Generate new objects\n",
    "    new_grid_left, new_grid_right = epipolar_grid_generation_application.run(\n",
    "        sensor_image_left,\n",
    "        sensor_image_right,\n",
    "        geom_plugin_with_dem_and_geoid,\n",
    "        orchestrator=cars_orchestrator\n",
    "    )\n",
    "    \n",
    "    # Correct grids with former matches\n",
    "    # Transform matches to new grids\n",
    "    new_grid_matches_array = (\n",
    "        geom_plugin_without_dem_and_geoid.transform_matches_from_grids(\n",
    "            corrected_matches_array,\n",
    "            grid_left,\n",
    "            corrected_grid_right,\n",
    "            new_grid_left,\n",
    "            new_grid_right,\n",
    "        )\n",
    "    )\n",
    "\n"
   ]
  },
  {
   "cell_type": "code",
   "execution_count": null,
   "id": "365ee163",
   "metadata": {},
   "outputs": [],
   "source": [
    "print(corrected_matches_array)\n",
    "print(new_grid_matches_array)"
   ]
  },
  {
   "cell_type": "code",
   "execution_count": null,
   "id": "d0053c14",
   "metadata": {},
   "outputs": [],
   "source": [
    "    # Estimate grid_correction\n",
    "    (\n",
    "        grid_correction_coef,\n",
    "        corrected_matches_array,\n",
    "        _,\n",
    "        _,\n",
    "        _,\n",
    "    ) = grid_correction.estimate_right_grid_correction(\n",
    "        new_grid_matches_array,\n",
    "        new_grid_right,\n",
    "    )\n",
    "\n",
    "print(grid_correction_coef)"
   ]
  },
  {
   "cell_type": "code",
   "execution_count": null,
   "id": "175aaaa5",
   "metadata": {},
   "outputs": [],
   "source": [
    "    # Correct grid right\n",
    "    print(new_grid_right)\n",
    "    corrected_grid_right = grid_correction.correct_grid(\n",
    "        new_grid_right,\n",
    "        grid_correction_coef,\n",
    "        False, \n",
    "        output_dir\n",
    "    )\n",
    "    corrected_grid_left = new_grid_left\n",
    "\n",
    "\n",
    "    print(corrected_grid_right)"
   ]
  },
  {
   "cell_type": "code",
   "execution_count": null,
   "id": "fbf6d361",
   "metadata": {},
   "outputs": [],
   "source": [
    "    # Triangulate new matches\n",
    "    triangulated_matches = dem_generation_tools.triangulate_sparse_matches(\n",
    "        sensor_image_left,\n",
    "        sensor_image_right,\n",
    "        corrected_grid_left,\n",
    "        corrected_grid_right,\n",
    "        corrected_matches_array,\n",
    "        geometry_plugin=geom_plugin,\n",
    "    )"
   ]
  },
  {
   "cell_type": "markdown",
   "id": "fdadcfb0-0e07-4913-a538-a9131043641a",
   "metadata": {},
   "source": [
    "### Estimate disp min and disp max from sparse matches"
   ]
  },
  {
   "cell_type": "code",
   "execution_count": null,
   "id": "82c134d6-ca65-4273-84a7-47dbe47a6a22",
   "metadata": {},
   "outputs": [],
   "source": [
    "dmin, dmax = sparse_matching_tools.compute_disp_min_disp_max(\n",
    "    triangulated_matches,\n",
    "    cars_orchestrator,\n",
    "    disp_margin=(\n",
    "        sparse_matching_application.get_disparity_margin()\n",
    "    ),\n",
    "    disp_to_alt_ratio=grid_left.attributes[\"disp_to_alt_ratio\"]\n",
    ")"
   ]
  },
  {
   "cell_type": "markdown",
   "id": "7969d19d-87ca-4f02-966a-0b0e7a8901d8",
   "metadata": {},
   "source": [
    "Compute disparity grids range (min and max) "
   ]
  },
  {
   "cell_type": "code",
   "execution_count": null,
   "id": "28a0f6d9-9c8c-4c93-9a6d-f00b88160ab6",
   "metadata": {},
   "outputs": [],
   "source": [
    "# Generate geometry loader with dem min and max and geoid\n",
    "geom_plugin_with_dem_min_and_geoid = (\n",
    "    sensor_inputs.generate_geometry_plugin_with_dem(\n",
    "        updated_inputs_conf.get(GEOMETRY_PLUGIN, None),\n",
    "        updated_inputs_conf,\n",
    "        dem=dem_min,\n",
    "    )\n",
    ")\n",
    "geom_plugin_with_dem_max_and_geoid = (\n",
    "    sensor_inputs.generate_geometry_plugin_with_dem(\n",
    "        updated_inputs_conf.get(GEOMETRY_PLUGIN, None),\n",
    "        updated_inputs_conf,\n",
    "        dem=dem_max,\n",
    "    )\n",
    ")\n",
    "\n",
    "# Generate grids\n",
    "disp_range_grid = dense_matching_application.generate_disparity_grids(\n",
    "    sensor_image_right,\n",
    "    corrected_grid_right,\n",
    "    geom_plugin_with_dem_and_geoid,\n",
    "    dem_min=dem_min,\n",
    "    dem_max=dem_max,\n",
    "    dem_median=dem_median,\n",
    ")"
   ]
  },
  {
   "cell_type": "markdown",
   "id": "84f3bbb1-20af-43df-8ba6-cf078224fea2",
   "metadata": {},
   "source": [
    "#### Compute margins used in dense matching, with corresponding disparity min and max"
   ]
  },
  {
   "cell_type": "code",
   "execution_count": null,
   "id": "c58aaccb-92ca-4f5d-b9b4-7ee5503bee0b",
   "metadata": {},
   "outputs": [],
   "source": [
    "dense_matching_margins_fun = dense_matching_application.get_margins_fun(\n",
    "    corrected_grid_left, disp_range_grid)"
   ]
  },
  {
   "cell_type": "markdown",
   "id": "e8a03294-f604-42b6-9090-d4067b55fd43",
   "metadata": {
    "tags": []
   },
   "source": [
    "###  Resampling: generate epipolar images with corrected grids and new margins"
   ]
  },
  {
   "cell_type": "code",
   "execution_count": null,
   "id": "12f96ea3-eeff-4078-a9b8-9c897156b718",
   "metadata": {},
   "outputs": [],
   "source": [
    "(\n",
    "    optimum_tile_size,\n",
    "    local_tile_optimal_size_fun,\n",
    ") = dense_matching_application.get_optimal_tile_size(\n",
    "    disp_range_grid,\n",
    "    cars_orchestrator.cluster.checked_conf_cluster[\n",
    "        \"max_ram_per_worker\"\n",
    "    ],\n",
    ")"
   ]
  },
  {
   "cell_type": "code",
   "execution_count": null,
   "id": "492093fb-9817-4f58-a7fb-03f6ae7cc31f",
   "metadata": {},
   "outputs": [],
   "source": [
    "new_epipolar_image_left, new_epipolar_image_right = resampling_application.run(\n",
    "    sensor_image_left,\n",
    "    sensor_image_right,\n",
    "    corrected_grid_left,\n",
    "    corrected_grid_right,\n",
    "    orchestrator=cars_orchestrator,\n",
    "    margins_fun=dense_matching_margins_fun,\n",
    "    tile_width=optimum_tile_size,\n",
    "    tile_height=optimum_tile_size,\n",
    "    add_color=True,\n",
    ")"
   ]
  },
  {
   "cell_type": "code",
   "execution_count": null,
   "id": "2b2c9865",
   "metadata": {},
   "outputs": [],
   "source": [
    "data_image_left = get_full_data(new_epipolar_image_left, \"im\")\n",
    "show_data(data_image_left, mode=\"image\")"
   ]
  },
  {
   "cell_type": "code",
   "execution_count": null,
   "id": "7892ab37",
   "metadata": {},
   "outputs": [],
   "source": [
    "data_image_right = get_full_data(new_epipolar_image_right, \"im\")\n",
    "show_data(data_image_right, mode=\"image\")"
   ]
  },
  {
   "cell_type": "markdown",
   "id": "89073ed3-231f-4386-928d-92c40ede20e1",
   "metadata": {},
   "source": [
    "### Dense Matching: compute disparities with pandora"
   ]
  },
  {
   "cell_type": "code",
   "execution_count": null,
   "id": "2e2fb226-ce1b-44a0-aa6b-3fce976a3106",
   "metadata": {},
   "outputs": [],
   "source": [
    "epipolar_disparity_map = dense_matching_application.run(\n",
    "    new_epipolar_image_left,\n",
    "    new_epipolar_image_right,\n",
    "    local_tile_optimal_size_fun,\n",
    "    orchestrator=cars_orchestrator,\n",
    "    disp_range_grid=disp_range_grid,\n",
    ")"
   ]
  },
  {
   "cell_type": "code",
   "execution_count": null,
   "id": "2bd51459",
   "metadata": {},
   "outputs": [],
   "source": []
  },
  {
   "cell_type": "markdown",
   "id": "03a61233-bdb9-48b5-ba28-1ddf8a63c9f5",
   "metadata": {},
   "source": [
    "#### Show full disparity map"
   ]
  },
  {
   "cell_type": "code",
   "execution_count": null,
   "id": "1542cf41-183b-4a00-8799-4fe8de80c7b4",
   "metadata": {},
   "outputs": [],
   "source": [
    "data_disparity = get_full_data(epipolar_disparity_map, \"disp\")\n",
    "show_data(data_disparity)"
   ]
  },
  {
   "cell_type": "markdown",
   "id": "86b31a15-634f-4098-a59e-7759d0a94681",
   "metadata": {},
   "source": [
    " Compute epsg"
   ]
  },
  {
   "cell_type": "code",
   "execution_count": null,
   "id": "0c447031-3cf3-487c-802a-676b7e11f68a",
   "metadata": {},
   "outputs": [],
   "source": [
    "epsg = preprocessing.compute_epsg(\n",
    "    sensor_image_left, \n",
    "    sensor_image_right,\n",
    "    grid_left,\n",
    "    corrected_grid_right,\n",
    "    geom_plugin_with_dem_and_geoid,\n",
    "    disp_min=np.min(disp_range_grid[0, 0][\"disp_min_grid\"].values),\n",
    "    disp_max=np.max(disp_range_grid[0, 0][\"disp_max_grid\"].values)\n",
    ")"
   ]
  },
  {
   "cell_type": "markdown",
   "id": "15413f23-f082-4d62-85a9-474b58505bff",
   "metadata": {},
   "source": [
    "### Triangulation : triangulate matches"
   ]
  },
  {
   "cell_type": "code",
   "execution_count": null,
   "id": "2f43a59c-3cea-4ca7-9de5-eab30324211c",
   "metadata": {},
   "outputs": [],
   "source": [
    "epipolar_point_cloud = triangulation_application.run(\n",
    "    sensor_image_left,\n",
    "    sensor_image_right,\n",
    "    new_epipolar_image_left,\n",
    "    grid_left,\n",
    "    corrected_grid_right,\n",
    "    epipolar_disparity_map,\n",
    "    epsg,\n",
    "    geom_plugin_without_dem_and_geoid,\n",
    "    orchestrator=cars_orchestrator,\n",
    "    uncorrected_grid_right=grid_right,\n",
    "    geoid_path=updated_inputs_conf[sens_cst.INITIAL_ELEVATION][sens_cst.GEOID],\n",
    ")"
   ]
  },
  {
   "cell_type": "markdown",
   "id": "19e815a1-7c88-44ca-9c16-96ca332e094e",
   "metadata": {},
   "source": [
    " #### Compute terrain bounding box"
   ]
  },
  {
   "cell_type": "code",
   "execution_count": null,
   "id": "bda732cc-b761-4389-a14a-096e76fa89e0",
   "metadata": {},
   "outputs": [],
   "source": [
    "current_terrain_roi_bbox, _ = preprocessing.compute_terrain_bbox(\n",
    "    sensor_image_left,\n",
    "    sensor_image_right,\n",
    "    new_epipolar_image_left,\n",
    "    grid_left,\n",
    "    corrected_grid_right,\n",
    "    epsg,\n",
    "    geom_plugin_with_dem_and_geoid,\n",
    "    resolution=0.5,\n",
    "    disp_min=np.min(disp_range_grid[0, 0][\"disp_min_grid\"].values),\n",
    "    disp_max=np.max(disp_range_grid[0, 0][\"disp_max_grid\"].values),\n",
    "    orchestrator=cars_orchestrator\n",
    ")\n",
    "terrain_bounds, optimal_terrain_tile_width = preprocessing.compute_terrain_bounds(\n",
    "    [current_terrain_roi_bbox],\n",
    "    resolution=0.5\n",
    ")"
   ]
  },
  {
   "cell_type": "markdown",
   "id": "4ff0dc69-3db3-4e09-bd99-dc8042abfbad",
   "metadata": {},
   "source": [
    "#### Transform point cloud to terrain point cloud"
   ]
  },
  {
   "cell_type": "code",
   "execution_count": null,
   "id": "20f2fc50-4ed8-48e7-b324-4dc8f71627fc",
   "metadata": {},
   "outputs": [],
   "source": [
    "merged_point_clouds = pc_fusion_application.run(\n",
    "    [epipolar_point_cloud],\n",
    "    terrain_bounds,\n",
    "    epsg,\n",
    "    orchestrator=cars_orchestrator,\n",
    "    margins=rasterization_application.get_margins(0.5),\n",
    "    optimal_terrain_tile_width=optimal_terrain_tile_width\n",
    ")"
   ]
  },
  {
   "cell_type": "markdown",
   "id": "9eb9052b-e0d7-4b63-8152-dd8541e23d0f",
   "metadata": {},
   "source": [
    "### Point Cloud Outlier Removing : remove points with small components removing method"
   ]
  },
  {
   "cell_type": "code",
   "execution_count": null,
   "id": "dd0f821b-21df-45b8-85cc-b0550ffe73bb",
   "metadata": {},
   "outputs": [],
   "source": [
    "filtered_sc_merged_point_clouds = pc_outlier_removal_small_comp_application.run(\n",
    "    merged_point_clouds,\n",
    "    orchestrator=cars_orchestrator,\n",
    ")    "
   ]
  },
  {
   "cell_type": "markdown",
   "id": "ae05e50b-ac50-4047-b90d-cd3459103fd3",
   "metadata": {},
   "source": [
    "### Point Cloud Outlier Removing: remove points with statistical removing method"
   ]
  },
  {
   "cell_type": "code",
   "execution_count": null,
   "id": "688b93bb-7400-424e-837b-82a75e5efb71",
   "metadata": {},
   "outputs": [],
   "source": [
    "filtered_stats_merged_point_clouds = pc_outlier_removal_stats_application.run(\n",
    "    filtered_sc_merged_point_clouds,\n",
    "    orchestrator=cars_orchestrator,\n",
    ")"
   ]
  },
  {
   "cell_type": "markdown",
   "id": "5eb943f0-cea6-4774-b159-0c63e8a2512f",
   "metadata": {},
   "source": [
    "### Rasterization : rasterize point cloud"
   ]
  },
  {
   "cell_type": "code",
   "execution_count": null,
   "id": "2064961e-b868-4007-b8fc-3f5e1af614a4",
   "metadata": {},
   "outputs": [],
   "source": [
    "dsm = rasterization_application.run(\n",
    "    filtered_stats_merged_point_clouds,\n",
    "    epsg,\n",
    "    resolution=0.5,\n",
    "    orchestrator=cars_orchestrator\n",
    ")"
   ]
  },
  {
   "cell_type": "markdown",
   "id": "16fdb7f8-93e0-46a1-9075-6a453c1ad734",
   "metadata": {},
   "source": [
    "### Show DSM\n"
   ]
  },
  {
   "cell_type": "code",
   "execution_count": null,
   "id": "34dd7d4d-d40d-4ac4-8da9-c1e8d8fa886e",
   "metadata": {},
   "outputs": [],
   "source": [
    "data_dsm = get_full_data(dsm, \"hgt\")\n",
    "show_data(data_dsm, mode=\"dsm\")"
   ]
  },
  {
   "cell_type": "markdown",
   "id": "db85381f-4a62-40a4-915c-933043f22491",
   "metadata": {},
   "source": [
    "### Show ortho image"
   ]
  },
  {
   "cell_type": "code",
   "execution_count": null,
   "id": "c4f00e06-08c0-4c55-ac23-5d29359bdd07",
   "metadata": {},
   "outputs": [],
   "source": [
    "data_ortho = get_full_data(dsm, \"img\")\n",
    "show_data(data_ortho, mode='image')"
   ]
  },
  {
   "cell_type": "markdown",
   "id": "9747541b-8ece-46ac-8e4b-43c560b5df5c",
   "metadata": {},
   "source": [
    "### Save DSM"
   ]
  },
  {
   "cell_type": "code",
   "execution_count": null,
   "id": "ca88b228-c17b-49bd-94c7-411f91a04163",
   "metadata": {},
   "outputs": [],
   "source": [
    "save_data(dsm, os.path.join(output_dir, \"dsm.tif\"), \"hgt\")"
   ]
  }
 ],
 "metadata": {
  "kernelspec": {
   "display_name": "Python 3 (ipykernel)",
   "language": "python",
   "name": "python3"
  },
  "language_info": {
   "codemirror_mode": {
    "name": "ipython",
    "version": 3
   },
   "file_extension": ".py",
   "mimetype": "text/x-python",
   "name": "python",
   "nbconvert_exporter": "python",
   "pygments_lexer": "ipython3",
   "version": "3.10.12"
  }
 },
 "nbformat": 4,
 "nbformat_minor": 5
}
