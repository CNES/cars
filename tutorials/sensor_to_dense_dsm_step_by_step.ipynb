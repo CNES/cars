{
 "cells": [
  {
   "cell_type": "markdown",
   "id": "16eb7b25-7d54-4dc0-bdf6-f8ffad496dc2",
   "metadata": {},
   "source": [
    "# Dense dsm step by step from sensor images\n",
    "\n",
    "This notebook run step by step the dense dsm pipeline, from sensor images inputs to terrain DSM for one pair.\n"
   ]
  },
  {
   "cell_type": "markdown",
   "id": "1591b3bd-2f4c-4c5e-a65d-752b90e37418",
   "metadata": {},
   "source": [
    "### Imports"
   ]
  },
  {
   "cell_type": "code",
   "execution_count": null,
   "id": "7f7b6fe6-b60c-4f99-948b-2b7a1af4f52a",
   "metadata": {},
   "outputs": [],
   "source": [
    "# Notebook local imports\n",
    "\n",
    "import os\n",
    "import numpy as np\n",
    "###\n",
    "import warnings\n",
    "# Filter warnings\n",
    "warnings.filterwarnings(\"ignore\",category=UserWarning)\n",
    "# import pretty print\n",
    "import pprint \n",
    "pp = pprint.PrettyPrinter(indent=4)\n",
    "\n",
    "# import external function for notebook\n",
    "from notebook_helpers import get_full_data, show_data, save_data, get_dir_path, set_up_demo_inputs"
   ]
  },
  {
   "cell_type": "code",
   "execution_count": null,
   "id": "72c0030d-8b0d-4ca9-84e7-370af1ecc8f4",
   "metadata": {},
   "outputs": [],
   "source": [
    "# CARS imports\n",
    "\n",
    "# Applications\n",
    "from cars.applications.application import Application\n",
    "from cars.applications.grid_generation import grid_correction_app\n",
    "from shareloc.geofunctions.rectification_grid import RectificationGrid\n",
    "from cars.pipelines.unit.unit_pipeline import UnitPipeline\n",
    "\n",
    "\n",
    "# Pipelines\n",
    "import cars.pipelines.parameters.sensor_inputs_constants as sens_cst\n",
    "from cars.pipelines.parameters import sensor_inputs\n",
    "\n",
    "# Conf, core, orchestrator\n",
    "from cars.core import preprocessing\n",
    "from cars.orchestrator import orchestrator\n",
    "from cars import import_plugins"
   ]
  },
  {
   "cell_type": "code",
   "execution_count": null,
   "id": "7be5977b-c916-424f-8c50-8c2bc9ec63e8",
   "metadata": {},
   "outputs": [],
   "source": [
    "# Show CARS version\n",
    "from cars import __version__\n",
    "print(\"CARS version used : {}\".format(__version__))"
   ]
  },
  {
   "cell_type": "code",
   "execution_count": null,
   "id": "e72c95ab",
   "metadata": {},
   "outputs": [],
   "source": [
    "# Import external plugins\n",
    "import_plugins()"
   ]
  },
  {
   "cell_type": "markdown",
   "id": "e345f961-0e80-453f-afe6-b15a7f026f28",
   "metadata": {},
   "source": [
    "---------\n",
    "\n",
    "## Inputs/Outputs"
   ]
  },
  {
   "cell_type": "markdown",
   "id": "b35429a0-0a8e-4a83-ae4f-506777fbfdb9",
   "metadata": {},
   "source": [
    "### Define outputs"
   ]
  },
  {
   "cell_type": "code",
   "execution_count": null,
   "id": "750644f6-96d5-45d9-979c-980183ad4e9a",
   "metadata": {},
   "outputs": [],
   "source": [
    "# Modify with your own output path if needed\n",
    "output_dir = os.path.join(get_dir_path(), \"output_notebook\")\n",
    "print(output_dir)"
   ]
  },
  {
   "cell_type": "markdown",
   "id": "e87bf76c-08c6-4e89-84a5-0657fe6f08c6",
   "metadata": {},
   "source": [
    "### Define inputs"
   ]
  },
  {
   "cell_type": "code",
   "execution_count": null,
   "id": "ebc342a7",
   "metadata": {},
   "outputs": [],
   "source": [
    "# By default, the notebook use data_gizeh_small.tar.bz2, data_gizeh is available also (performance dependent).\n",
    "# For you own data: Modify input_dir_path and modify all images, geometric models and color file names below\n",
    "input_dir_path = set_up_demo_inputs(\"data_gizeh_small\")\n",
    "\n",
    "conf = {\"inputs\": {\n",
    "    \"sensors\": {\n",
    "        \"left\": {\n",
    "            \"image\": {\n",
    "              \"loader\": \"pivot\",\n",
    "              \"bands\": {\n",
    "                \"b0\": {\n",
    "                  \"path\": os.path.join(input_dir_path, \"img1.tif\"),\n",
    "                  \"band\": 0\n",
    "                },\n",
    "                \"b1\": {\n",
    "                  \"path\": os.path.join(input_dir_path, \"color1.tif\"),\n",
    "                  \"band\": 0\n",
    "                },\n",
    "                \"b2\": {\n",
    "                  \"path\": os.path.join(input_dir_path, \"color1.tif\"),\n",
    "                  \"band\": 1\n",
    "                },\n",
    "                \"b3\": {\n",
    "                  \"path\": os.path.join(input_dir_path, \"color1.tif\"),\n",
    "                  \"band\": 2\n",
    "                },\n",
    "              },\n",
    "            },\n",
    "            \"geomodel\": {\n",
    "              \"path\": os.path.join(input_dir_path, \"img1.geom\")\n",
    "            },\n",
    "        },\n",
    "        \"right\": {\n",
    "            \"image\": os.path.join(input_dir_path, \"img2.tif\"),\n",
    "            \"geomodel\": {\n",
    "              \"path\": os.path.join(input_dir_path, \"img2.geom\")\n",
    "            }\n",
    "        },   \n",
    "    },\n",
    "    \"pairing\": [[\"left\", \"right\"]],\n",
    "},\n",
    "        \"output\":{\n",
    "            \"directory\": os.path.join(output_dir, \"output_res4\")\n",
    "        },\n",
    "        \"advanced\": {\"epipolar_resolutions\": 4}\n",
    "}\n",
    "\n",
    "updated_inputs_conf = sensor_inputs.sensors_check_inputs(conf[\"inputs\"])\n",
    "pp.pprint(updated_inputs_conf)"
   ]
  },
  {
   "cell_type": "code",
   "execution_count": null,
   "id": "41bc3d83",
   "metadata": {},
   "outputs": [],
   "source": [
    "# Get geometry plugin\n",
    "(\n",
    "    _,\n",
    "    geometry_plugin_name,\n",
    "    geom_plugin_without_dem_and_geoid,\n",
    "    geom_plugin_with_dem_and_geoid,\n",
    "    _\n",
    ") = sensor_inputs.check_geometry_plugin(\n",
    "    updated_inputs_conf, None\n",
    ")"
   ]
  },
  {
   "cell_type": "code",
   "execution_count": null,
   "id": "ff8f2cd0",
   "metadata": {},
   "outputs": [],
   "source": [
    "# Use sequential mode in notebook\n",
    "orchestrator_conf = {\"mode\": \"sequential\"}\n",
    "cars_orchestrator = orchestrator.Orchestrator(orchestrator_conf=orchestrator_conf, out_dir=output_dir)"
   ]
  },
  {
   "cell_type": "markdown",
   "id": "eaf7dd1b",
   "metadata": {},
   "source": [
    "#### Launch unit pipeline to get the a priori"
   ]
  },
  {
   "cell_type": "code",
   "execution_count": null,
   "id": "34254998",
   "metadata": {},
   "outputs": [],
   "source": [
    "UnitPipeline(conf).run(\n",
    "                    cars_orchestrator,\n",
    "                    generate_dems = True,\n",
    "                    which_resolution=\"first\",\n",
    "                    final_out_dir=os.path.join(output_dir, \"output_res4\")\n",
    "                )"
   ]
  },
  {
   "cell_type": "markdown",
   "id": "48b1daee",
   "metadata": {},
   "source": [
    "### Update_conf for the full resolution"
   ]
  },
  {
   "cell_type": "code",
   "execution_count": null,
   "id": "2f138b48-7fb7-4286-9cba-779cd6246212",
   "metadata": {},
   "outputs": [],
   "source": [
    "path_dem = os.path.join(output_dir, \"output_res4/dump_dir/dem_generation\")\n",
    "\n",
    "conf = {\"inputs\": {\n",
    "    \"sensors\": {\n",
    "        \"left\": {\n",
    "            \"image\": {\n",
    "              \"loader\": \"pivot\",\n",
    "              \"bands\": {\n",
    "                \"b0\": {\n",
    "                  \"path\": os.path.join(input_dir_path, \"img1.tif\"),\n",
    "                  \"band\": 0\n",
    "                },\n",
    "                \"b1\": {\n",
    "                  \"path\": os.path.join(input_dir_path, \"color1.tif\"),\n",
    "                  \"band\": 0\n",
    "                },\n",
    "                \"b2\": {\n",
    "                  \"path\": os.path.join(input_dir_path, \"color1.tif\"),\n",
    "                  \"band\": 1\n",
    "                },\n",
    "                \"b3\": {\n",
    "                  \"path\": os.path.join(input_dir_path, \"color1.tif\"),\n",
    "                  \"band\": 2\n",
    "                },\n",
    "              },\n",
    "            },\n",
    "            \"geomodel\": {\n",
    "              \"path\": os.path.join(input_dir_path, \"img1.geom\")\n",
    "            },\n",
    "        },\n",
    "        \"right\": {\n",
    "            \"image\": os.path.join(input_dir_path, \"img2.tif\"),\n",
    "            \"geomodel\": {\n",
    "              \"path\": os.path.join(input_dir_path, \"img2.geom\")\n",
    "            }\n",
    "        },   \n",
    "    },\n",
    "    \"pairing\": [[\"left\", \"right\"]],\n",
    "    \"initial_elevation\": os.path.join(path_dem, \"dem_median.tif\")\n",
    "},\n",
    "        \"advanced\":{\n",
    "            \"terrain_a_priori\" : {\n",
    "                \"dem_median\": os.path.join(path_dem, \"dem_median.tif\"),\n",
    "                \"dem_min\": os.path.join(path_dem, \"dem_min.tif\"),\n",
    "                \"dem_max\": os.path.join(path_dem, \"dem_max.tif\")\n",
    "            }\n",
    "        }\n",
    "}\n",
    "\n",
    "updated_inputs_conf = sensor_inputs.sensors_check_inputs(conf[\"inputs\"])\n",
    "pp.pprint(updated_inputs_conf)\n",
    "\n"
   ]
  },
  {
   "cell_type": "code",
   "execution_count": null,
   "id": "92bfe09e",
   "metadata": {},
   "outputs": [],
   "source": [
    "# Get geometry plugin\n",
    "(\n",
    "    _,\n",
    "    geometry_plugin_name,\n",
    "    geom_plugin_without_dem_and_geoid,\n",
    "    geom_plugin_with_dem_and_geoid,\n",
    "    _\n",
    ") = sensor_inputs.check_geometry_plugin(\n",
    "    updated_inputs_conf, None\n",
    ")"
   ]
  },
  {
   "cell_type": "markdown",
   "id": "5d233912",
   "metadata": {},
   "source": [
    "#### Update dem min max median"
   ]
  },
  {
   "cell_type": "code",
   "execution_count": null,
   "id": "3cd90013",
   "metadata": {},
   "outputs": [],
   "source": [
    "dem_median = conf[\"advanced\"][\"terrain_a_priori\"][\"dem_median\"]\n",
    "dem_min = conf[\"advanced\"][\"terrain_a_priori\"][\"dem_min\"]\n",
    "dem_max = conf[\"advanced\"][\"terrain_a_priori\"][\"dem_max\"]\n"
   ]
  },
  {
   "cell_type": "markdown",
   "id": "805d1a8e-8c19-48dd-a583-88dccf757e6c",
   "metadata": {},
   "source": [
    "---------\n",
    "\n",
    "## Applications Init"
   ]
  },
  {
   "cell_type": "markdown",
   "id": "a000b584-d32b-4bfb-94fd-59b73b3c64bb",
   "metadata": {},
   "source": [
    "#### GridGeneration\n",
    "\n",
    "This application generates epipolar grids corresponding to sensor pair"
   ]
  },
  {
   "cell_type": "code",
   "execution_count": null,
   "id": "0b94cdfd-615a-4894-804f-4fa051f7dd3f",
   "metadata": {},
   "outputs": [],
   "source": [
    "epipolar_grid_generation_application = Application(\"grid_generation\")"
   ]
  },
  {
   "cell_type": "markdown",
   "id": "fce2db08-74cf-40a8-bafc-9cddac747ff4",
   "metadata": {},
   "source": [
    "#### Resampling\n",
    "\n",
    "This application generates epipolar images from epipolar grids "
   ]
  },
  {
   "cell_type": "code",
   "execution_count": null,
   "id": "c760ceba-7dd2-4266-a906-0393a93bbb53",
   "metadata": {},
   "outputs": [],
   "source": [
    "resampling_application = Application(\"resampling\")"
   ]
  },
  {
   "cell_type": "markdown",
   "id": "bad024a7-4463-4f79-835f-23c1c0813bc3",
   "metadata": {},
   "source": [
    "#### SparseMatching\n",
    "\n",
    "This application generates sparse matches of stereo images pairs"
   ]
  },
  {
   "cell_type": "code",
   "execution_count": null,
   "id": "0733714e-8e06-4f0d-8a06-e0dd17b5f6bc",
   "metadata": {},
   "outputs": [],
   "source": [
    "sparse_matching_application = Application(\"sparse_matching\")"
   ]
  },
  {
   "cell_type": "markdown",
   "id": "016739ef-fbac-44c6-9158-ee6a28a0155a",
   "metadata": {},
   "source": [
    "#### Dem Generation\n",
    "This application generates dem when initial_elevation is not provided"
   ]
  },
  {
   "cell_type": "code",
   "execution_count": null,
   "id": "80e159be-672e-401b-88e9-215bf0780a9f",
   "metadata": {},
   "outputs": [],
   "source": [
    "dem_generation_application = Application(\"dem_generation\")"
   ]
  },
  {
   "cell_type": "markdown",
   "id": "9b1bb4ca-36c9-490c-b20f-eb4987183e45",
   "metadata": {},
   "source": [
    "#### DenseMatching\n",
    "\n",
    "This application generates dense matches of stereo images pairs"
   ]
  },
  {
   "cell_type": "code",
   "execution_count": null,
   "id": "9187b0a1-ffda-445d-a2ca-6305a55a1852",
   "metadata": {},
   "outputs": [],
   "source": [
    "dense_matching_application = Application(\"dense_matching\")"
   ]
  },
  {
   "cell_type": "code",
   "execution_count": null,
   "id": "e029a9ed",
   "metadata": {},
   "outputs": [],
   "source": [
    " corr_cfg = dense_matching_application.loader.get_conf()\n",
    "left_image = conf[\"inputs\"][\"sensors\"][\"left\"][\"image\"][\"main_file\"]\n",
    "right_image = conf[\"inputs\"][\"sensors\"][\"right\"][\"image\"][\"main_file\"]\n",
    "bands_left = list(conf[\"inputs\"][\"sensors\"][\"left\"][\"image\"][\"bands\"].keys())\n",
    "bands_right = list(conf[\"inputs\"][\"sensors\"][\"right\"][\"image\"][\"bands\"].keys())\n",
    "dense_matching_application.corr_config = (\n",
    "    dense_matching_application.loader.check_conf(\n",
    "        corr_cfg, left_image, right_image, bands_left, bands_right\n",
    "    )\n",
    ")"
   ]
  },
  {
   "cell_type": "markdown",
   "id": "70fc57f9-6aac-4e1f-8ec4-4bd674515867",
   "metadata": {},
   "source": [
    "#### Show used application configuration"
   ]
  },
  {
   "cell_type": "code",
   "execution_count": null,
   "id": "88b285eb-c4bc-4dcf-9379-34b324ea67df",
   "metadata": {},
   "outputs": [],
   "source": [
    "# Example with dense matching application\n",
    "dense_matching_application.print_config()"
   ]
  },
  {
   "cell_type": "markdown",
   "id": "a7860234-b211-466a-8cc2-43a1fb769839",
   "metadata": {},
   "source": [
    "#### Triangulation\n",
    "\n",
    "This application triangulates matches, in order to get each (X, Y, Z) point position"
   ]
  },
  {
   "cell_type": "code",
   "execution_count": null,
   "id": "c3904b20-dd90-4202-a91f-6186c51a3800",
   "metadata": {},
   "outputs": [],
   "source": [
    "triangulation_application = Application(\"triangulation\")"
   ]
  },
  {
   "cell_type": "markdown",
   "id": "d84ca47c-e520-4488-bfa4-7ff6c85ce78c",
   "metadata": {},
   "source": [
    "#### PointCloudFusion\n",
    "\n",
    "This application performs the fusion of epipolar points from pairs to a terrain point cloud"
   ]
  },
  {
   "cell_type": "code",
   "execution_count": null,
   "id": "29e57ea2-84a2-4598-9218-032cce1678ef",
   "metadata": {},
   "outputs": [],
   "source": [
    "pc_fusion_application = Application(\"point_cloud_fusion\")"
   ]
  },
  {
   "cell_type": "markdown",
   "id": "2f4b68fe-f0f5-4e58-9a7c-06f976cf0235",
   "metadata": {},
   "source": [
    "#### PointCloudOutlierRemoval : small components\n",
    "\n",
    "This application removes outlier points. The method used is \"small component removal\""
   ]
  },
  {
   "cell_type": "code",
   "execution_count": null,
   "id": "8cac0f1d-542f-4bc1-a1b6-b0fffe6bd6e2",
   "metadata": {},
   "outputs": [],
   "source": [
    "conf_outlier_removal_small_components = {\"method\": \"small_components\", \"activated\": True}\n",
    "pc_outlier_removal_small_comp_application = Application(\"point_cloud_outlier_removal\", cfg=conf_outlier_removal_small_components)"
   ]
  },
  {
   "cell_type": "markdown",
   "id": "51682146-3b56-471e-9530-44fdc53332cd",
   "metadata": {},
   "source": [
    "#### PointCloudOutlierRemoval : statistical\n",
    "\n",
    "This application removes outlier points. The method used is \"statistical removal\""
   ]
  },
  {
   "cell_type": "code",
   "execution_count": null,
   "id": "2d9eaf2e-b3b9-4c1a-baa9-5c4474902ddc",
   "metadata": {},
   "outputs": [],
   "source": [
    "conf_outlier_removal_small_statistical = {\"method\": \"statistical\", \"activated\": True}\n",
    "pc_outlier_removal_stats_application = Application(\"point_cloud_outlier_removal\", cfg=conf_outlier_removal_small_statistical)"
   ]
  },
  {
   "cell_type": "markdown",
   "id": "e32e187c-92f7-4b79-ab82-74fae9f1553d",
   "metadata": {},
   "source": [
    "#### PointCloudRasterization\n",
    "\n",
    "This application performs the rasterization of a terrain point cloint."
   ]
  },
  {
   "cell_type": "code",
   "execution_count": null,
   "id": "cc196e18-d5ad-4441-93fb-a2c8f6fa69a9",
   "metadata": {},
   "outputs": [],
   "source": [
    "conf_rasterization = { \n",
    "    \"method\": \"simple_gaussian\",\n",
    "    \"dsm_radius\": 3,\n",
    "    \"sigma\": 0.3\n",
    "}\n",
    "rasterization_application = Application(\"point_cloud_rasterization\", cfg=conf_rasterization)"
   ]
  },
  {
   "cell_type": "markdown",
   "id": "ced933d0-15a0-448e-b426-cd3171a609d7",
   "metadata": {},
   "source": [
    "---------\n",
    "\n",
    "## Run pipeline step by step from sensors to DSM"
   ]
  },
  {
   "cell_type": "markdown",
   "id": "02b096ba-cdd3-47e5-9778-ce4fa8f3a3c6",
   "metadata": {},
   "source": [
    "### Sensors images generation\n",
    "\n",
    "From input configuration \"inputs\" seen before"
   ]
  },
  {
   "cell_type": "code",
   "execution_count": null,
   "id": "1fc74dcd-eaa7-4bed-b1c9-ae5369e1a0bc",
   "metadata": {},
   "outputs": [],
   "source": [
    "_, sensor_image_left, sensor_image_right = sensor_inputs.generate_inputs(updated_inputs_conf, geom_plugin_without_dem_and_geoid)[0]"
   ]
  },
  {
   "cell_type": "markdown",
   "id": "35fa45cc-8969-444a-a524-f51acda84322",
   "metadata": {},
   "source": [
    "### Grid Generation : epipolar grid generation"
   ]
  },
  {
   "cell_type": "code",
   "execution_count": null,
   "id": "604e0309-5615-4320-ba1b-fc0e5f018c39",
   "metadata": {},
   "outputs": [],
   "source": [
    "geom_plugin = geom_plugin_with_dem_and_geoid\n",
    "if updated_inputs_conf[\"initial_elevation\"][\"dem\"] is None:\n",
    "    geom_plugin = geom_plugin_without_dem_and_geoid\n",
    "\n",
    "grid_left, grid_right = epipolar_grid_generation_application.run(\n",
    "    sensor_image_left,\n",
    "    sensor_image_right,\n",
    "    geom_plugin,\n",
    "    orchestrator=cars_orchestrator\n",
    ")"
   ]
  },
  {
   "cell_type": "markdown",
   "id": "bdc39b9a-b16a-40cb-b7a7-bbe6a9f15127",
   "metadata": {},
   "source": [
    "### Resampling : epipolar images generation\n"
   ]
  },
  {
   "cell_type": "code",
   "execution_count": null,
   "id": "e41b1fbc",
   "metadata": {},
   "outputs": [],
   "source": [
    "required_bands = sparse_matching_application.get_required_bands() "
   ]
  },
  {
   "cell_type": "code",
   "execution_count": null,
   "id": "249c01e1-7969-4059-9085-64d02ce5ba0a",
   "metadata": {},
   "outputs": [],
   "source": [
    "epipolar_image_left, epipolar_image_right = resampling_application.run(\n",
    "    sensor_image_left,\n",
    "    sensor_image_right,\n",
    "    grid_left,\n",
    "    grid_right,\n",
    "    geom_plugin,\n",
    "    orchestrator=cars_orchestrator,\n",
    "    margins_fun=sparse_matching_application.get_margins_fun(),\n",
    "    required_bands=required_bands,\n",
    ")"
   ]
  },
  {
   "cell_type": "markdown",
   "id": "bed4e090-17ca-4199-8983-f8bf207972a5",
   "metadata": {},
   "source": [
    "### Show epipolar image"
   ]
  },
  {
   "cell_type": "code",
   "execution_count": null,
   "id": "9729be2b-62e0-4cdb-a5ab-5ea859525681",
   "metadata": {},
   "outputs": [],
   "source": [
    "data_image_left = get_full_data(epipolar_image_left, \"im\")\n",
    "show_data(data_image_left, mode=\"image\")"
   ]
  },
  {
   "cell_type": "code",
   "execution_count": null,
   "id": "44287ce1",
   "metadata": {},
   "outputs": [],
   "source": [
    "data_image_right = get_full_data(epipolar_image_right, \"im\")\n",
    "show_data(data_image_right, mode=\"image\")"
   ]
  },
  {
   "cell_type": "markdown",
   "id": "9ecb7c98",
   "metadata": {},
   "source": [
    "#### Get the sift a priori "
   ]
  },
  {
   "cell_type": "code",
   "execution_count": null,
   "id": "d94ff993",
   "metadata": {},
   "outputs": [],
   "source": [
    "\n",
    "out_dir_sensor_matches = os.path.join(output_dir, \"output_res4/dsm/sensor_matches/left_right\")\n",
    "\n",
    "sensor_matches_left_path = os.path.join(\n",
    "    out_dir_sensor_matches,\n",
    "    \"sensor_matches_left.npy\",\n",
    ")\n",
    "sensor_matches_right_path = os.path.join(\n",
    "    out_dir_sensor_matches,\n",
    "    \"sensor_matches_right.npy\",\n",
    ")\n",
    "\n",
    "sensor_matches_left = np.load(\n",
    "    sensor_matches_left_path\n",
    ")\n",
    "sensor_matches_right = np.load(\n",
    "    sensor_matches_right_path\n",
    ")\n",
    "\n",
    "new_grid_matches_array = (\n",
    "    geom_plugin.transform_matches_from_grids(\n",
    "        sensor_matches_left,\n",
    "        sensor_matches_right,\n",
    "        grid_left,\n",
    "        grid_right,\n",
    "    )\n",
    ")\n",
    "\n",
    "# Estimate grid_correction\n",
    "(\n",
    "    grid_correction_coeff,\n",
    "    _,\n",
    "    _,\n",
    "    _,\n",
    ") = grid_correction_app.estimate_right_grid_correction(\n",
    "    new_grid_matches_array,\n",
    "    grid_right,\n",
    "    save_matches=False,\n",
    "    pair_folder=None,\n",
    "    pair_key=None,\n",
    "    orchestrator=cars_orchestrator,\n",
    ")\n",
    "\n",
    "# Correct grid right\n",
    "\n",
    "corrected_grid_right = (\n",
    "    grid_correction_app.correct_grid(\n",
    "        grid_right,\n",
    "        grid_correction_coeff,\n",
    "        output_dir,\n",
    "        False,\n",
    "    )\n",
    ")\n",
    "\n",
    "# Use the new grid as uncorrected grid\n",
    "corrected_grid_left = grid_left\n"
   ]
  },
  {
   "cell_type": "markdown",
   "id": "7ca778cd",
   "metadata": {},
   "source": [
    "#### Interpolated grid"
   ]
  },
  {
   "cell_type": "code",
   "execution_count": null,
   "id": "3925fcf4",
   "metadata": {},
   "outputs": [],
   "source": [
    "epsg = preprocessing.compute_epsg(\n",
    "    sensor_image_left, \n",
    "    sensor_image_right,\n",
    "    grid_left,\n",
    "    corrected_grid_right,\n",
    "    geom_plugin_with_dem_and_geoid,\n",
    "    disp_min=0,\n",
    "    disp_max=0,\n",
    ")"
   ]
  },
  {
   "cell_type": "code",
   "execution_count": null,
   "id": "503b7e90",
   "metadata": {},
   "outputs": [],
   "source": [
    "#grid rectification\n",
    "\n",
    "interpolated_grid_left = RectificationGrid(\n",
    "    corrected_grid_left[\"path\"],\n",
    "    interpolator=geom_plugin.interpolator,\n",
    ")\n",
    "    \n",
    "interpolated_grid_right = RectificationGrid(\n",
    "    corrected_grid_right[\"path\"],\n",
    "    interpolator=geom_plugin.interpolator,\n",
    ")"
   ]
  },
  {
   "cell_type": "markdown",
   "id": "7969d19d-87ca-4f02-966a-0b0e7a8901d8",
   "metadata": {},
   "source": [
    "Compute disparity grids range (min and max) "
   ]
  },
  {
   "cell_type": "code",
   "execution_count": null,
   "id": "28a0f6d9-9c8c-4c93-9a6d-f00b88160ab6",
   "metadata": {},
   "outputs": [],
   "source": [
    "# Generate geometry loader with dem min and max and geoid\n",
    "geom_plugin_with_dem_min_and_geoid = (\n",
    "    sensor_inputs.generate_geometry_plugin_with_dem(\n",
    "        geometry_plugin_name,\n",
    "        updated_inputs_conf,\n",
    "        dem=dem_min,\n",
    "    )\n",
    ")\n",
    "geom_plugin_with_dem_max_and_geoid = (\n",
    "    sensor_inputs.generate_geometry_plugin_with_dem(\n",
    "        geometry_plugin_name,\n",
    "        updated_inputs_conf,\n",
    "        dem=dem_max,\n",
    "    )\n",
    ")\n",
    "\n",
    "# Generate grids\n",
    "disp_range_grid = dense_matching_application.generate_disparity_grids(\n",
    "    sensor_image_right,\n",
    "    corrected_grid_right,\n",
    "    geom_plugin_with_dem_and_geoid,\n",
    "    dem_min=dem_min,\n",
    "    dem_max=dem_max,\n",
    "    dem_median=dem_median,\n",
    ")"
   ]
  },
  {
   "cell_type": "markdown",
   "id": "84f3bbb1-20af-43df-8ba6-cf078224fea2",
   "metadata": {},
   "source": [
    "#### Compute margins used in dense matching, with corresponding disparity min and max"
   ]
  },
  {
   "cell_type": "code",
   "execution_count": null,
   "id": "c58aaccb-92ca-4f5d-b9b4-7ee5503bee0b",
   "metadata": {},
   "outputs": [],
   "source": [
    "dense_matching_margins_fun = dense_matching_application.get_margins_fun(\n",
    "    corrected_grid_left, disp_range_grid)"
   ]
  },
  {
   "cell_type": "markdown",
   "id": "e8a03294-f604-42b6-9090-d4067b55fd43",
   "metadata": {
    "tags": []
   },
   "source": [
    "###  Resampling: generate epipolar images with corrected grids and new margins"
   ]
  },
  {
   "cell_type": "code",
   "execution_count": null,
   "id": "12f96ea3-eeff-4078-a9b8-9c897156b718",
   "metadata": {},
   "outputs": [],
   "source": [
    "(\n",
    "    optimum_tile_size,\n",
    "    local_tile_optimal_size_fun,\n",
    ") = dense_matching_application.get_optimal_tile_size(\n",
    "    disp_range_grid,\n",
    "    cars_orchestrator.cluster.checked_conf_cluster[\n",
    "        \"max_ram_per_worker\"\n",
    "    ],\n",
    ")"
   ]
  },
  {
   "cell_type": "code",
   "execution_count": null,
   "id": "da7e2beb",
   "metadata": {},
   "outputs": [],
   "source": [
    " required_bands = dense_matching_application.get_required_bands()\n",
    "# Add left required bands for texture\n",
    "texture_bands = [\"b1\", \"b2\", \"b3\"]\n",
    "required_bands[\"left\"] = sorted(\n",
    "    set(required_bands[\"left\"]).union(set(texture_bands))\n",
    ")\n",
    "# Find index of texture band in left_dataset\n",
    "texture_bands_indices = [\n",
    "    required_bands[\"left\"].index(band)\n",
    "    for band in texture_bands\n",
    "]"
   ]
  },
  {
   "cell_type": "code",
   "execution_count": null,
   "id": "492093fb-9817-4f58-a7fb-03f6ae7cc31f",
   "metadata": {},
   "outputs": [],
   "source": [
    "new_epipolar_image_left, new_epipolar_image_right = resampling_application.run(\n",
    "    sensor_image_left,\n",
    "    sensor_image_right,\n",
    "    corrected_grid_left,\n",
    "    corrected_grid_right,\n",
    "    geom_plugin_without_dem_and_geoid,\n",
    "    orchestrator=cars_orchestrator,\n",
    "    margins_fun=dense_matching_margins_fun,\n",
    "    tile_width=optimum_tile_size,\n",
    "    tile_height=optimum_tile_size,\n",
    "    required_bands=required_bands,\n",
    ")"
   ]
  },
  {
   "cell_type": "code",
   "execution_count": null,
   "id": "2b2c9865",
   "metadata": {},
   "outputs": [],
   "source": [
    "data_image_left = get_full_data(new_epipolar_image_left, \"im\")\n",
    "show_data(data_image_left, mode=\"image\")"
   ]
  },
  {
   "cell_type": "code",
   "execution_count": null,
   "id": "7892ab37",
   "metadata": {},
   "outputs": [],
   "source": [
    "data_image_right = get_full_data(new_epipolar_image_right, \"im\")\n",
    "show_data(data_image_right, mode=\"image\")"
   ]
  },
  {
   "cell_type": "markdown",
   "id": "89073ed3-231f-4386-928d-92c40ede20e1",
   "metadata": {},
   "source": [
    "### Dense Matching: compute disparities with pandora"
   ]
  },
  {
   "cell_type": "code",
   "execution_count": null,
   "id": "2e2fb226-ce1b-44a0-aa6b-3fce976a3106",
   "metadata": {},
   "outputs": [],
   "source": [
    "epipolar_disparity_map = dense_matching_application.run(\n",
    "    new_epipolar_image_left,\n",
    "    new_epipolar_image_right,\n",
    "    local_tile_optimal_size_fun,\n",
    "    orchestrator=cars_orchestrator,\n",
    "    disp_range_grid=disp_range_grid,\n",
    "    texture_bands=texture_bands_indices,\n",
    ")"
   ]
  },
  {
   "cell_type": "markdown",
   "id": "03a61233-bdb9-48b5-ba28-1ddf8a63c9f5",
   "metadata": {},
   "source": [
    "#### Show full disparity map"
   ]
  },
  {
   "cell_type": "code",
   "execution_count": null,
   "id": "1542cf41-183b-4a00-8799-4fe8de80c7b4",
   "metadata": {},
   "outputs": [],
   "source": [
    "data_disparity = get_full_data(epipolar_disparity_map, \"disp\")\n",
    "show_data(data_disparity)"
   ]
  },
  {
   "cell_type": "markdown",
   "id": "86b31a15-634f-4098-a59e-7759d0a94681",
   "metadata": {},
   "source": [
    " Compute epsg"
   ]
  },
  {
   "cell_type": "code",
   "execution_count": null,
   "id": "0c447031-3cf3-487c-802a-676b7e11f68a",
   "metadata": {},
   "outputs": [],
   "source": [
    "epsg = preprocessing.compute_epsg(\n",
    "    sensor_image_left, \n",
    "    sensor_image_right,\n",
    "    grid_left,\n",
    "    corrected_grid_right,\n",
    "    geom_plugin_with_dem_and_geoid,\n",
    "    disp_min=np.min(disp_range_grid[0, 0][\"disp_min_grid\"].values),\n",
    "    disp_max=np.max(disp_range_grid[0, 0][\"disp_max_grid\"].values)\n",
    ")"
   ]
  },
  {
   "cell_type": "markdown",
   "id": "15413f23-f082-4d62-85a9-474b58505bff",
   "metadata": {},
   "source": [
    "### Triangulation : triangulate matches"
   ]
  },
  {
   "cell_type": "code",
   "execution_count": null,
   "id": "2f43a59c-3cea-4ca7-9de5-eab30324211c",
   "metadata": {},
   "outputs": [],
   "source": [
    "epipolar_point_cloud = triangulation_application.run(\n",
    "    sensor_image_left,\n",
    "    sensor_image_right,\n",
    "    grid_left,\n",
    "    corrected_grid_right,\n",
    "    epipolar_disparity_map,\n",
    "    geom_plugin_without_dem_and_geoid,\n",
    "    new_epipolar_image_left,\n",
    "    epsg,\n",
    "    orchestrator=cars_orchestrator,\n",
    "    uncorrected_grid_right=grid_right,\n",
    "    geoid_path=updated_inputs_conf[sens_cst.INITIAL_ELEVATION][sens_cst.GEOID],\n",
    ")"
   ]
  },
  {
   "cell_type": "markdown",
   "id": "19e815a1-7c88-44ca-9c16-96ca332e094e",
   "metadata": {},
   "source": [
    " #### Compute terrain bounding box"
   ]
  },
  {
   "cell_type": "code",
   "execution_count": null,
   "id": "bda732cc-b761-4389-a14a-096e76fa89e0",
   "metadata": {},
   "outputs": [],
   "source": [
    "current_terrain_roi_bbox, _ = preprocessing.compute_terrain_bbox(\n",
    "    sensor_image_left,\n",
    "    sensor_image_right,\n",
    "    new_epipolar_image_left,\n",
    "    grid_left,\n",
    "    corrected_grid_right,\n",
    "    epsg,\n",
    "    geom_plugin_with_dem_and_geoid,\n",
    "    resolution=0.5,\n",
    "    disp_min=np.min(disp_range_grid[0, 0][\"disp_min_grid\"].values),\n",
    "    disp_max=np.max(disp_range_grid[0, 0][\"disp_max_grid\"].values),\n",
    "    orchestrator=cars_orchestrator\n",
    ")\n",
    "terrain_bounds, optimal_terrain_tile_width = preprocessing.compute_terrain_bounds(\n",
    "    [current_terrain_roi_bbox],\n",
    "    resolution=0.5\n",
    ")"
   ]
  },
  {
   "cell_type": "markdown",
   "id": "4ff0dc69-3db3-4e09-bd99-dc8042abfbad",
   "metadata": {},
   "source": [
    "#### Transform point cloud to terrain point cloud"
   ]
  },
  {
   "cell_type": "code",
   "execution_count": null,
   "id": "20f2fc50-4ed8-48e7-b324-4dc8f71627fc",
   "metadata": {},
   "outputs": [],
   "source": [
    "merged_point_clouds = pc_fusion_application.run(\n",
    "    [epipolar_point_cloud],\n",
    "    terrain_bounds,\n",
    "    epsg,\n",
    "    orchestrator=cars_orchestrator,\n",
    "    margins=rasterization_application.get_margins(0.5),\n",
    "    optimal_terrain_tile_width=optimal_terrain_tile_width\n",
    ")"
   ]
  },
  {
   "cell_type": "markdown",
   "id": "9eb9052b-e0d7-4b63-8152-dd8541e23d0f",
   "metadata": {},
   "source": [
    "### Point Cloud Outlier Removing : remove points with small components removing method"
   ]
  },
  {
   "cell_type": "code",
   "execution_count": null,
   "id": "dd0f821b-21df-45b8-85cc-b0550ffe73bb",
   "metadata": {},
   "outputs": [],
   "source": [
    "filtered_sc_merged_point_clouds = pc_outlier_removal_small_comp_application.run(\n",
    "    merged_point_clouds,\n",
    "    orchestrator=cars_orchestrator,\n",
    ")    "
   ]
  },
  {
   "cell_type": "markdown",
   "id": "ae05e50b-ac50-4047-b90d-cd3459103fd3",
   "metadata": {},
   "source": [
    "### Point Cloud Outlier Removing: remove points with statistical removing method"
   ]
  },
  {
   "cell_type": "code",
   "execution_count": null,
   "id": "688b93bb-7400-424e-837b-82a75e5efb71",
   "metadata": {},
   "outputs": [],
   "source": [
    "filtered_stats_merged_point_clouds = pc_outlier_removal_stats_application.run(\n",
    "    filtered_sc_merged_point_clouds,\n",
    "    orchestrator=cars_orchestrator,\n",
    ")"
   ]
  },
  {
   "cell_type": "markdown",
   "id": "5eb943f0-cea6-4774-b159-0c63e8a2512f",
   "metadata": {},
   "source": [
    "### Rasterization : rasterize point cloud"
   ]
  },
  {
   "cell_type": "code",
   "execution_count": null,
   "id": "2064961e-b868-4007-b8fc-3f5e1af614a4",
   "metadata": {},
   "outputs": [],
   "source": [
    "dsm = rasterization_application.run(\n",
    "    filtered_stats_merged_point_clouds,\n",
    "    epsg,\n",
    "    resolution=0.5,\n",
    "    orchestrator=cars_orchestrator\n",
    ")"
   ]
  },
  {
   "cell_type": "markdown",
   "id": "16fdb7f8-93e0-46a1-9075-6a453c1ad734",
   "metadata": {},
   "source": [
    "### Show DSM\n"
   ]
  },
  {
   "cell_type": "code",
   "execution_count": null,
   "id": "34dd7d4d-d40d-4ac4-8da9-c1e8d8fa886e",
   "metadata": {},
   "outputs": [],
   "source": [
    "data_dsm = get_full_data(dsm, \"hgt\")\n",
    "show_data(data_dsm, mode=\"dsm\")"
   ]
  },
  {
   "cell_type": "markdown",
   "id": "db85381f-4a62-40a4-915c-933043f22491",
   "metadata": {},
   "source": [
    "### Show ortho image"
   ]
  },
  {
   "cell_type": "code",
   "execution_count": null,
   "id": "c4f00e06-08c0-4c55-ac23-5d29359bdd07",
   "metadata": {},
   "outputs": [],
   "source": [
    "data_ortho = get_full_data(dsm, \"img\")\n",
    "show_data(data_ortho, mode='image')"
   ]
  },
  {
   "cell_type": "markdown",
   "id": "9747541b-8ece-46ac-8e4b-43c560b5df5c",
   "metadata": {},
   "source": [
    "### Save DSM"
   ]
  },
  {
   "cell_type": "code",
   "execution_count": null,
   "id": "ca88b228-c17b-49bd-94c7-411f91a04163",
   "metadata": {},
   "outputs": [],
   "source": [
    "save_data(dsm, os.path.join(output_dir, \"dsm.tif\"), \"hgt\")"
   ]
  },
  {
   "cell_type": "code",
   "execution_count": null,
   "id": "371e85c0",
   "metadata": {},
   "outputs": [],
   "source": []
  }
 ],
 "metadata": {
  "kernelspec": {
   "display_name": "Python 3 (ipykernel)",
   "language": "python",
   "name": "python3"
  },
  "language_info": {
   "codemirror_mode": {
    "name": "ipython",
    "version": 3
   },
   "file_extension": ".py",
   "mimetype": "text/x-python",
   "name": "python",
   "nbconvert_exporter": "python",
   "pygments_lexer": "ipython3",
   "version": "3.10.15"
  }
 },
 "nbformat": 4,
 "nbformat_minor": 5
}
