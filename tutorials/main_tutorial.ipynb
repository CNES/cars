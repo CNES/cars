{
 "cells": [
  {
   "cell_type": "markdown",
   "id": "482ae900",
   "metadata": {
    "slideshow": {
     "slide_type": "slide"
    }
   },
   "source": [
    "# Tutorial\n",
    "\n",
    "<img src=\"images/picto_transparent.png\" alt=\"CARS logo\" width=\"200\" align=\"right\"/>\n",
    "\n",
    "This tutorial CARS tutorial presentation is a global presentation of CARS 3D restitution ecosystem.\n",
    "\n",
    "\n"
   ]
  },
  {
   "cell_type": "markdown",
   "id": "0fedc9b2",
   "metadata": {
    "slideshow": {
     "slide_type": "slide"
    }
   },
   "source": [
    "## Outline\n",
    "\n",
    "&emsp;[Tutorial preparation](#Tutorial-preparation)<br>\n",
    "&emsp;[CARS context](#CARS-context)<br>\n",
    "&emsp;[3D photogrammetry basics](#3D-photogrammetry-basics)<br>\n",
    "&emsp;[CARS quickstart](#CARS-quickstart)<br>\n",
    "&emsp;[CARS CLI examples](#CARS-CLI-examples)<br>\n",
    "&emsp;[CARS Step by step framework manipulation](#CARS-Step-by-step-framework-manipulation)<br>\n",
    "&emsp;[CARS stereo matching with AI improvement for better DSM accuracy](#CARS-stereo-matching-with-AI-improvement-for-better-DSM-accuracy)<br>\n"
   ]
  },
  {
   "cell_type": "markdown",
   "id": "275d703e",
   "metadata": {
    "slideshow": {
     "slide_type": "slide"
    }
   },
   "source": [
    "## Tutorial preparation"
   ]
  },
  {
   "cell_type": "markdown",
   "id": "a634cbdb",
   "metadata": {
    "slideshow": {
     "slide_type": "slide"
    }
   },
   "source": [
    "\n",
    "## CARS context\n",
    "\n"
   ]
  },
  {
   "cell_type": "markdown",
   "id": "e8b26e35",
   "metadata": {
    "slideshow": {
     "slide_type": "slide"
    }
   },
   "source": [
    "## 3D photogrammetry basics"
   ]
  },
  {
   "cell_type": "markdown",
   "id": "78cf8135",
   "metadata": {
    "slideshow": {
     "slide_type": "slide"
    }
   },
   "source": [
    "## CARS quickstart"
   ]
  },
  {
   "cell_type": "markdown",
   "id": "aca77c08",
   "metadata": {
    "slideshow": {
     "slide_type": "slide"
    }
   },
   "source": [
    "## CARS CLI examples"
   ]
  },
  {
   "cell_type": "markdown",
   "id": "48765336",
   "metadata": {
    "slideshow": {
     "slide_type": "slide"
    }
   },
   "source": [
    "## CARS Step by step framework manipulation"
   ]
  },
  {
   "cell_type": "markdown",
   "id": "cad006ba",
   "metadata": {
    "slideshow": {
     "slide_type": "slide"
    }
   },
   "source": [
    "## CARS stereo matching with AI improvement for better DSM accuracy"
   ]
  },
  {
   "cell_type": "markdown",
   "id": "7f27dbd6",
   "metadata": {
    "slideshow": {
     "slide_type": "slide"
    }
   },
   "source": [
    "### Thanks for reading! \n",
    "\n",
    "Questions ?"
   ]
  }
 ],
 "metadata": {
  "celltoolbar": "Diaporama",
  "kernelspec": {
   "display_name": "cars-0.4.3",
   "language": "python",
   "name": "cars-0.4.3"
  },
  "language_info": {
   "codemirror_mode": {
    "name": "ipython",
    "version": 3
   },
   "file_extension": ".py",
   "mimetype": "text/x-python",
   "name": "python",
   "nbconvert_exporter": "python",
   "pygments_lexer": "ipython3",
   "version": "3.8.10"
  }
 },
 "nbformat": 4,
 "nbformat_minor": 5
}
