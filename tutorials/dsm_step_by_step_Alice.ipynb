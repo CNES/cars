{
 "cells": [
  {
   "cell_type": "markdown",
   "id": "16eb7b25-7d54-4dc0-bdf6-f8ffad496dc2",
   "metadata": {},
   "source": [
    "# Dense dsm step by step from sensor images for Alice\n",
    "\n",
    "This notebook correspond to the \"DSM compute\" part performed step by step.\n"
   ]
  },
  {
   "cell_type": "markdown",
   "id": "1591b3bd-2f4c-4c5e-a65d-752b90e37418",
   "metadata": {},
   "source": [
    "### Imports"
   ]
  },
  {
   "cell_type": "code",
   "execution_count": null,
   "id": "7f7b6fe6-b60c-4f99-948b-2b7a1af4f52a",
   "metadata": {},
   "outputs": [],
   "source": [
    "# Notebook local imports\n",
    "\n",
    "import os\n",
    "import math\n",
    "###\n",
    "# Silent OTB info logs\n",
    "os.environ['OTB_LOGGER_LEVEL']='WARNING'\n",
    "import warnings\n",
    "# Filter warnings\n",
    "warnings.filterwarnings(\"ignore\",category=UserWarning)\n",
    "# import pretty print\n",
    "import pprint \n",
    "pp = pprint.PrettyPrinter(indent=4)\n",
    "\n",
    "# import external function for notebook\n",
    "from notebook_helpers import get_full_data, show_data, save_data, get_dir_path, set_up_demo_inputs"
   ]
  },
  {
   "cell_type": "code",
   "execution_count": null,
   "id": "8f755410-d2af-4a34-8de6-e3c784cc6178",
   "metadata": {},
   "outputs": [],
   "source": [
    "# Additional imports\n",
    "from collections import OrderedDict\n",
    "import numpy as np\n",
    "import json\n",
    "import matplotlib.pyplot as plt"
   ]
  },
  {
   "cell_type": "code",
   "execution_count": null,
   "id": "72c0030d-8b0d-4ca9-84e7-370af1ecc8f4",
   "metadata": {},
   "outputs": [],
   "source": [
    "# CARS imports\n",
    "\n",
    "# Applications\n",
    "from cars.applications.application import Application\n",
    "from cars.applications.grid_generation import grid_correction\n",
    "from cars.applications.sparse_matching import sparse_matching_tools\n",
    "\n",
    "# Pipelines\n",
    "import cars.pipelines.sensor_to_dense_dsm.sensor_dense_dsm_constants as sens_cst\n",
    "from cars.pipelines.sensor_to_dense_dsm import sensors_inputs\n",
    "from cars.pipelines.sensor_to_dense_dsm import dsm_output\n",
    "\n",
    "# Conf, core, orchestrator\n",
    "from cars.conf import log_conf\n",
    "from cars.core import inputs, preprocessing\n",
    "from cars.core.utils import safe_makedirs\n",
    "from cars.orchestrator import orchestrator\n",
    "from cars.core.utils import make_relative_path_absolute"
   ]
  },
  {
   "cell_type": "code",
   "execution_count": null,
   "id": "7be5977b-c916-424f-8c50-8c2bc9ec63e8",
   "metadata": {},
   "outputs": [],
   "source": [
    "# Show CARS version\n",
    "from cars import __version__\n",
    "print(\"CARS version used : {}\".format(__version__))"
   ]
  },
  {
   "cell_type": "markdown",
   "id": "e345f961-0e80-453f-afe6-b15a7f026f28",
   "metadata": {},
   "source": [
    "---------\n",
    "\n",
    "## Inputs/Outputs"
   ]
  },
  {
   "cell_type": "markdown",
   "id": "b35429a0-0a8e-4a83-ae4f-506777fbfdb9",
   "metadata": {},
   "source": [
    "### Define outputs"
   ]
  },
  {
   "cell_type": "code",
   "execution_count": null,
   "id": "750644f6-96d5-45d9-979c-980183ad4e9a",
   "metadata": {},
   "outputs": [],
   "source": [
    "# Modify with your own output path if needed\n",
    "output_dir = os.path.join(get_dir_path(), \"output_notebook\")\n",
    "print(output_dir)"
   ]
  },
  {
   "cell_type": "markdown",
   "id": "67f2bfa9-0b57-40ff-815b-0dd95f8fbfa3",
   "metadata": {},
   "source": [
    "## CARS Configuration \n",
    "\n",
    "More information for CARS configuration [here](https://cars.readthedocs.io/en/stable/user_guide/configuration.html)"
   ]
  },
  {
   "cell_type": "markdown",
   "id": "e87bf76c-08c6-4e89-84a5-0657fe6f08c6",
   "metadata": {},
   "source": [
    "### Define inputs"
   ]
  },
  {
   "cell_type": "markdown",
   "id": "a73d3d95-0513-4880-83c9-ad2dc7222f32",
   "metadata": {},
   "source": [
    "TODO : Ajouter les masques"
   ]
  },
  {
   "cell_type": "code",
   "execution_count": null,
   "id": "e96e685f-0c4e-4c3a-94eb-39a5a80798d3",
   "metadata": {},
   "outputs": [],
   "source": [
    "input_images_path = \"/work/CAMPUS/users/sarrazine/outputs/bench_mns/data/refined\"\n",
    "img1_name = \"IMG_P_001.tif\"\n",
    "mask1_name = \"mask1.tif\"\n",
    "classif1_name = \"classif1.tif\"\n",
    "img2_name = \"IMG_P_002.tif\"\n",
    "mask2_name = \"mask2.tif\"\n",
    "classif2_name = \"classif2.tif\"\n",
    "roi_path = \"/work/CAMPUS/users/sarrazine/outputs/bench_mns/out_refined/urban_area.shp\"\n",
    "roi_path=\"/work/CAMPUS/users/parasca/stage_alice/Montpellier/xt_ortho_IMG_001.tif\"\n",
    "prepare_path = \"/work/CAMPUS/users/sarrazine/outputs/bench_mns/out_cars_0.5/prepare12/content.json\"\n",
    "srtm_dir = \"/datalake/static_aux/MNT/SRTM_90m/\""
   ]
  },
  {
   "cell_type": "code",
   "execution_count": null,
   "id": "89ac6e4f-4d01-45b4-bb37-39ef9f2f8d73",
   "metadata": {},
   "outputs": [],
   "source": [
    "img1_path = os.path.join(input_images_path, img1_name)\n",
    "img2_path = os.path.join(input_images_path, img2_name)"
   ]
  },
  {
   "cell_type": "code",
   "execution_count": null,
   "id": "4ab93b5f-bc61-45bc-944c-1ecf24ca6008",
   "metadata": {},
   "outputs": [],
   "source": [
    "xt_img1_path = os.path.join(output_dir, \"xt_\" + img1_name)\n",
    "xt_img2_path = os.path.join(output_dir, \"xt_\" + img2_name)"
   ]
  },
  {
   "cell_type": "markdown",
   "id": "627273c2-075d-4604-b63c-9a5dad4e9c2c",
   "metadata": {},
   "source": [
    "ExtractROI"
   ]
  },
  {
   "cell_type": "code",
   "execution_count": null,
   "id": "007dd007-3ed5-49a0-831a-d7576bb73c6b",
   "metadata": {},
   "outputs": [],
   "source": [
    "import otbApplication as otb\n",
    "def extract_roi(img_path, xt_img_path, roi_path, srtm_dir):\n",
    "    app = otb.Registry.CreateApplication(\"ExtractROI\")\n",
    "    app.SetParameterString(\"in\", img_path)\n",
    "    app.SetParameterString(\"out\", xt_img_path)\n",
    "    app.SetParameterString(\"mode\", \"fit\") \n",
    "    if os.path.splitext(roi_path)[1] == \".shp\":\n",
    "        app.SetParameterString(\"mode.fit.vect\", roi_path)\n",
    "    elif os.path.splitext(roi_path)[1] == \".tif\":\n",
    "        app.SetParameterString(\"mode.fit.im\", roi_path)\n",
    "    else:\n",
    "        raise Exception(\"ROI extension not known\")\n",
    "    app.SetParameterString(\"elev.dem\", srtm_dir)\n",
    "    app.ExecuteAndWriteOutput()"
   ]
  },
  {
   "cell_type": "code",
   "execution_count": null,
   "id": "869cb742-c2a9-49e4-a69a-6629929f3184",
   "metadata": {},
   "outputs": [],
   "source": [
    "#extract_roi(img1_path, xt_img1_path, roi_path, srtm_dir)\n",
    "#extract_roi(img2_path, xt_img2_path, roi_path, srtm_dir)"
   ]
  },
  {
   "cell_type": "markdown",
   "id": "ca02309a-140f-4f63-ac01-01d9cdca7b4d",
   "metadata": {},
   "source": [
    "Get prepare information"
   ]
  },
  {
   "cell_type": "code",
   "execution_count": null,
   "id": "616d51e1-e131-479b-8ce7-58fb35201de7",
   "metadata": {},
   "outputs": [],
   "source": [
    "def get_prepare_infos(filepath, key):\n",
    "    grid_correction = None\n",
    "    disparity_range = None\n",
    "    with open(prepare_path,'r') as f:\n",
    "        prepare_conf = json.load(f)\n",
    "        apriori_infos = prepare_conf[\"inputs\"][\"epipolar_a_priori\"]\n",
    "        if apriori_infos.get(key) is None :\n",
    "            raise Exception(\"Pairing not available\")\n",
    "        grid_coeffecients = apriori_infos[key][\"grid_correction\"]\n",
    "        disparity_range = apriori_infos[key][\"disparity_range\"]\n",
    "    return grid_coeffecients, disparity_range"
   ]
  },
  {
   "cell_type": "code",
   "execution_count": null,
   "id": "796f7e67-2574-4443-9f47-dd2891ae6155",
   "metadata": {},
   "outputs": [],
   "source": [
    "grid_coefficients, disparity_range = get_prepare_infos(prepare_path, \"img1_img2\")"
   ]
  },
  {
   "cell_type": "markdown",
   "id": "40bb5326-6b1e-40af-abd7-536221896d8d",
   "metadata": {},
   "source": [
    "Create json configuration for CARS"
   ]
  },
  {
   "cell_type": "code",
   "execution_count": null,
   "id": "c0a49402-aca7-4c87-ad23-f4c0d06254d4",
   "metadata": {},
   "outputs": [],
   "source": [
    "def configure_cars(img1,img2,srtm, roi, grid_coefs, disp_range):\n",
    "    return {\n",
    "                \"sensors\": {\n",
    "                    \"img1\": {\n",
    "                        \"image\": img1,\n",
    "                        \"geomodel\": os.path.splitext(img1)[0]+\".geom\",\n",
    "                        \"color\": img1, # On pourrait ajouter la couleur avec l'image P+XS\n",
    "                        \"no_data\": 0,\n",
    "                    },\n",
    "                    \"img2\": {\n",
    "                        \"image\": img2,\n",
    "                        \"geomodel\": os.path.splitext(img2)[0]+\".geom\",\n",
    "                        \"no_data\": 0,\n",
    "                    },\n",
    "                },\n",
    "                \"pairing\": [[\"img1\", \"img2\"]], # Mettre les combinaisons que l'on veut traiter\n",
    "                \"initial_elevation\": srtm,\n",
    "                \"roi\": roi, # Pour l'instant ça sert à rien\n",
    "                \"epipolar_a_priori\": {\n",
    "                  \"img1_img2\": {\n",
    "                    \"grid_correction\": grid_coefs,\n",
    "                    \"disparity_range\": disp_range,\n",
    "                  }\n",
    "                },\n",
    "                \"use_epipolar_a_priori\": True,\n",
    "            }\n"
   ]
  },
  {
   "cell_type": "code",
   "execution_count": null,
   "id": "a8bb3e8e-1c13-4b43-9200-6fd7ed90bf99",
   "metadata": {},
   "outputs": [],
   "source": [
    "inputs_conf = configure_cars(xt_img1_path,xt_img2_path,srtm_dir, roi_path, grid_coefficients, disparity_range)\n",
    "pp.pprint(inputs_conf)"
   ]
  },
  {
   "cell_type": "code",
   "execution_count": null,
   "id": "2f138b48-7fb7-4286-9cba-779cd6246212",
   "metadata": {},
   "outputs": [],
   "source": [
    "updated_inputs_conf = sensors_inputs.sensors_check_inputs(inputs_conf)\n",
    "pp.pprint(updated_inputs_conf)"
   ]
  },
  {
   "cell_type": "markdown",
   "id": "805d1a8e-8c19-48dd-a583-88dccf757e6c",
   "metadata": {},
   "source": [
    "---------\n",
    "\n",
    "## Applications Init"
   ]
  },
  {
   "cell_type": "markdown",
   "id": "a000b584-d32b-4bfb-94fd-59b73b3c64bb",
   "metadata": {},
   "source": [
    "#### GridGeneration\n",
    "\n",
    "This application generates epipolar grids corresponding to sensor pair"
   ]
  },
  {
   "cell_type": "code",
   "execution_count": null,
   "id": "edb25835-ff32-4c86-a40d-a9e15aff9bda",
   "metadata": {},
   "outputs": [],
   "source": [
    "# TODO REMOVE\n",
    "\n",
    "import importlib\n",
    "import cars\n",
    "importlib.reload(os)\n",
    "importlib.reload(cars.applications.resampling.bicubic_resampling)\n",
    "importlib.reload(cars.applications.dense_matching.census_mccnn_sgm)"
   ]
  },
  {
   "cell_type": "code",
   "execution_count": null,
   "id": "0b94cdfd-615a-4894-804f-4fa051f7dd3f",
   "metadata": {},
   "outputs": [],
   "source": [
    "epipolar_grid_generation_application = Application(\"grid_generation\")"
   ]
  },
  {
   "cell_type": "markdown",
   "id": "fce2db08-74cf-40a8-bafc-9cddac747ff4",
   "metadata": {},
   "source": [
    "#### Resampling\n",
    "\n",
    "This application generates epipolar images from epipolar grids "
   ]
  },
  {
   "cell_type": "code",
   "execution_count": null,
   "id": "c760ceba-7dd2-4266-a906-0393a93bbb53",
   "metadata": {},
   "outputs": [],
   "source": [
    "resampling_application = Application(\"resampling\")"
   ]
  },
  {
   "cell_type": "markdown",
   "id": "9b1bb4ca-36c9-490c-b20f-eb4987183e45",
   "metadata": {},
   "source": [
    "#### DenseMatching\n",
    "\n",
    "This application generates dense matches of stereo images pairs"
   ]
  },
  {
   "cell_type": "code",
   "execution_count": null,
   "id": "97a6bcaa-9d3a-4f0e-ba5f-401807aea440",
   "metadata": {},
   "outputs": [],
   "source": [
    "conf_pandora = OrderedDict([\n",
    "    ('input',{'nodata_left': -9999, 'nodata_right': -9999}),\n",
    "    ('pipeline',{\n",
    "        'right_disp_map': {'method': 'accurate'},\n",
    "        'matching_cost': {\n",
    "            'matching_cost_method': 'census',\n",
    "            'window_size': 5,\n",
    "            'subpix': 1\n",
    "        },\n",
    "        'optimization': {\n",
    "            'optimization_method': 'sgm',\n",
    "            'overcounting': False,\n",
    "            'penalty': {\n",
    "                'P1': 8,\n",
    "                'P2': 32,\n",
    "                'p2_method': 'constant',\n",
    "                'penalty_method': 'sgm_penalty'\n",
    "            },\n",
    "            'sgm_version': 'c++',\n",
    "            'min_cost_paths': False,\n",
    "            'use_confidence': False\n",
    "        },\n",
    "        'cost_volume_confidence': {\n",
    "            'confidence_method': 'ambiguity',\n",
    "            'eta_max': 0.7,\n",
    "            'eta_step': 0.01,\n",
    "           'indicator': ''\n",
    "        },\n",
    "        'disparity': {\n",
    "            'disparity_method': 'wta',\n",
    "            'invalid_disparity': np.nan\n",
    "        },\n",
    "        'refinement': {'refinement_method': 'vfit'},\n",
    "        'filter': {'filter_method': 'median', 'filter_size': 3},\n",
    "        'validation': {\n",
    "            'validation_method': 'cross_checking',\n",
    "            'cross_checking_threshold': 1.0\n",
    "        }\n",
    "    })\n",
    "])"
   ]
  },
  {
   "cell_type": "code",
   "execution_count": null,
   "id": "7a53a95f-5f49-412d-8dc1-97932e78f9ba",
   "metadata": {},
   "outputs": [],
   "source": [
    "conf_dense_matching = {'method': 'census_sgm', # A laisser on s'est fiche on surchage avec l'info au dessus, ce qui compte c'ets la conf de pandora\n",
    "                       'loader': 'pandora',\n",
    "                       'loader_conf': conf_pandora,\n",
    "                      }"
   ]
  },
  {
   "cell_type": "code",
   "execution_count": null,
   "id": "9187b0a1-ffda-445d-a2ca-6305a55a1852",
   "metadata": {},
   "outputs": [],
   "source": [
    "dense_matching_application = Application(\"dense_matching\",cfg=conf_dense_matching)"
   ]
  },
  {
   "cell_type": "markdown",
   "id": "70fc57f9-6aac-4e1f-8ec4-4bd674515867",
   "metadata": {},
   "source": [
    "#### Show used application configuration"
   ]
  },
  {
   "cell_type": "code",
   "execution_count": null,
   "id": "88b285eb-c4bc-4dcf-9379-34b324ea67df",
   "metadata": {},
   "outputs": [],
   "source": [
    "# Example with dense matching application\n",
    "dense_matching_application.print_config()"
   ]
  },
  {
   "cell_type": "markdown",
   "id": "a7860234-b211-466a-8cc2-43a1fb769839",
   "metadata": {},
   "source": [
    "#### Triangulation\n",
    "\n",
    "This application triangulates matches, in order to get each (X, Y, Z) point position"
   ]
  },
  {
   "cell_type": "code",
   "execution_count": null,
   "id": "c3904b20-dd90-4202-a91f-6186c51a3800",
   "metadata": {},
   "outputs": [],
   "source": [
    "triangulation_application = Application(\"triangulation\")"
   ]
  },
  {
   "cell_type": "markdown",
   "id": "d84ca47c-e520-4488-bfa4-7ff6c85ce78c",
   "metadata": {},
   "source": [
    "#### PointCloudFusion\n",
    "\n",
    "This application performs the fusion of epipolar points from pairs to a terrain point cloud"
   ]
  },
  {
   "cell_type": "code",
   "execution_count": null,
   "id": "29e57ea2-84a2-4598-9218-032cce1678ef",
   "metadata": {},
   "outputs": [],
   "source": [
    "pc_fusion_application = Application(\"point_cloud_fusion\")"
   ]
  },
  {
   "cell_type": "markdown",
   "id": "2f4b68fe-f0f5-4e58-9a7c-06f976cf0235",
   "metadata": {},
   "source": [
    "#### PointCloudOutliersRemoving : small components\n",
    "\n",
    "This application removes outliers points. The method used is the \"small components removing\""
   ]
  },
  {
   "cell_type": "code",
   "execution_count": null,
   "id": "8cac0f1d-542f-4bc1-a1b6-b0fffe6bd6e2",
   "metadata": {},
   "outputs": [],
   "source": [
    "conf_outlier_removing_small_components = {\"method\": \"small_components\", \"activated\": True}\n",
    "pc_outlier_removing_small_comp_application = Application(\"point_cloud_outliers_removing\", cfg=conf_outlier_removing_small_components)"
   ]
  },
  {
   "cell_type": "markdown",
   "id": "51682146-3b56-471e-9530-44fdc53332cd",
   "metadata": {},
   "source": [
    "#### PointCloudOutliersRemoving : statistical\n",
    "\n",
    "This application removes outliers points. The method used is the \"statistical removing\""
   ]
  },
  {
   "cell_type": "code",
   "execution_count": null,
   "id": "2d9eaf2e-b3b9-4c1a-baa9-5c4474902ddc",
   "metadata": {},
   "outputs": [],
   "source": [
    "conf_outlier_removing_small_statistical = {\"method\": \"statistical\", \"activated\": True}\n",
    "pc_outlier_removing_stats_application = Application(\"point_cloud_outliers_removing\", cfg=conf_outlier_removing_small_statistical)"
   ]
  },
  {
   "cell_type": "markdown",
   "id": "e32e187c-92f7-4b79-ab82-74fae9f1553d",
   "metadata": {},
   "source": [
    "\n",
    "#### PointCloudRasterization\n",
    "\n",
    "This application performs the rasterization of a terrain point cloint."
   ]
  },
  {
   "cell_type": "code",
   "execution_count": null,
   "id": "cc196e18-d5ad-4441-93fb-a2c8f6fa69a9",
   "metadata": {},
   "outputs": [],
   "source": [
    "conf_rasterization = { \n",
    "    \"method\": \"simple_gaussian\",\n",
    "    \"dsm_radius\": 3,\n",
    "    \"sigma\": 0.3\n",
    "}\n",
    "rasterization_application = Application(\"point_cloud_rasterization\", cfg=conf_rasterization)"
   ]
  },
  {
   "cell_type": "code",
   "execution_count": null,
   "id": "dd192b31-9975-4927-8b3a-53225821b0ab",
   "metadata": {},
   "outputs": [],
   "source": []
  },
  {
   "cell_type": "markdown",
   "id": "d7b6424b-09a6-4c5c-ac55-3f9972a0d5c8",
   "metadata": {},
   "source": [
    "### Create orchestrator\n"
   ]
  },
  {
   "cell_type": "code",
   "execution_count": null,
   "id": "9df071c0-5478-464f-bec4-a08b46d3eeb3",
   "metadata": {},
   "outputs": [],
   "source": [
    "# Use sequential mode in notebook\n",
    "orchestrator_conf = {\"mode\": \"mp\", \"nb_workers\": 10} # On reste en séquentiel pour l'instant\n",
    "cars_orchestrator = orchestrator.Orchestrator(orchestrator_conf=orchestrator_conf, out_dir=output_dir)"
   ]
  },
  {
   "cell_type": "code",
   "execution_count": null,
   "id": "7ead0b4d-8a81-4ab0-b85f-c2c9c30f0be8",
   "metadata": {},
   "outputs": [],
   "source": [
    "\n",
    "def compute_cell(orchestrator, list_cars_ds):\n",
    "    \n",
    "    # add cars datasets to save lists\n",
    "    for cars_ds in list_cars_ds:\n",
    "        orchestrator.add_to_replace_lists(cars_ds)\n",
    "        \n",
    "    # trigger computation and replacement\n",
    "    orchestrator.breakpoint()"
   ]
  },
  {
   "cell_type": "markdown",
   "id": "ced933d0-15a0-448e-b426-cd3171a609d7",
   "metadata": {},
   "source": [
    "---------\n",
    "\n",
    "## Run pipeline step by step from sensors to DSM"
   ]
  },
  {
   "cell_type": "markdown",
   "id": "02b096ba-cdd3-47e5-9778-ce4fa8f3a3c6",
   "metadata": {},
   "source": [
    "### Sensors images generation\n",
    "\n",
    "From input configuration \"inputs\" seen before"
   ]
  },
  {
   "cell_type": "code",
   "execution_count": null,
   "id": "1fc74dcd-eaa7-4bed-b1c9-ae5369e1a0bc",
   "metadata": {},
   "outputs": [],
   "source": [
    "_, sensor_image_left, sensor_image_right = sensors_inputs.generate_inputs(updated_inputs_conf)[0]"
   ]
  },
  {
   "cell_type": "markdown",
   "id": "35fa45cc-8969-444a-a524-f51acda84322",
   "metadata": {},
   "source": [
    "### Grid Generation : epipolar grid generation"
   ]
  },
  {
   "cell_type": "code",
   "execution_count": null,
   "id": "604e0309-5615-4320-ba1b-fc0e5f018c39",
   "metadata": {},
   "outputs": [],
   "source": [
    "\n",
    "\n",
    "grid_left, grid_right = epipolar_grid_generation_application.run(\n",
    "    sensor_image_left,\n",
    "    sensor_image_right,\n",
    "    orchestrator=cars_orchestrator,\n",
    "    srtm_dir=updated_inputs_conf[sens_cst.INITIAL_ELEVATION],\n",
    "    default_alt=updated_inputs_conf[sens_cst.DEFAULT_ALT],\n",
    "    geoid_path=updated_inputs_conf[sens_cst.GEOID],\n",
    ")"
   ]
  },
  {
   "cell_type": "markdown",
   "id": "13049b1d-e858-4e1f-99bb-8a7ca976899f",
   "metadata": {},
   "source": [
    "### Correct right grid"
   ]
  },
  {
   "cell_type": "markdown",
   "id": "e665ebb7-474a-4dc1-ab37-dadb23b85340",
   "metadata": {},
   "source": [
    "Correction coefficients for the right grid (computed during the prepare step)"
   ]
  },
  {
   "cell_type": "code",
   "execution_count": null,
   "id": "dfc311c7-25f1-4544-bdda-72fb9d59b624",
   "metadata": {},
   "outputs": [],
   "source": [
    "\n",
    "grid_coefficients"
   ]
  },
  {
   "cell_type": "markdown",
   "id": "8b354d94-6da3-4d63-9816-06826d40a2d7",
   "metadata": {},
   "source": [
    "Generate corrected right grid"
   ]
  },
  {
   "cell_type": "code",
   "execution_count": null,
   "id": "03839c32-9aae-4da4-9b0e-712c366f44d4",
   "metadata": {},
   "outputs": [],
   "source": [
    "def apply_grid_correction(grid, conf): \n",
    "    coefficients = conf[\"epipolar_a_priori\"][\"img1_img2\"][\"grid_correction\"]\n",
    "    coefs_x = coefficients[:3]\n",
    "    coefs_x.append(0.0)\n",
    "    coefs_y = coefficients[3:6]\n",
    "    coefs_y.append(0.0)\n",
    "    grid_coeffs = (\n",
    "    np.array(coefs_x).reshape((2, 2)),\n",
    "    np.array(coefs_y).reshape((2, 2)),\n",
    "              )\n",
    "    # Correct grid right with provided epipolar a priori\n",
    "    return grid_correction.correct_grid(grid, grid_coeffs)"
   ]
  },
  {
   "cell_type": "code",
   "execution_count": null,
   "id": "ded1d960-1fb0-4d8a-a9fa-4ba6153fa356",
   "metadata": {},
   "outputs": [],
   "source": [
    "corrected_grid_right = apply_grid_correction(grid_right, updated_inputs_conf)"
   ]
  },
  {
   "cell_type": "markdown",
   "id": "025c3545-aca1-4059-91f6-0773e29eb81f",
   "metadata": {},
   "source": [
    "### Define disparity interval"
   ]
  },
  {
   "cell_type": "code",
   "execution_count": null,
   "id": "afde5b44-36f7-4b59-84ec-73400d72c50d",
   "metadata": {},
   "outputs": [],
   "source": [
    "dmin, dmax = disparity_range\n",
    "print(f\"disp min = {dmin:.2f}\")\n",
    "print(f\"disp max = {dmax:.2f}\")"
   ]
  },
  {
   "cell_type": "markdown",
   "id": "0a8190af-9a30-414c-b808-52d26d5c488c",
   "metadata": {},
   "source": [
    "### Compute margins used in dense matching, with corresponding disparity min and max"
   ]
  },
  {
   "cell_type": "code",
   "execution_count": null,
   "id": "347e7842-554c-4fa2-a9df-f13dbbfd3806",
   "metadata": {},
   "outputs": [],
   "source": [
    "dense_matching_margins, disp_min, disp_max = dense_matching_application.get_margins(\n",
    "    grid_left, disp_min=dmin, disp_max=dmax)"
   ]
  },
  {
   "cell_type": "markdown",
   "id": "bdc39b9a-b16a-40cb-b7a7-bbe6a9f15127",
   "metadata": {},
   "source": [
    "### Resampling : epipolar images generation\n"
   ]
  },
  {
   "cell_type": "code",
   "execution_count": null,
   "id": "249c01e1-7969-4059-9085-64d02ce5ba0a",
   "metadata": {},
   "outputs": [],
   "source": [
    "epipolar_image_left, epipolar_image_right = resampling_application.run(\n",
    "    sensor_image_left,\n",
    "    sensor_image_right,\n",
    "    grid_left,\n",
    "    corrected_grid_right,\n",
    "    orchestrator=cars_orchestrator,\n",
    "    margins=dense_matching_margins,\n",
    "    optimum_tile_size=(\n",
    "        dense_matching_application.get_optimal_tile_size(\n",
    "            disp_min, \n",
    "            disp_max,\n",
    "            cars_orchestrator.cluster.checked_conf_cluster[\n",
    "                \"max_ram_per_worker\"\n",
    "            ],\n",
    "        )\n",
    "    ),\n",
    "    add_color=True,\n",
    ")\n",
    "# Compute cell              \n",
    "compute_cell(cars_orchestrator, [epipolar_image_left, epipolar_image_right])\n"
   ]
  },
  {
   "cell_type": "code",
   "execution_count": null,
   "id": "8133f8e9-be59-408b-a82b-28c02ccced4d",
   "metadata": {},
   "outputs": [],
   "source": []
  },
  {
   "cell_type": "markdown",
   "id": "bed4e090-17ca-4199-8983-f8bf207972a5",
   "metadata": {},
   "source": [
    "### Show epipolar image"
   ]
  },
  {
   "cell_type": "code",
   "execution_count": null,
   "id": "9729be2b-62e0-4cdb-a5ab-5ea859525681",
   "metadata": {},
   "outputs": [],
   "source": [
    "data_image_left = get_full_data(epipolar_image_left, \"im\")\n",
    "data_mask_left = get_full_data(epipolar_image_left, \"msk\")\n",
    "data_image_right = get_full_data(epipolar_image_right, \"im\")\n",
    "data_mask_right = get_full_data(epipolar_image_right, \"msk\")"
   ]
  },
  {
   "cell_type": "code",
   "execution_count": null,
   "id": "689c7125-cca4-40dd-95d8-0a7dcae51e97",
   "metadata": {},
   "outputs": [],
   "source": [
    "data_mask_left[np.where(data_mask_left !=0)]"
   ]
  },
  {
   "cell_type": "code",
   "execution_count": null,
   "id": "c6b6182b-61ed-4fb8-bc8b-7ac6562aadce",
   "metadata": {},
   "outputs": [],
   "source": [
    "def show_epilolar_images(img_left, mask_left, img_right, mask_right, fig_size=8):\n",
    "    clip_percent = 5\n",
    "    vmin_left = np.percentile(img_left,clip_percent)\n",
    "    vmax_left = np.percentile(img_left,100-clip_percent)\n",
    "    vmin_right = np.percentile(img_right,clip_percent)\n",
    "    vmax_right = np.percentile(img_right,100-clip_percent)\n",
    "    fig, axes = plt.subplots(nrows=1, ncols=2, figsize=(fig_size, 1.05 * fig_size / 2), subplot_kw={'aspect': 1})\n",
    "    axes[0].set_title(\"Left image\")\n",
    "    axes[0].imshow(img_left, cmap=\"gray\", interpolation='spline36', vmin=vmin_left, vmax=vmax_left)\n",
    "    axes[0].imshow(np.ma.masked_where(mask_left == 0, mask_left), cmap='tab10', alpha=0.5)\n",
    "    axes[0].axhline(len(img_left)/2., color='red')\n",
    "    axes[1].set_title(\"Right image\")\n",
    "    axes[1].imshow(img_right, cmap=\"gray\", interpolation='spline36', vmin=vmin_right, vmax=vmax_right)\n",
    "    axes[1].imshow(np.ma.masked_where(mask_right == 0, mask_right), cmap='tab10', alpha=0.5)\n",
    "    axes[1].axhline(len(img_right)/2., color='red')\n",
    "    fig.tight_layout()"
   ]
  },
  {
   "cell_type": "code",
   "execution_count": null,
   "id": "47973266-2aab-4cf0-88b1-78c211e9c0e1",
   "metadata": {},
   "outputs": [],
   "source": [
    "show_epilolar_images(data_image_left, data_mask_left, data_image_right, data_mask_right)"
   ]
  },
  {
   "cell_type": "markdown",
   "id": "89073ed3-231f-4386-928d-92c40ede20e1",
   "metadata": {},
   "source": [
    "### Dense Matching: compute disparities with pandora"
   ]
  },
  {
   "cell_type": "code",
   "execution_count": null,
   "id": "2e2fb226-ce1b-44a0-aa6b-3fce976a3106",
   "metadata": {},
   "outputs": [],
   "source": [
    "epipolar_disparity_map_left, epipolar_disparity_map_right = dense_matching_application.run(\n",
    "    epipolar_image_left,\n",
    "    epipolar_image_right,\n",
    "    orchestrator=cars_orchestrator,\n",
    "    disp_min=disp_min,\n",
    "    disp_max=disp_max,\n",
    ")\n",
    "               \n",
    "# Compute cell              \n",
    "compute_cell(cars_orchestrator, [epipolar_disparity_map_left, epipolar_disparity_map_right])\n"
   ]
  },
  {
   "cell_type": "markdown",
   "id": "03a61233-bdb9-48b5-ba28-1ddf8a63c9f5",
   "metadata": {},
   "source": [
    "\n",
    "#### Show full disparity map"
   ]
  },
  {
   "cell_type": "code",
   "execution_count": null,
   "id": "1542cf41-183b-4a00-8799-4fe8de80c7b4",
   "metadata": {},
   "outputs": [],
   "source": [
    "data_disparity = get_full_data(epipolar_disparity_map_left, \"disp\")\n",
    "show_data(data_disparity, figsize=(4, 4))"
   ]
  },
  {
   "cell_type": "markdown",
   "id": "86b31a15-634f-4098-a59e-7759d0a94681",
   "metadata": {},
   "source": [
    " Compute epsg"
   ]
  },
  {
   "cell_type": "code",
   "execution_count": null,
   "id": "0c447031-3cf3-487c-802a-676b7e11f68a",
   "metadata": {},
   "outputs": [],
   "source": [
    "epsg = preprocessing.compute_epsg(\n",
    "    sensor_image_left, \n",
    "    sensor_image_right,\n",
    "    grid_left,\n",
    "    corrected_grid_right,\n",
    "    triangulation_application.get_geometry_loader(),\n",
    "    orchestrator=cars_orchestrator,\n",
    "    srtm_dir=updated_inputs_conf[sens_cst.INITIAL_ELEVATION],\n",
    "    default_alt=updated_inputs_conf[sens_cst.DEFAULT_ALT],\n",
    "    disp_min=disp_min,\n",
    "    disp_max=disp_max\n",
    ")"
   ]
  },
  {
   "cell_type": "markdown",
   "id": "15413f23-f082-4d62-85a9-474b58505bff",
   "metadata": {},
   "source": [
    "### Triangulation : triangulate matches"
   ]
  },
  {
   "cell_type": "code",
   "execution_count": null,
   "id": "2f43a59c-3cea-4ca7-9de5-eab30324211c",
   "metadata": {},
   "outputs": [],
   "source": [
    "epipolar_points_cloud_left, epipolar_points_cloud_right = triangulation_application.run(\n",
    "    sensor_image_left,\n",
    "    sensor_image_right,\n",
    "    epipolar_image_left,\n",
    "    epipolar_image_right,\n",
    "    grid_left,\n",
    "    corrected_grid_right,\n",
    "    epipolar_disparity_map_left,\n",
    "    epipolar_disparity_map_right,\n",
    "    epsg,\n",
    "    orchestrator=cars_orchestrator,\n",
    "    uncorrected_grid_right=grid_right,\n",
    "    geoid_path=updated_inputs_conf[sens_cst.GEOID],\n",
    "    disp_min=disp_min,\n",
    "    disp_max=disp_max,\n",
    ")\n",
    "# Compute cell              \n",
    "compute_cell(cars_orchestrator, [epipolar_points_cloud_left, epipolar_points_cloud_right])"
   ]
  },
  {
   "cell_type": "markdown",
   "id": "19e815a1-7c88-44ca-9c16-96ca332e094e",
   "metadata": {},
   "source": [
    " #### Compute terrain bounding box"
   ]
  },
  {
   "cell_type": "code",
   "execution_count": null,
   "id": "bda732cc-b761-4389-a14a-096e76fa89e0",
   "metadata": {},
   "outputs": [],
   "source": [
    "current_terrain_roi_bbox = preprocessing.compute_terrain_bbox(\n",
    "    updated_inputs_conf[sens_cst.INITIAL_ELEVATION],\n",
    "    updated_inputs_conf[sens_cst.DEFAULT_ALT],\n",
    "    updated_inputs_conf[sens_cst.GEOID],\n",
    "    sensor_image_left,\n",
    "    sensor_image_right,\n",
    "    epipolar_image_left,\n",
    "    grid_left,\n",
    "    corrected_grid_right,\n",
    "    epsg,\n",
    "    triangulation_application.get_geometry_loader(),\n",
    "    resolution=rasterization_application.get_resolution(),\n",
    "    disp_min=disp_min,\n",
    "    disp_max=disp_max,\n",
    "    orchestrator=cars_orchestrator\n",
    ")\n",
    "terrain_bounds, optimal_terrain_tile_width = preprocessing.compute_terrain_bounds(\n",
    "    [current_terrain_roi_bbox],\n",
    "    resolution=rasterization_application.get_resolution()\n",
    ")"
   ]
  },
  {
   "cell_type": "markdown",
   "id": "4ff0dc69-3db3-4e09-bd99-dc8042abfbad",
   "metadata": {},
   "source": [
    "#### Transform point cloud to terrain point cloud"
   ]
  },
  {
   "cell_type": "code",
   "execution_count": null,
   "id": "20f2fc50-4ed8-48e7-b324-4dc8f71627fc",
   "metadata": {},
   "outputs": [],
   "source": [
    "merged_points_clouds = pc_fusion_application.run(\n",
    "    [epipolar_points_cloud_left],\n",
    "    [epipolar_points_cloud_right],\n",
    "    terrain_bounds,\n",
    "    epsg,\n",
    "    orchestrator=cars_orchestrator,\n",
    "    margins=rasterization_application.get_margins(),\n",
    "    optimal_terrain_tile_width=optimal_terrain_tile_width\n",
    ")\n",
    "# Compute cell              \n",
    "compute_cell(cars_orchestrator, [merged_points_clouds])"
   ]
  },
  {
   "cell_type": "markdown",
   "id": "9eb9052b-e0d7-4b63-8152-dd8541e23d0f",
   "metadata": {},
   "source": [
    "### Point Cloud Outlier Removing : remove points with small components removing method"
   ]
  },
  {
   "cell_type": "code",
   "execution_count": null,
   "id": "dd0f821b-21df-45b8-85cc-b0550ffe73bb",
   "metadata": {},
   "outputs": [],
   "source": [
    "filtered_sc_merged_points_clouds = pc_outlier_removing_small_comp_application.run(\n",
    "    merged_points_clouds,\n",
    "    orchestrator=cars_orchestrator,\n",
    ")    \n",
    "# Compute cell              \n",
    "compute_cell(cars_orchestrator, [filtered_sc_merged_points_clouds])"
   ]
  },
  {
   "cell_type": "markdown",
   "id": "ae05e50b-ac50-4047-b90d-cd3459103fd3",
   "metadata": {},
   "source": [
    "### Point Cloud Outlier Removing: remove points with statistical removing method"
   ]
  },
  {
   "cell_type": "code",
   "execution_count": null,
   "id": "688b93bb-7400-424e-837b-82a75e5efb71",
   "metadata": {},
   "outputs": [],
   "source": [
    "filtered_stats_merged_points_clouds = pc_outlier_removing_stats_application.run(\n",
    "    filtered_sc_merged_points_clouds,\n",
    "    orchestrator=cars_orchestrator,\n",
    ")\n",
    "# Compute cell              \n",
    "compute_cell(cars_orchestrator, [filtered_stats_merged_points_clouds])"
   ]
  },
  {
   "cell_type": "markdown",
   "id": "5eb943f0-cea6-4774-b159-0c63e8a2512f",
   "metadata": {},
   "source": [
    "### Rasterization : rasterize point cloud"
   ]
  },
  {
   "cell_type": "code",
   "execution_count": null,
   "id": "2064961e-b868-4007-b8fc-3f5e1af614a4",
   "metadata": {},
   "outputs": [],
   "source": [
    "dsm = rasterization_application.run(\n",
    "    filtered_stats_merged_points_clouds,\n",
    "    epsg,\n",
    "    orchestrator=cars_orchestrator\n",
    ")\n",
    "# Compute cell              \n",
    "compute_cell(cars_orchestrator, [dsm])"
   ]
  },
  {
   "cell_type": "markdown",
   "id": "16fdb7f8-93e0-46a1-9075-6a453c1ad734",
   "metadata": {},
   "source": [
    "### Show DSM\n"
   ]
  },
  {
   "cell_type": "code",
   "execution_count": null,
   "id": "34dd7d4d-d40d-4ac4-8da9-c1e8d8fa886e",
   "metadata": {},
   "outputs": [],
   "source": [
    "data_dsm = get_full_data(dsm, \"hgt\")\n",
    "show_data(data_dsm, figsize=(4, 4), mode=\"dsm\")"
   ]
  },
  {
   "cell_type": "markdown",
   "id": "db85381f-4a62-40a4-915c-933043f22491",
   "metadata": {},
   "source": [
    "### Show ortho image"
   ]
  },
  {
   "cell_type": "code",
   "execution_count": null,
   "id": "c4f00e06-08c0-4c55-ac23-5d29359bdd07",
   "metadata": {},
   "outputs": [],
   "source": [
    "data_ortho = get_full_data(dsm, \"img\")\n",
    "show_data(data_ortho, figsize=(4, 4), mode='image')\n"
   ]
  },
  {
   "cell_type": "markdown",
   "id": "9747541b-8ece-46ac-8e4b-43c560b5df5c",
   "metadata": {},
   "source": [
    "### Save DSM"
   ]
  },
  {
   "cell_type": "code",
   "execution_count": null,
   "id": "ca88b228-c17b-49bd-94c7-411f91a04163",
   "metadata": {},
   "outputs": [],
   "source": [
    "save_data(dsm, os.path.join(output_dir, \"dsm.tif\"), \"hgt\")"
   ]
  },
  {
   "cell_type": "code",
   "execution_count": null,
   "id": "93e1530a-2652-4f1e-a33f-c01ab926c3b8",
   "metadata": {},
   "outputs": [],
   "source": []
  }
 ],
 "metadata": {
  "kernelspec": {
   "display_name": "cars-0.6.0",
   "language": "python",
   "name": "cars-0.6.0"
  },
  "language_info": {
   "codemirror_mode": {
    "name": "ipython",
    "version": 3
   },
   "file_extension": ".py",
   "mimetype": "text/x-python",
   "name": "python",
   "nbconvert_exporter": "python",
   "pygments_lexer": "ipython3",
   "version": "3.8.4"
  },
  "vscode": {
   "interpreter": {
    "hash": "0041c8a096542147678ce172f28dc37755329eb6be210e24ce9840eb2f3e2525"
   }
  }
 },
 "nbformat": 4,
 "nbformat_minor": 5
}
