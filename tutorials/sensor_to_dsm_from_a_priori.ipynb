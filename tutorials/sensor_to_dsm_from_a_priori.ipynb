{
 "cells": [
  {
   "cell_type": "markdown",
   "id": "16eb7b25-7d54-4dc0-bdf6-f8ffad496dc2",
   "metadata": {},
   "source": [
    "# Dense dsm step by step from sensor images\n",
    "\n",
    "This notebook correspond to the sensors to dense dsm pipeline, starting from epipolar a priori.\n",
    "\n",
    "User has to have previously generated epipolar a priori with a run of SensorsToDenseDSM pipeline or SensorsToSparseDSM pipeline.\n"
   ]
  },
  {
   "cell_type": "markdown",
   "id": "1591b3bd-2f4c-4c5e-a65d-752b90e37418",
   "metadata": {},
   "source": [
    "### Imports"
   ]
  },
  {
   "cell_type": "code",
   "execution_count": null,
   "id": "7f7b6fe6-b60c-4f99-948b-2b7a1af4f52a",
   "metadata": {},
   "outputs": [],
   "source": [
    "# Notebook local imports\n",
    "import os\n",
    "import math\n",
    "###\n",
    "import warnings\n",
    "# Filter warnings\n",
    "warnings.filterwarnings(\"ignore\",category=UserWarning)\n",
    "# import pretty print\n",
    "import pprint \n",
    "pp = pprint.PrettyPrinter(indent=4)\n",
    "\n",
    "# import external function for notebook\n",
    "from notebook_helpers import get_full_data, show_data, save_data, get_dir_path, set_up_demo_inputs\n",
    "from notebook_helpers import update_advanced_conf_with_a_priori, extract_a_priori_from_config, apply_grid_correction\n",
    "from notebook_helpers import compute_cell, show_epipolar_images\n"
   ]
  },
  {
   "cell_type": "code",
   "execution_count": null,
   "id": "8f755410-d2af-4a34-8de6-e3c784cc6178",
   "metadata": {},
   "outputs": [],
   "source": [
    "# Additional imports\n",
    "from collections import OrderedDict\n",
    "import numpy as np\n",
    "import json\n",
    "import matplotlib.pyplot as plt"
   ]
  },
  {
   "cell_type": "code",
   "execution_count": null,
   "id": "72c0030d-8b0d-4ca9-84e7-370af1ecc8f4",
   "metadata": {},
   "outputs": [],
   "source": [
    "\n",
    "# CARS imports\n",
    "\n",
    "# Applications\n",
    "from cars.applications.application import Application\n",
    "from cars.applications.sparse_matching import sparse_matching_tools\n",
    "\n",
    "# Pipelines\n",
    "import cars.pipelines.parameters.sensor_inputs_constants as sens_cst\n",
    "from cars.pipelines.parameters import sensor_inputs, output_parameters\n",
    "from cars.pipelines.pipeline_constants import GEOMETRY_PLUGIN\n",
    "\n",
    "# Conf, core, orchestrator\n",
    "from cars.core import cars_logging\n",
    "from cars.core import inputs, preprocessing, roi_tools, tiling\n",
    "from cars.core.utils import safe_makedirs\n",
    "from cars.orchestrator import orchestrator\n",
    "from cars.core.utils import make_relative_path_absolute\n",
    "from cars import import_plugins"
   ]
  },
  {
   "cell_type": "code",
   "execution_count": null,
   "id": "7be5977b-c916-424f-8c50-8c2bc9ec63e8",
   "metadata": {},
   "outputs": [],
   "source": [
    "# Show CARS version\n",
    "from cars import __version__\n",
    "print(\"CARS version used : {}\".format(__version__))"
   ]
  },
  {
   "cell_type": "code",
   "execution_count": null,
   "id": "c93b0180",
   "metadata": {},
   "outputs": [],
   "source": [
    "# Import external plugins\n",
    "import_plugins()"
   ]
  },
  {
   "cell_type": "markdown",
   "id": "e345f961-0e80-453f-afe6-b15a7f026f28",
   "metadata": {},
   "source": [
    "---------\n",
    "\n",
    "## Inputs/Outputs"
   ]
  },
  {
   "cell_type": "markdown",
   "id": "b35429a0-0a8e-4a83-ae4f-506777fbfdb9",
   "metadata": {},
   "source": [
    "### Define outputs"
   ]
  },
  {
   "cell_type": "code",
   "execution_count": null,
   "id": "750644f6-96d5-45d9-979c-980183ad4e9a",
   "metadata": {},
   "outputs": [],
   "source": [
    "# Modify with your own output path if needed\n",
    "output_dir = os.path.join(get_dir_path(), \"output_notebook\")\n",
    "safe_makedirs(output_dir)\n",
    "print(output_dir)"
   ]
  },
  {
   "cell_type": "markdown",
   "id": "67f2bfa9-0b57-40ff-815b-0dd95f8fbfa3",
   "metadata": {},
   "source": [
    "## CARS Configuration \n",
    "\n",
    "More information for CARS configuration [here](https://cars.readthedocs.io/en/stable/user_guide/configuration.html)"
   ]
  },
  {
   "cell_type": "markdown",
   "id": "e87bf76c-08c6-4e89-84a5-0657fe6f08c6",
   "metadata": {},
   "source": [
    "### Define inputs"
   ]
  },
  {
   "cell_type": "code",
   "execution_count": null,
   "id": "94e2c150-d99c-471a-8983-1072dd71f3a1",
   "metadata": {},
   "outputs": [],
   "source": [
    "# By default, the tutorial use data_gizeh_small.tar.bz2\n",
    "input_dir_path = set_up_demo_inputs(\"data_gizeh_small\")\n",
    "\n",
    "inputs_conf = {\n",
    "    \"sensors\": {\n",
    "        \"left\": {\n",
    "            \"image\": os.path.join(input_dir_path, \"img1.tif\"),\n",
    "            \"geomodel\": {\n",
    "              \"path\": os.path.join(input_dir_path, \"img1.geom\")\n",
    "            },\n",
    "            \"color\": os.path.join(input_dir_path, \"color1.tif\"),\n",
    "            \"classification\": os.path.join(input_dir_path, \"classif1.tif\")\n",
    "        },\n",
    "        \"right\": {\n",
    "            \"image\": os.path.join(input_dir_path, \"img2.tif\"),\n",
    "            \"geomodel\": {\n",
    "              \"path\": os.path.join(input_dir_path, \"img2.geom\")\n",
    "            },\n",
    "            \"classification\": os.path.join(input_dir_path, \"classif2.tif\")\n",
    "        },   \n",
    "    },\n",
    "    \"pairing\": [[\"left\", \"right\"]],\n",
    "    \"roi\":{\n",
    "      \"type\": \"FeatureCollection\",\n",
    "      \"features\": [\n",
    "        {\n",
    "          \"type\": \"Feature\",\n",
    "          \"properties\": {},\n",
    "          \"geometry\": {\n",
    "            \"coordinates\": [\n",
    "              [\n",
    "                [\n",
    "                  31.134842671152256,\n",
    "                  29.978783846127072\n",
    "                ],\n",
    "                [\n",
    "                  31.134842671152256,\n",
    "                  29.977029249051853\n",
    "                ],\n",
    "                [\n",
    "                  31.137048614704412,\n",
    "                  29.977029249051853\n",
    "                ],\n",
    "                [\n",
    "                  31.137048614704412,\n",
    "                  29.978783846127072\n",
    "                ],\n",
    "                [\n",
    "                  31.134842671152256,\n",
    "                  29.978783846127072\n",
    "                ]\n",
    "              ]\n",
    "            ],\n",
    "            \"type\": \"Polygon\"\n",
    "          }\n",
    "        }\n",
    "      ]\n",
    "    }\n",
    "}\n",
    "\n",
    "# Be carefull, pair names must be the same, if not, do not use this function, overide directly in your configuration\n",
    "advanced_conf = {}\n",
    "update_advanced_conf_with_a_priori(advanced_conf, os.path.join(input_dir_path, \"used_conf.json\"), input_dir_path)"
   ]
  },
  {
   "cell_type": "markdown",
   "id": "900f8f99-4caa-4736-a130-7c08496bd732",
   "metadata": {},
   "source": [
    "#### Extract a priori from conf"
   ]
  },
  {
   "cell_type": "code",
   "execution_count": null,
   "id": "3f8c16b3-3979-4058-b662-36210a0a4387",
   "metadata": {},
   "outputs": [],
   "source": [
    "grid_coefficients, disparity_range, dem_median, dem_min, dem_max = extract_a_priori_from_config(advanced_conf)"
   ]
  },
  {
   "cell_type": "code",
   "execution_count": null,
   "id": "2f138b48-7fb7-4286-9cba-779cd6246212",
   "metadata": {},
   "outputs": [],
   "source": [
    "updated_inputs_conf = sensor_inputs.sensors_check_inputs(inputs_conf)\n",
    "pp.pprint(updated_inputs_conf)"
   ]
  },
  {
   "cell_type": "code",
   "execution_count": null,
   "id": "b847c63b",
   "metadata": {},
   "outputs": [],
   "source": [
    "updated_inputs_conf[\"initial_elevation\"][\"dem\"] = dem_median\n",
    "(\n",
    "    _,\n",
    "    updated_inputs_conf[GEOMETRY_PLUGIN],\n",
    "    geom_plugin_without_dem_and_geoid,\n",
    "    geom_plugin_with_dem_and_geoid,\n",
    "    _\n",
    ") = sensor_inputs.check_geometry_plugin(\n",
    "    updated_inputs_conf, {}, updated_inputs_conf.get(GEOMETRY_PLUGIN, None)\n",
    ")"
   ]
  },
  {
   "cell_type": "markdown",
   "id": "805d1a8e-8c19-48dd-a583-88dccf757e6c",
   "metadata": {},
   "source": [
    "---------\n",
    "\n",
    "## Applications Init"
   ]
  },
  {
   "cell_type": "markdown",
   "id": "a000b584-d32b-4bfb-94fd-59b73b3c64bb",
   "metadata": {},
   "source": [
    "#### GridGeneration\n",
    "\n",
    "This application generates epipolar grids corresponding to sensor pair"
   ]
  },
  {
   "cell_type": "code",
   "execution_count": null,
   "id": "0b94cdfd-615a-4894-804f-4fa051f7dd3f",
   "metadata": {},
   "outputs": [],
   "source": [
    "epipolar_grid_generation_application = Application(\"grid_generation\")"
   ]
  },
  {
   "cell_type": "markdown",
   "id": "fce2db08-74cf-40a8-bafc-9cddac747ff4",
   "metadata": {},
   "source": [
    "#### Resampling\n",
    "\n",
    "This application generates epipolar images from epipolar grids "
   ]
  },
  {
   "cell_type": "code",
   "execution_count": null,
   "id": "c760ceba-7dd2-4266-a906-0393a93bbb53",
   "metadata": {},
   "outputs": [],
   "source": [
    "resampling_application = Application(\"resampling\")"
   ]
  },
  {
   "cell_type": "markdown",
   "id": "9b1bb4ca-36c9-490c-b20f-eb4987183e45",
   "metadata": {},
   "source": [
    "#### DenseMatching\n",
    "\n",
    "This application generates dense matches of stereo images pairs"
   ]
  },
  {
   "cell_type": "code",
   "execution_count": null,
   "id": "97a6bcaa-9d3a-4f0e-ba5f-401807aea440",
   "metadata": {},
   "outputs": [],
   "source": [
    "conf_pandora = OrderedDict([\n",
    "    ('input',{'nodata_left': -9999, 'nodata_right': -9999}),\n",
    "    ('pipeline',{\n",
    "        'matching_cost': {\n",
    "            'matching_cost_method': 'census',\n",
    "            'window_size': 5,\n",
    "            'subpix': 1,\n",
    "        },\n",
    "        'optimization': {\n",
    "            'optimization_method': 'sgm',\n",
    "            'overcounting': False,\n",
    "            'penalty': {\n",
    "                'P1': 8,\n",
    "                'P2': 32,\n",
    "                'p2_method': 'constant',\n",
    "                'penalty_method': 'sgm_penalty'\n",
    "            },\n",
    "            'sgm_version': 'c++',\n",
    "            'min_cost_paths': False\n",
    "        },\n",
    "        'cost_volume_confidence': {\n",
    "            'confidence_method': 'ambiguity',\n",
    "            'eta_max': 0.7,\n",
    "            'eta_step': 0.01,\n",
    "           'indicator': ''\n",
    "        },\n",
    "        'disparity': {\n",
    "            'disparity_method': 'wta',\n",
    "            'invalid_disparity': np.nan\n",
    "        },\n",
    "        'refinement': {'refinement_method': 'vfit'},\n",
    "        'filter': {'filter_method': 'median', 'filter_size': 3},\n",
    "        'validation': {\n",
    "            'validation_method': 'cross_checking_accurate',\n",
    "            'cross_checking_threshold': 1.0\n",
    "        }\n",
    "    })\n",
    "])"
   ]
  },
  {
   "cell_type": "code",
   "execution_count": null,
   "id": "7a53a95f-5f49-412d-8dc1-97932e78f9ba",
   "metadata": {},
   "outputs": [],
   "source": [
    "conf_dense_matching = {'method': 'census_sgm',\n",
    "                       'loader': 'pandora',\n",
    "                       'loader_conf': conf_pandora,\n",
    "                      }"
   ]
  },
  {
   "cell_type": "code",
   "execution_count": null,
   "id": "9187b0a1-ffda-445d-a2ca-6305a55a1852",
   "metadata": {},
   "outputs": [],
   "source": [
    "dense_matching_application = Application(\"dense_matching\",cfg=conf_dense_matching)"
   ]
  },
  {
   "cell_type": "markdown",
   "id": "70fc57f9-6aac-4e1f-8ec4-4bd674515867",
   "metadata": {},
   "source": [
    "#### Show used application configuration"
   ]
  },
  {
   "cell_type": "code",
   "execution_count": null,
   "id": "88b285eb-c4bc-4dcf-9379-34b324ea67df",
   "metadata": {},
   "outputs": [],
   "source": [
    "# Example with dense matching application\n",
    "dense_matching_application.print_config()"
   ]
  },
  {
   "cell_type": "markdown",
   "id": "a7860234-b211-466a-8cc2-43a1fb769839",
   "metadata": {},
   "source": [
    "#### Triangulation\n",
    "\n",
    "This application triangulates matches, in order to get each (X, Y, Z) point position"
   ]
  },
  {
   "cell_type": "code",
   "execution_count": null,
   "id": "c3904b20-dd90-4202-a91f-6186c51a3800",
   "metadata": {},
   "outputs": [],
   "source": [
    "triangulation_application = Application(\"triangulation\")"
   ]
  },
  {
   "cell_type": "markdown",
   "id": "d84ca47c-e520-4488-bfa4-7ff6c85ce78c",
   "metadata": {},
   "source": [
    "#### PointCloudFusion\n",
    "\n",
    "This application performs the fusion of epipolar points from pairs to a terrain point cloud"
   ]
  },
  {
   "cell_type": "code",
   "execution_count": null,
   "id": "29e57ea2-84a2-4598-9218-032cce1678ef",
   "metadata": {},
   "outputs": [],
   "source": [
    "pc_fusion_application = Application(\"point_cloud_fusion\")"
   ]
  },
  {
   "cell_type": "markdown",
   "id": "2f4b68fe-f0f5-4e58-9a7c-06f976cf0235",
   "metadata": {},
   "source": [
    "#### PointCloudOutlierRemoval : small components\n",
    "\n",
    "This application removes outliers points. The method used is \"small component removal\""
   ]
  },
  {
   "cell_type": "code",
   "execution_count": null,
   "id": "8cac0f1d-542f-4bc1-a1b6-b0fffe6bd6e2",
   "metadata": {},
   "outputs": [],
   "source": [
    "conf_outlier_removal_small_components = {\"method\": \"small_components\", \"activated\": True}\n",
    "pc_outlier_removal_small_comp_application = Application(\"point_cloud_outlier_removal\", cfg=conf_outlier_removal_small_components)"
   ]
  },
  {
   "cell_type": "markdown",
   "id": "51682146-3b56-471e-9530-44fdc53332cd",
   "metadata": {},
   "source": [
    "#### PointCloudOutlierRemoval : statistical\n",
    "\n",
    "This application removes outliers points. The method used is \"statistical removal\""
   ]
  },
  {
   "cell_type": "code",
   "execution_count": null,
   "id": "2d9eaf2e-b3b9-4c1a-baa9-5c4474902ddc",
   "metadata": {},
   "outputs": [],
   "source": [
    "conf_outlier_removal_small_statistical = {\"method\": \"statistical\", \"activated\": True}\n",
    "pc_outlier_removal_stats_application = Application(\"point_cloud_outlier_removal\", cfg=conf_outlier_removal_small_statistical)"
   ]
  },
  {
   "cell_type": "markdown",
   "id": "e32e187c-92f7-4b79-ab82-74fae9f1553d",
   "metadata": {},
   "source": [
    "\n",
    "#### PointCloudRasterization\n",
    "\n",
    "This application performs the rasterization of a terrain point cloint."
   ]
  },
  {
   "cell_type": "code",
   "execution_count": null,
   "id": "cc196e18-d5ad-4441-93fb-a2c8f6fa69a9",
   "metadata": {},
   "outputs": [],
   "source": [
    "conf_rasterization = { \n",
    "    \"method\": \"simple_gaussian\",\n",
    "    \"dsm_radius\": 3,\n",
    "    \"sigma\": 0.3\n",
    "}\n",
    "rasterization_application = Application(\"point_cloud_rasterization\", cfg=conf_rasterization)\n",
    "rasterization_application.print_config()"
   ]
  },
  {
   "cell_type": "markdown",
   "id": "d7b6424b-09a6-4c5c-ac55-3f9972a0d5c8",
   "metadata": {},
   "source": [
    "### Create orchestrator\n"
   ]
  },
  {
   "cell_type": "code",
   "execution_count": null,
   "id": "9df071c0-5478-464f-bec4-a08b46d3eeb3",
   "metadata": {},
   "outputs": [],
   "source": [
    "# Customize orchestrator\n",
    "orchestrator_conf = {\"mode\": \"sequential\"} \n",
    "cars_orchestrator = orchestrator.Orchestrator(orchestrator_conf=orchestrator_conf, out_dir=output_dir)"
   ]
  },
  {
   "cell_type": "markdown",
   "id": "ced933d0-15a0-448e-b426-cd3171a609d7",
   "metadata": {},
   "source": [
    "---------\n",
    "\n",
    "## Run pipeline step by step from sensors to DSM"
   ]
  },
  {
   "cell_type": "markdown",
   "id": "02b096ba-cdd3-47e5-9778-ce4fa8f3a3c6",
   "metadata": {},
   "source": [
    "### Sensors images generation\n",
    "\n",
    "From input configuration \"inputs\" seen before"
   ]
  },
  {
   "cell_type": "code",
   "execution_count": null,
   "id": "1fc74dcd-eaa7-4bed-b1c9-ae5369e1a0bc",
   "metadata": {},
   "outputs": [],
   "source": [
    "_, sensor_image_left, sensor_image_right = sensor_inputs.generate_inputs(updated_inputs_conf, geom_plugin_without_dem_and_geoid)[0]"
   ]
  },
  {
   "cell_type": "markdown",
   "id": "c5225b36-65c1-400f-93b8-badffb17f916",
   "metadata": {},
   "source": [
    "### Generate ROI Polygon"
   ]
  },
  {
   "cell_type": "code",
   "execution_count": null,
   "id": "97ce08a1-4768-427e-ba4d-079b7006f6aa",
   "metadata": {},
   "outputs": [],
   "source": [
    "input_roi_poly, input_roi_epsg = roi_tools.generate_roi_poly_from_inputs(\n",
    "    updated_inputs_conf[sens_cst.ROI]\n",
    ")\n",
    "print(\"ROI Polygon: {}\\n\".format(input_roi_poly))\n",
    "print(\"EPSG: {}\".format(input_roi_epsg))"
   ]
  },
  {
   "cell_type": "markdown",
   "id": "35fa45cc-8969-444a-a524-f51acda84322",
   "metadata": {},
   "source": [
    "### Grid Generation : epipolar grid generation"
   ]
  },
  {
   "cell_type": "code",
   "execution_count": null,
   "id": "604e0309-5615-4320-ba1b-fc0e5f018c39",
   "metadata": {},
   "outputs": [],
   "source": [
    "grid_left, grid_right = epipolar_grid_generation_application.run(\n",
    "    sensor_image_left,\n",
    "    sensor_image_right,\n",
    "    geom_plugin_with_dem_and_geoid,\n",
    "    orchestrator=cars_orchestrator\n",
    ")"
   ]
  },
  {
   "cell_type": "markdown",
   "id": "13049b1d-e858-4e1f-99bb-8a7ca976899f",
   "metadata": {},
   "source": [
    "### Correct right grid"
   ]
  },
  {
   "cell_type": "markdown",
   "id": "e665ebb7-474a-4dc1-ab37-dadb23b85340",
   "metadata": {},
   "source": [
    "Correction coefficients for the right grid (computed during the prepare step)"
   ]
  },
  {
   "cell_type": "markdown",
   "id": "8b354d94-6da3-4d63-9816-06826d40a2d7",
   "metadata": {},
   "source": [
    "Generate corrected right grid"
   ]
  },
  {
   "cell_type": "code",
   "execution_count": null,
   "id": "ded1d960-1fb0-4d8a-a9fa-4ba6153fa356",
   "metadata": {},
   "outputs": [],
   "source": [
    "print(\"Grid correction to apply : {}\".format(grid_coefficients))\n",
    "corrected_grid_right = apply_grid_correction(grid_right, grid_coefficients, output_dir)\n",
    "corrected_grid_left = grid_left"
   ]
  },
  {
   "cell_type": "markdown",
   "id": "025c3545-aca1-4059-91f6-0773e29eb81f",
   "metadata": {},
   "source": [
    "### Define disparity interval"
   ]
  },
  {
   "cell_type": "code",
   "execution_count": null,
   "id": "afde5b44-36f7-4b59-84ec-73400d72c50d",
   "metadata": {},
   "outputs": [],
   "source": [
    "dmin, dmax = disparity_range\n",
    "print(\"Global Disparity min = {} , max = {}\".format(dmin, dmax))"
   ]
  },
  {
   "cell_type": "markdown",
   "id": "b2723932-ac2d-46fe-9624-321dc95d1a22",
   "metadata": {},
   "source": [
    "### Define local diparity range grid"
   ]
  },
  {
   "cell_type": "code",
   "execution_count": null,
   "id": "22b124c1-a921-40ec-938a-72a06d94e2ee",
   "metadata": {},
   "outputs": [],
   "source": [
    "# Generate geometry loader with dem min and max and geoid\n",
    "geom_plugin_with_dem_min_and_geoid = (\n",
    "    sensor_inputs.generate_geometry_plugin_with_dem(\n",
    "        updated_inputs_conf.get(GEOMETRY_PLUGIN, None),\n",
    "        updated_inputs_conf,\n",
    "        dem=dem_min,\n",
    "    )\n",
    ")\n",
    "geom_plugin_with_dem_max_and_geoid = (\n",
    "    sensor_inputs.generate_geometry_plugin_with_dem(\n",
    "        updated_inputs_conf.get(GEOMETRY_PLUGIN, None),\n",
    "        updated_inputs_conf,\n",
    "        dem=dem_max,\n",
    "    )\n",
    ")\n",
    "\n",
    "# Generate grids\n",
    "disp_range_grid = dense_matching_application.generate_disparity_grids(\n",
    "    sensor_image_right,\n",
    "    corrected_grid_right,\n",
    "    geom_plugin_with_dem_and_geoid,\n",
    "    dem_min=dem_min,\n",
    "    dem_max=dem_max,\n",
    "    dem_median=dem_median,\n",
    ")\n"
   ]
  },
  {
   "cell_type": "markdown",
   "id": "0a8190af-9a30-414c-b808-52d26d5c488c",
   "metadata": {},
   "source": [
    "### Compute margins used in dense matching, with corresponding disparity min and max"
   ]
  },
  {
   "cell_type": "code",
   "execution_count": null,
   "id": "347e7842-554c-4fa2-a9df-f13dbbfd3806",
   "metadata": {},
   "outputs": [],
   "source": [
    "dense_matching_margins_fun = dense_matching_application.get_margins_fun(\n",
    "    corrected_grid_left, disp_range_grid)"
   ]
  },
  {
   "cell_type": "markdown",
   "id": "46461098-33bc-4a46-a5ef-49700d026984",
   "metadata": {},
   "source": [
    "#### Compute epipolar roi to use"
   ]
  },
  {
   "cell_type": "code",
   "execution_count": null,
   "id": "aabea61c-0a62-45ab-b122-50c20c18261f",
   "metadata": {},
   "outputs": [],
   "source": [
    "epipolar_roi = preprocessing.compute_epipolar_roi(\n",
    "    input_roi_poly, \n",
    "    input_roi_epsg, \n",
    "    geom_plugin_with_dem_and_geoid, \n",
    "    sensor_image_left, \n",
    "    sensor_image_right, \n",
    "    grid_left, \n",
    "    corrected_grid_right,\n",
    "    output_dir,\n",
    "    disp_min=np.min(disp_range_grid[0, 0][\"disp_min_grid\"].values),\n",
    "    disp_max=np.max(disp_range_grid[0, 0][\"disp_max_grid\"].values)\n",
    "    )\n",
    "print(\"Epipolar ROI: {}\".format(epipolar_roi))"
   ]
  },
  {
   "cell_type": "markdown",
   "id": "bdc39b9a-b16a-40cb-b7a7-bbe6a9f15127",
   "metadata": {},
   "source": [
    "### Resampling : epipolar images generation\n"
   ]
  },
  {
   "cell_type": "code",
   "execution_count": null,
   "id": "30956b87-404b-4163-b91d-afb7602981f2",
   "metadata": {},
   "outputs": [],
   "source": [
    "(\n",
    "    optimum_tile_size,\n",
    "    local_tile_optimal_size_fun,\n",
    ") = dense_matching_application.get_optimal_tile_size(\n",
    "    disp_range_grid,\n",
    "    cars_orchestrator.cluster.checked_conf_cluster[\n",
    "        \"max_ram_per_worker\"\n",
    "    ],\n",
    ")"
   ]
  },
  {
   "cell_type": "code",
   "execution_count": null,
   "id": "249c01e1-7969-4059-9085-64d02ce5ba0a",
   "metadata": {},
   "outputs": [],
   "source": [
    "epipolar_image_left, epipolar_image_right = resampling_application.run(\n",
    "    sensor_image_left,\n",
    "    sensor_image_right,\n",
    "    grid_left,\n",
    "    corrected_grid_right,\n",
    "    orchestrator=cars_orchestrator,\n",
    "    margins_fun=dense_matching_margins_fun,\n",
    "    tile_width=optimum_tile_size,\n",
    "    tile_height=optimum_tile_size,\n",
    "    add_color=True,\n",
    "    epipolar_roi=epipolar_roi\n",
    ")\n",
    "# Compute cell\n",
    "compute_cell(cars_orchestrator, [epipolar_image_left, epipolar_image_right])"
   ]
  },
  {
   "cell_type": "code",
   "execution_count": null,
   "id": "37a5fa9c-c007-4686-8869-c37dec8e83b6",
   "metadata": {},
   "outputs": [],
   "source": [
    "data_color = get_full_data(epipolar_image_left, \"color\")\n",
    "show_data(data_color, figsize=(4, 4),  mode='image')"
   ]
  },
  {
   "cell_type": "code",
   "execution_count": null,
   "id": "d6370dc0-cc67-4126-b867-5c5741a425a0",
   "metadata": {},
   "outputs": [],
   "source": [
    "data_classif = get_full_data(epipolar_image_left, \"classif\")\n",
    "print(data_classif.shape)\n",
    "show_data(data_classif, figsize=(4, 4))"
   ]
  },
  {
   "cell_type": "markdown",
   "id": "bed4e090-17ca-4199-8983-f8bf207972a5",
   "metadata": {},
   "source": [
    "### Show epipolar image"
   ]
  },
  {
   "cell_type": "code",
   "execution_count": null,
   "id": "9729be2b-62e0-4cdb-a5ab-5ea859525681",
   "metadata": {},
   "outputs": [],
   "source": [
    "data_image_left = get_full_data(epipolar_image_left, \"im\")\n",
    "data_mask_left = get_full_data(epipolar_image_left, \"msk\")\n",
    "data_image_right = get_full_data(epipolar_image_right, \"im\")\n",
    "data_mask_right = get_full_data(epipolar_image_right, \"msk\")"
   ]
  },
  {
   "cell_type": "code",
   "execution_count": null,
   "id": "47973266-2aab-4cf0-88b1-78c211e9c0e1",
   "metadata": {},
   "outputs": [],
   "source": [
    "show_epipolar_images(data_image_left, data_mask_left, data_image_right, data_mask_right)"
   ]
  },
  {
   "cell_type": "markdown",
   "id": "89073ed3-231f-4386-928d-92c40ede20e1",
   "metadata": {},
   "source": [
    "### Dense Matching: compute disparities with pandora"
   ]
  },
  {
   "cell_type": "code",
   "execution_count": null,
   "id": "2e2fb226-ce1b-44a0-aa6b-3fce976a3106",
   "metadata": {},
   "outputs": [],
   "source": [
    "epipolar_disparity_map = dense_matching_application.run(\n",
    "    epipolar_image_left,\n",
    "    epipolar_image_right,\n",
    "    local_tile_optimal_size_fun,\n",
    "    orchestrator=cars_orchestrator,\n",
    "    disp_range_grid=disp_range_grid,\n",
    ")\n",
    "               \n",
    "# Compute cell              \n",
    "compute_cell(cars_orchestrator, [epipolar_disparity_map])"
   ]
  },
  {
   "cell_type": "markdown",
   "id": "03a61233-bdb9-48b5-ba28-1ddf8a63c9f5",
   "metadata": {},
   "source": [
    "\n",
    "#### Show full disparity map"
   ]
  },
  {
   "cell_type": "code",
   "execution_count": null,
   "id": "1542cf41-183b-4a00-8799-4fe8de80c7b4",
   "metadata": {},
   "outputs": [],
   "source": [
    "data_disparity = get_full_data(epipolar_disparity_map, \"disp\")\n",
    "show_data(data_disparity, figsize=(4, 4))"
   ]
  },
  {
   "cell_type": "markdown",
   "id": "86b31a15-634f-4098-a59e-7759d0a94681",
   "metadata": {},
   "source": [
    " Compute epsg"
   ]
  },
  {
   "cell_type": "code",
   "execution_count": null,
   "id": "0c447031-3cf3-487c-802a-676b7e11f68a",
   "metadata": {},
   "outputs": [],
   "source": [
    "epsg = preprocessing.compute_epsg(\n",
    "    sensor_image_left, \n",
    "    sensor_image_right,\n",
    "    grid_left,\n",
    "    corrected_grid_right,\n",
    "    geom_plugin_with_dem_and_geoid,\n",
    "    disp_min=np.min(disp_range_grid[0, 0][\"disp_min_grid\"].values),\n",
    "    disp_max=np.max(disp_range_grid[0, 0][\"disp_max_grid\"].values)\n",
    ")"
   ]
  },
  {
   "cell_type": "markdown",
   "id": "15413f23-f082-4d62-85a9-474b58505bff",
   "metadata": {},
   "source": [
    "### Triangulation : triangulate matches"
   ]
  },
  {
   "cell_type": "code",
   "execution_count": null,
   "id": "2f43a59c-3cea-4ca7-9de5-eab30324211c",
   "metadata": {},
   "outputs": [],
   "source": [
    "epipolar_point_cloud = triangulation_application.run(\n",
    "    sensor_image_left,\n",
    "    sensor_image_right,\n",
    "    epipolar_image_left,\n",
    "    grid_left,\n",
    "    corrected_grid_right,\n",
    "    epipolar_disparity_map,\n",
    "    epsg,\n",
    "    geom_plugin_without_dem_and_geoid,\n",
    "    orchestrator=cars_orchestrator,\n",
    "    uncorrected_grid_right=grid_right,\n",
    "    geoid_path=updated_inputs_conf[sens_cst.INITIAL_ELEVATION][sens_cst.GEOID],\n",
    ")\n",
    "# Compute cell              \n",
    "compute_cell(cars_orchestrator, [epipolar_point_cloud])"
   ]
  },
  {
   "cell_type": "markdown",
   "id": "19e815a1-7c88-44ca-9c16-96ca332e094e",
   "metadata": {},
   "source": [
    "\n",
    "\n",
    "#### Compute terrain bounding box"
   ]
  },
  {
   "cell_type": "code",
   "execution_count": null,
   "id": "bda732cc-b761-4389-a14a-096e76fa89e0",
   "metadata": {},
   "outputs": [],
   "source": [
    "current_terrain_roi_bbox, _ = preprocessing.compute_terrain_bbox(\n",
    "    sensor_image_left,\n",
    "    sensor_image_right,\n",
    "    epipolar_image_left,\n",
    "    grid_left,\n",
    "    corrected_grid_right,\n",
    "    epsg,\n",
    "    geom_plugin_with_dem_and_geoid,\n",
    "    resolution=0.5,\n",
    "    disp_min=np.min(disp_range_grid[0, 0][\"disp_min_grid\"].values),\n",
    "    disp_max=np.max(disp_range_grid[0, 0][\"disp_max_grid\"].values),\n",
    "    orchestrator=cars_orchestrator\n",
    ")\n",
    "# Compute roi polygon, in input EPSG\n",
    "roi_poly = preprocessing.compute_roi_poly(\n",
    "    input_roi_poly, input_roi_epsg, epsg\n",
    ")\n",
    "terrain_bounds, optimal_terrain_tile_width = preprocessing.compute_terrain_bounds(\n",
    "    [current_terrain_roi_bbox],\n",
    "    roi_poly=roi_poly,\n",
    "    resolution=0.5\n",
    ")"
   ]
  },
  {
   "cell_type": "markdown",
   "id": "4ff0dc69-3db3-4e09-bd99-dc8042abfbad",
   "metadata": {},
   "source": [
    "#### Transform point cloud to terrain point cloud"
   ]
  },
  {
   "cell_type": "code",
   "execution_count": null,
   "id": "20f2fc50-4ed8-48e7-b324-4dc8f71627fc",
   "metadata": {},
   "outputs": [],
   "source": [
    "merged_point_clouds = pc_fusion_application.run(\n",
    "    [epipolar_point_cloud],\n",
    "    terrain_bounds,\n",
    "    epsg,\n",
    "    orchestrator=cars_orchestrator,\n",
    "    margins=rasterization_application.get_margins(0.5),\n",
    "    optimal_terrain_tile_width=optimal_terrain_tile_width\n",
    ")\n",
    "# Compute cell              \n",
    "compute_cell(cars_orchestrator, [merged_point_clouds])"
   ]
  },
  {
   "cell_type": "markdown",
   "id": "9eb9052b-e0d7-4b63-8152-dd8541e23d0f",
   "metadata": {},
   "source": [
    "### Point Cloud Outlier Removing : remove points with small components removing method"
   ]
  },
  {
   "cell_type": "code",
   "execution_count": null,
   "id": "dd0f821b-21df-45b8-85cc-b0550ffe73bb",
   "metadata": {},
   "outputs": [],
   "source": [
    "filtered_sc_merged_point_clouds = pc_outlier_removal_small_comp_application.run(\n",
    "    merged_point_clouds,\n",
    "    orchestrator=cars_orchestrator,\n",
    ")    \n",
    "# Compute cell              \n",
    "compute_cell(cars_orchestrator, [filtered_sc_merged_point_clouds])"
   ]
  },
  {
   "cell_type": "markdown",
   "id": "ae05e50b-ac50-4047-b90d-cd3459103fd3",
   "metadata": {},
   "source": [
    "### Point Cloud Outlier Removing: remove points with statistical removing method"
   ]
  },
  {
   "cell_type": "code",
   "execution_count": null,
   "id": "688b93bb-7400-424e-837b-82a75e5efb71",
   "metadata": {},
   "outputs": [],
   "source": [
    "filtered_stats_merged_point_clouds = pc_outlier_removal_stats_application.run(\n",
    "    filtered_sc_merged_point_clouds,\n",
    "    orchestrator=cars_orchestrator,\n",
    ")\n",
    "# Compute cell              \n",
    "compute_cell(cars_orchestrator, [filtered_stats_merged_point_clouds])"
   ]
  },
  {
   "cell_type": "markdown",
   "id": "5eb943f0-cea6-4774-b159-0c63e8a2512f",
   "metadata": {},
   "source": [
    "### Rasterization : rasterize point cloud"
   ]
  },
  {
   "cell_type": "code",
   "execution_count": null,
   "id": "2064961e-b868-4007-b8fc-3f5e1af614a4",
   "metadata": {},
   "outputs": [],
   "source": [
    "dsm = rasterization_application.run(\n",
    "    filtered_stats_merged_point_clouds,\n",
    "    epsg,\n",
    "    resolution=0.5,\n",
    "    orchestrator=cars_orchestrator,\n",
    "    color_dtype=\"uint16\"\n",
    ")\n",
    "# Compute cell              \n",
    "compute_cell(cars_orchestrator, [dsm])"
   ]
  },
  {
   "cell_type": "markdown",
   "id": "16fdb7f8-93e0-46a1-9075-6a453c1ad734",
   "metadata": {},
   "source": [
    "### Show DSM"
   ]
  },
  {
   "cell_type": "code",
   "execution_count": null,
   "id": "34dd7d4d-d40d-4ac4-8da9-c1e8d8fa886e",
   "metadata": {},
   "outputs": [],
   "source": [
    "data_dsm = get_full_data(dsm, \"hgt\")\n",
    "show_data(data_dsm, figsize=(4, 4), mode=\"dsm\")"
   ]
  },
  {
   "cell_type": "markdown",
   "id": "db85381f-4a62-40a4-915c-933043f22491",
   "metadata": {},
   "source": [
    "### Show ortho image"
   ]
  },
  {
   "cell_type": "code",
   "execution_count": null,
   "id": "c4f00e06-08c0-4c55-ac23-5d29359bdd07",
   "metadata": {},
   "outputs": [],
   "source": [
    "data_ortho = get_full_data(dsm, \"img\")\n",
    "show_data(data_ortho, figsize=(4, 4), mode='image')"
   ]
  },
  {
   "cell_type": "markdown",
   "id": "9747541b-8ece-46ac-8e4b-43c560b5df5c",
   "metadata": {},
   "source": [
    "### Save DSM"
   ]
  },
  {
   "cell_type": "code",
   "execution_count": null,
   "id": "ca88b228-c17b-49bd-94c7-411f91a04163",
   "metadata": {},
   "outputs": [],
   "source": [
    "save_data(dsm, os.path.join(output_dir, \"dsm.tif\"), \"hgt\")"
   ]
  }
 ],
 "metadata": {
  "kernelspec": {
   "display_name": "Python 3 (ipykernel)",
   "language": "python",
   "name": "python3"
  },
  "language_info": {
   "codemirror_mode": {
    "name": "ipython",
    "version": 3
   },
   "file_extension": ".py",
   "mimetype": "text/x-python",
   "name": "python",
   "nbconvert_exporter": "python",
   "pygments_lexer": "ipython3",
   "version": "3.10.12"
  }
 },
 "nbformat": 4,
 "nbformat_minor": 5
}
