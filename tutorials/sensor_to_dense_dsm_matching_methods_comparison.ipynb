{
 "cells": [
  {
   "cell_type": "markdown",
   "id": "1173bc7d",
   "metadata": {},
   "source": [
    "# Dense dsm with stereo-matching methods comparison\n",
    "\n",
    "This notebook analyses the contribution of two different stereomatching methods available in Cars \n",
    "\n",
    "\n",
    "\n",
    "Please, let's see the sensor_to_dense_dsm_step_by_step notebook before this one"
   ]
  },
  {
   "cell_type": "markdown",
   "id": "3b0b4c30",
   "metadata": {},
   "source": [
    "### Imports"
   ]
  },
  {
   "cell_type": "code",
   "execution_count": null,
   "id": "f2156ce6",
   "metadata": {},
   "outputs": [],
   "source": [
    "# Notebook local imports\n",
    "\n",
    "import os\n",
    "import math\n",
    "import numpy as np\n",
    "###\n",
    "import warnings\n",
    "# Filter warnings\n",
    "warnings.filterwarnings(\"ignore\",category=UserWarning)\n",
    "# import pretty print\n",
    "import pprint \n",
    "pp = pprint.PrettyPrinter(indent=4)\n",
    "\n",
    "# import external function for notebook\n",
    "from notebook_helpers import get_full_data, show_data, get_dir_path, set_up_demo_inputs"
   ]
  },
  {
   "cell_type": "code",
   "execution_count": null,
   "id": "694c463f",
   "metadata": {},
   "outputs": [],
   "source": [
    "# CARS imports\n",
    "\n",
    "# Applications\n",
    "from cars.applications.application import Application\n",
    "from cars.applications.grid_generation import grid_correction\n",
    "from cars.applications.sparse_matching import sparse_matching_tools\n",
    "from cars.applications.dem_generation import dem_generation_tools\n",
    "from cars.applications.dem_generation import dem_generation_constants as dem_gen_cst\n",
    "\n",
    "\n",
    "# Pipelines\n",
    "import cars.pipelines.parameters.sensor_inputs_constants as sens_cst\n",
    "\n",
    "from cars.pipelines.parameters import sensor_inputs, output_parameters\n",
    "from cars.pipelines.pipeline_constants import GEOMETRY_PLUGIN\n",
    "\n",
    "# Conf, core, orchestrator\n",
    "from cars.core import cars_logging\n",
    "from cars.core import inputs, preprocessing\n",
    "from cars.core.utils import safe_makedirs\n",
    "from cars.orchestrator import orchestrator\n",
    "from cars.core.utils import make_relative_path_absolute\n",
    "from cars import import_plugins"
   ]
  },
  {
   "cell_type": "code",
   "execution_count": null,
   "id": "352b4763",
   "metadata": {},
   "outputs": [],
   "source": [
    "# Show CARS version\n",
    "from cars import __version__\n",
    "print(\"CARS version used : {}\".format(__version__))"
   ]
  },
  {
   "cell_type": "code",
   "execution_count": null,
   "id": "c9687de9",
   "metadata": {},
   "outputs": [],
   "source": [
    "# Import external plugins\n",
    "import_plugins()"
   ]
  },
  {
   "cell_type": "markdown",
   "id": "f06348ea",
   "metadata": {},
   "source": [
    "---------\n",
    "\n",
    "## Inputs/Outputs"
   ]
  },
  {
   "cell_type": "markdown",
   "id": "cff92994",
   "metadata": {},
   "source": [
    "### Define outputs"
   ]
  },
  {
   "cell_type": "code",
   "execution_count": null,
   "id": "2e59493e",
   "metadata": {},
   "outputs": [],
   "source": [
    "# Modify with your own output path if needed\n",
    "output_dir = os.path.join(get_dir_path(), \"output_notebook\")\n",
    "print(output_dir)"
   ]
  },
  {
   "cell_type": "markdown",
   "id": "9fe02864",
   "metadata": {},
   "source": [
    "### Define inputs"
   ]
  },
  {
   "cell_type": "code",
   "execution_count": null,
   "id": "88e1edd9",
   "metadata": {},
   "outputs": [],
   "source": [
    "# By default, the notebook use data_gizeh_small.tar.bz2, data_gizeh is available also (performance dependent).\n",
    "# For you own data: Modify input_dir_path and modify all images, geometric models and color file names below\n",
    "input_dir_path = set_up_demo_inputs(\"data_gizeh_small\")\n",
    "\n",
    "inputs_conf = {\n",
    "    \"sensors\": {\n",
    "        \"left\": {\n",
    "            \"image\": os.path.join(input_dir_path, \"img1.tif\"),\n",
    "            \"geomodel\": {\n",
    "              \"path\": os.path.join(input_dir_path, \"img1.geom\")\n",
    "            },\n",
    "            \"color\": os.path.join(input_dir_path, \"color1.tif\")\n",
    "        },\n",
    "        \"right\": {\n",
    "            \"image\": os.path.join(input_dir_path, \"img2.tif\"),\n",
    "            \"geomodel\": {\n",
    "              \"path\": os.path.join(input_dir_path, \"img2.geom\")\n",
    "            }\n",
    "        },   \n",
    "    },\n",
    "    \"pairing\": [[\"left\", \"right\"]],\n",
    "}\n",
    "\n",
    "updated_inputs_conf = sensor_inputs.sensors_check_inputs(inputs_conf)\n",
    "pp.pprint(updated_inputs_conf)"
   ]
  },
  {
   "cell_type": "code",
   "execution_count": null,
   "id": "3966f608",
   "metadata": {},
   "outputs": [],
   "source": [
    "# Get geometry plugin\n",
    "(\n",
    "    _,\n",
    "    updated_inputs_conf[GEOMETRY_PLUGIN],\n",
    "    geom_plugin_without_dem_and_geoid,\n",
    "    geom_plugin_with_dem_and_geoid,\n",
    "    _\n",
    ") = sensor_inputs.check_geometry_plugin(\n",
    "    updated_inputs_conf, {}, updated_inputs_conf.get(GEOMETRY_PLUGIN, None)\n",
    ")"
   ]
  },
  {
   "cell_type": "markdown",
   "id": "b559a0b8",
   "metadata": {},
   "source": [
    "### Create orchestrator\n"
   ]
  },
  {
   "cell_type": "code",
   "execution_count": null,
   "id": "6c51abfc",
   "metadata": {},
   "outputs": [],
   "source": [
    "# Use sequential mode in notebook\n",
    "orchestrator_conf = {\"mode\": \"sequential\"}\n",
    "cars_orchestrator = orchestrator.Orchestrator(orchestrator_conf=orchestrator_conf, out_dir=output_dir)"
   ]
  },
  {
   "cell_type": "markdown",
   "id": "3f9a6b40",
   "metadata": {},
   "source": [
    "---------\n",
    "\n",
    "## First, compute epipolar rectified images "
   ]
  },
  {
   "cell_type": "code",
   "execution_count": null,
   "id": "34cd477e",
   "metadata": {},
   "outputs": [],
   "source": [
    "dem_generation_application = Application(\"dem_generation\")"
   ]
  },
  {
   "cell_type": "code",
   "execution_count": null,
   "id": "05b96a3b",
   "metadata": {},
   "outputs": [],
   "source": [
    "epipolar_grid_generation_application = Application(\"grid_generation\")"
   ]
  },
  {
   "cell_type": "code",
   "execution_count": null,
   "id": "9997c7c4",
   "metadata": {},
   "outputs": [],
   "source": [
    "resampling_application = Application(\"resampling\")"
   ]
  },
  {
   "cell_type": "code",
   "execution_count": null,
   "id": "b53a8108",
   "metadata": {},
   "outputs": [],
   "source": [
    "sparse_matching_application = Application(\"sparse_matching\")"
   ]
  },
  {
   "cell_type": "code",
   "execution_count": null,
   "id": "ad9c3fd3",
   "metadata": {},
   "outputs": [],
   "source": [
    "dem_generation_application = Application(\"dem_generation\")"
   ]
  },
  {
   "cell_type": "markdown",
   "id": "095feb0c",
   "metadata": {},
   "source": [
    "### Sensors images generation\n",
    "\n",
    "From input configuration \"inputs\" seen before"
   ]
  },
  {
   "cell_type": "code",
   "execution_count": null,
   "id": "310a675a",
   "metadata": {},
   "outputs": [],
   "source": [
    "_, sensor_image_left, sensor_image_right = sensor_inputs.generate_inputs(updated_inputs_conf, geom_plugin_without_dem_and_geoid)[0]"
   ]
  },
  {
   "cell_type": "markdown",
   "id": "4ab2065f",
   "metadata": {},
   "source": [
    "### Grid Generation : epipolar grid generation"
   ]
  },
  {
   "cell_type": "code",
   "execution_count": null,
   "id": "4e8aa994",
   "metadata": {},
   "outputs": [],
   "source": [
    "geom_plugin = geom_plugin_with_dem_and_geoid\n",
    "if updated_inputs_conf[\"initial_elevation\"][\"dem\"] is None:\n",
    "    geom_plugin = geom_plugin_without_dem_and_geoid\n",
    "    \n",
    "grid_left, grid_right = epipolar_grid_generation_application.run(\n",
    "    sensor_image_left,\n",
    "    sensor_image_right,\n",
    "    geom_plugin,\n",
    "    orchestrator=cars_orchestrator\n",
    ")"
   ]
  },
  {
   "cell_type": "markdown",
   "id": "417064ca",
   "metadata": {},
   "source": [
    "### Resampling : epipolar images generation\n"
   ]
  },
  {
   "cell_type": "code",
   "execution_count": null,
   "id": "158894d7",
   "metadata": {},
   "outputs": [],
   "source": [
    "epipolar_image_left, epipolar_image_right = resampling_application.run(\n",
    "    sensor_image_left,\n",
    "    sensor_image_right,\n",
    "    grid_left,\n",
    "    grid_right,\n",
    "    orchestrator=cars_orchestrator,\n",
    "    margins_fun=sparse_matching_application.get_margins_fun()\n",
    ")"
   ]
  },
  {
   "cell_type": "markdown",
   "id": "50f79e2b",
   "metadata": {},
   "source": [
    "###  Sparse matching: compute sifts"
   ]
  },
  {
   "cell_type": "code",
   "execution_count": null,
   "id": "e98aa17d",
   "metadata": {},
   "outputs": [],
   "source": [
    "epipolar_matches_left, _ = sparse_matching_application.run(\n",
    "    epipolar_image_left,\n",
    "    epipolar_image_right,\n",
    "    grid_left.attributes[\"disp_to_alt_ratio\"],\n",
    "    orchestrator=cars_orchestrator\n",
    ")"
   ]
  },
  {
   "cell_type": "markdown",
   "id": "3433689e",
   "metadata": {},
   "source": [
    "### Grid correction: correct epipolar grids from sparse matches\n",
    "Find correction to apply, and generate new right epipolar grid"
   ]
  },
  {
   "cell_type": "markdown",
   "id": "ad782fee",
   "metadata": {},
   "source": [
    "#### Filter matches"
   ]
  },
  {
   "cell_type": "code",
   "execution_count": null,
   "id": "49c92195",
   "metadata": {},
   "outputs": [],
   "source": [
    "matches_array = sparse_matching_application.filter_matches(\n",
    "    epipolar_matches_left, \n",
    "    grid_left,\n",
    "    grid_right,\n",
    "    orchestrator=cars_orchestrator\n",
    ")"
   ]
  },
  {
   "cell_type": "markdown",
   "id": "e0cee48e",
   "metadata": {},
   "source": [
    "#### Estimate grid correction"
   ]
  },
  {
   "cell_type": "code",
   "execution_count": null,
   "id": "2346e274",
   "metadata": {},
   "outputs": [],
   "source": [
    "grid_correction_coef, corrected_matches_array,_, _, _ = grid_correction.estimate_right_grid_correction(matches_array, grid_right)"
   ]
  },
  {
   "cell_type": "markdown",
   "id": "13f8abd0",
   "metadata": {},
   "source": [
    "#### Correct right grid"
   ]
  },
  {
   "cell_type": "code",
   "execution_count": null,
   "id": "e89cd286",
   "metadata": {},
   "outputs": [],
   "source": [
    "corrected_grid_right = grid_correction.correct_grid(grid_right, grid_correction_coef, False, output_dir)"
   ]
  },
  {
   "cell_type": "markdown",
   "id": "a54ff368",
   "metadata": {},
   "source": [
    "### Estimate disp min and disp max from sparse matches"
   ]
  },
  {
   "cell_type": "markdown",
   "id": "332d385a",
   "metadata": {},
   "source": [
    "#### Compute margins used in dense matching, with corresponding disparity min and max"
   ]
  },
  {
   "cell_type": "code",
   "execution_count": null,
   "id": "d8877baf",
   "metadata": {},
   "outputs": [],
   "source": [
    "triangulation_application = Application(\"triangulation\")"
   ]
  },
  {
   "cell_type": "code",
   "execution_count": null,
   "id": "cb1bea8c",
   "metadata": {},
   "outputs": [],
   "source": [
    "dense_matching_application = Application(\"dense_matching\")"
   ]
  },
  {
   "cell_type": "markdown",
   "id": "786b604c",
   "metadata": {},
   "source": [
    "#### Triangulate matches"
   ]
  },
  {
   "cell_type": "code",
   "execution_count": null,
   "id": "8ffbb623",
   "metadata": {},
   "outputs": [],
   "source": [
    "triangulated_matches = dem_generation_tools.triangulate_sparse_matches(\n",
    "    sensor_image_left,\n",
    "    sensor_image_right,\n",
    "    grid_left,\n",
    "    corrected_grid_right,\n",
    "    corrected_matches_array,\n",
    "    geometry_plugin=geom_plugin,\n",
    ")\n",
    "\n",
    "# filter triangulated_matches\n",
    "filtered_triangulated_matches = sparse_matching_tools.filter_point_cloud_matches(\n",
    "    triangulated_matches,\n",
    "    matches_filter_knn=(\n",
    "        sparse_matching_application.get_matches_filter_knn()\n",
    "    ),\n",
    "    matches_filter_dev_factor=(\n",
    "        sparse_matching_application.get_matches_filter_dev_factor()\n",
    "    ),\n",
    ")"
   ]
  },
  {
   "cell_type": "markdown",
   "id": "4e112864",
   "metadata": {},
   "source": [
    "#### Generate dem and update objects"
   ]
  },
  {
   "cell_type": "code",
   "execution_count": null,
   "id": "023903db",
   "metadata": {},
   "outputs": [],
   "source": [
    "# Generate dem\n",
    "dem = dem_generation_application.run(\n",
    "    [filtered_triangulated_matches], cars_orchestrator.out_dir, updated_inputs_conf[sens_cst.INITIAL_ELEVATION][sens_cst.GEOID]\n",
    ")\n",
    "dem_min = dem.attributes[dem_gen_cst.DEM_MIN_PATH]\n",
    "dem_max = dem.attributes[dem_gen_cst.DEM_MAX_PATH]\n",
    "\n",
    "if updated_inputs_conf[sens_cst.INITIAL_ELEVATION][sens_cst.DEM_PATH] is None:  \n",
    "    dem_median = dem.attributes[dem_gen_cst.DEM_MEDIAN_PATH]\n",
    "\n",
    "    # Generate geometry loader with dem and geoid\n",
    "    updated_inputs_conf[sens_cst.INITIAL_ELEVATION][sens_cst.DEM_PATH] = dem_median\n",
    "    (\n",
    "        _,\n",
    "        _,\n",
    "        geom_plugin_without_dem_and_geoid,\n",
    "        geom_plugin_with_dem_and_geoid,\n",
    "        _,\n",
    "    ) = sensor_inputs.check_geometry_plugin(\n",
    "        updated_inputs_conf, {}, None\n",
    "    )\n",
    "    \n",
    "    # Generate new objects\n",
    "    new_grid_left, new_grid_right = epipolar_grid_generation_application.run(\n",
    "        sensor_image_left,\n",
    "        sensor_image_right,\n",
    "        geom_plugin_with_dem_and_geoid,\n",
    "        orchestrator=cars_orchestrator\n",
    "    )\n",
    "    \n",
    "    # Correct grids with former matches\n",
    "    # Transform matches to new grids\n",
    "    new_grid_matches_array = (\n",
    "        geom_plugin_without_dem_and_geoid.transform_matches_from_grids(\n",
    "            corrected_matches_array,\n",
    "            grid_left,\n",
    "            corrected_grid_right,\n",
    "            new_grid_left,\n",
    "            new_grid_right,\n",
    "        )\n",
    "    )\n",
    "    # Estimate grid_correction\n",
    "    (\n",
    "        grid_correction_coef,\n",
    "        corrected_matches_array,\n",
    "        _,\n",
    "        _,\n",
    "        _,\n",
    "    ) = grid_correction.estimate_right_grid_correction(\n",
    "        new_grid_matches_array,\n",
    "        new_grid_right,\n",
    "    )\n",
    "\n",
    "    # Correct grid right\n",
    "    corrected_grid_right = grid_correction.correct_grid(\n",
    "        new_grid_right,\n",
    "        grid_correction_coef,\n",
    "        False, \n",
    "        output_dir\n",
    "    )\n",
    "    corrected_grid_left = new_grid_left\n",
    "\n",
    "    # Triangulate new matches\n",
    "    triangulated_matches = dem_generation_tools.triangulate_sparse_matches(\n",
    "        sensor_image_left,\n",
    "        sensor_image_right,\n",
    "        corrected_grid_left,\n",
    "        corrected_grid_right,\n",
    "        corrected_matches_array,\n",
    "        geometry_plugin=geom_plugin,\n",
    "    )\n",
    "    \n",
    "else:\n",
    "    corrected_grid_left = grid_left\n",
    "\n"
   ]
  },
  {
   "cell_type": "code",
   "execution_count": null,
   "id": "5b1e3799",
   "metadata": {},
   "outputs": [],
   "source": [
    "dmin, dmax = sparse_matching_tools.compute_disp_min_disp_max(\n",
    "    triangulated_matches,\n",
    "    cars_orchestrator,\n",
    "    disp_margin=(\n",
    "        sparse_matching_application.get_disparity_margin()\n",
    "    ),\n",
    "    disp_to_alt_ratio=grid_left.attributes[\"disp_to_alt_ratio\"]\n",
    ")"
   ]
  },
  {
   "cell_type": "code",
   "execution_count": null,
   "id": "4a79a8c9",
   "metadata": {},
   "outputs": [],
   "source": [
    "print(dmin)\n",
    "print(dmax)"
   ]
  },
  {
   "cell_type": "markdown",
   "id": "58418f9b",
   "metadata": {},
   "source": [
    "Compute disparity grids range (min and max) "
   ]
  },
  {
   "cell_type": "code",
   "execution_count": null,
   "id": "6e883497",
   "metadata": {},
   "outputs": [],
   "source": [
    "# Generate geometry loader with dem min and max and geoid\n",
    "geom_plugin_with_dem_min_and_geoid = (\n",
    "    sensor_inputs.generate_geometry_plugin_with_dem(\n",
    "        updated_inputs_conf.get(GEOMETRY_PLUGIN, None),\n",
    "        updated_inputs_conf,\n",
    "        dem=dem_min,\n",
    "    )\n",
    ")\n",
    "geom_plugin_with_dem_max_and_geoid = (\n",
    "    sensor_inputs.generate_geometry_plugin_with_dem(\n",
    "        updated_inputs_conf.get(GEOMETRY_PLUGIN, None),\n",
    "        updated_inputs_conf,\n",
    "        dem=dem_max,\n",
    "    )\n",
    ")\n",
    "\n",
    "# Generate grids\n",
    "disp_range_grid = dense_matching_application.generate_disparity_grids(\n",
    "    sensor_image_right,\n",
    "    corrected_grid_right,\n",
    "    geom_plugin_with_dem_and_geoid,\n",
    "    dem_min=dem_min,\n",
    "    dem_max=dem_max,\n",
    "    dem_median=dem_median,\n",
    ")"
   ]
  },
  {
   "cell_type": "code",
   "execution_count": null,
   "id": "25a04fc0",
   "metadata": {},
   "outputs": [],
   "source": [
    "dense_matching_margins_fun = dense_matching_application.get_margins_fun(\n",
    "    corrected_grid_left, disp_range_grid)"
   ]
  },
  {
   "cell_type": "markdown",
   "id": "fa5ad3db",
   "metadata": {
    "tags": []
   },
   "source": [
    "###  Resampling: generate epipolar images with corrected grids and new margins"
   ]
  },
  {
   "cell_type": "code",
   "execution_count": null,
   "id": "4ba1fda0",
   "metadata": {},
   "outputs": [],
   "source": [
    "(\n",
    "    optimum_tile_size,\n",
    "    local_tile_optimal_size_fun,\n",
    ") = dense_matching_application.get_optimal_tile_size(\n",
    "    disp_range_grid,\n",
    "    cars_orchestrator.cluster.checked_conf_cluster[\n",
    "        \"max_ram_per_worker\"\n",
    "    ],\n",
    ")"
   ]
  },
  {
   "cell_type": "code",
   "execution_count": null,
   "id": "a62539a6",
   "metadata": {},
   "outputs": [],
   "source": [
    "new_epipolar_image_left, new_epipolar_image_right = resampling_application.run(\n",
    "    sensor_image_left,\n",
    "    sensor_image_right,\n",
    "    corrected_grid_left,\n",
    "    corrected_grid_right,\n",
    "    orchestrator=cars_orchestrator,\n",
    "    margins_fun=dense_matching_margins_fun,\n",
    "    tile_width=optimum_tile_size,\n",
    "    tile_height=optimum_tile_size,\n",
    "    add_color=True,\n",
    ")"
   ]
  },
  {
   "cell_type": "markdown",
   "id": "5902b99b",
   "metadata": {},
   "source": [
    "## Dense Matching: compute disparities with pandora by using two differents methods"
   ]
  },
  {
   "cell_type": "markdown",
   "id": "decad4fb",
   "metadata": {},
   "source": [
    "### Census similarity measure with semi-global matching (default method)\n"
   ]
  },
  {
   "cell_type": "code",
   "execution_count": null,
   "id": "b77b48cc",
   "metadata": {},
   "outputs": [],
   "source": [
    "dense_matching_census_application = Application(\"dense_matching\")"
   ]
  },
  {
   "cell_type": "code",
   "execution_count": null,
   "id": "a5cbe314",
   "metadata": {},
   "outputs": [],
   "source": [
    "corr_cfg = dense_matching_census_application.loader.get_conf()\n",
    "left_image = inputs_conf[\"sensors\"][\"left\"][\"image\"]\n",
    "right_image = inputs_conf[\"sensors\"][\"right\"][\"image\"]\n",
    "dense_matching_census_application.corr_config = (\n",
    "    dense_matching_census_application.loader.check_conf(\n",
    "        corr_cfg, left_image, right_image\n",
    "    )\n",
    ")"
   ]
  },
  {
   "cell_type": "code",
   "execution_count": null,
   "id": "3c23ea6a",
   "metadata": {},
   "outputs": [],
   "source": [
    "epipolar_disparity_map_census = dense_matching_census_application.run(\n",
    "    new_epipolar_image_left,\n",
    "    new_epipolar_image_right,\n",
    "    local_tile_optimal_size_fun,\n",
    "    orchestrator=cars_orchestrator,\n",
    "    disp_range_grid=disp_range_grid,\n",
    ")"
   ]
  },
  {
   "cell_type": "markdown",
   "id": "f2f1e172",
   "metadata": {},
   "source": [
    "#### Show full disparity map"
   ]
  },
  {
   "cell_type": "code",
   "execution_count": null,
   "id": "a033dfc7",
   "metadata": {},
   "outputs": [],
   "source": [
    "data_disparity_census = get_full_data(epipolar_disparity_map_census, \"disp\")\n",
    "show_data(data_disparity_census)"
   ]
  },
  {
   "cell_type": "markdown",
   "id": "c30d5413",
   "metadata": {},
   "source": [
    "### MC-CNN, the similarity measure produced by mc-cnn neural network\n",
    "\n",
    "<a href=\"https://github.com/CNES/Pandora_MCCNN\">MC-CNN algorithm</a> used by <a  href=\"https://github.com/CNES/Pandora\"> Pandora</a> as <a href=\"https://github.com/CNES/Pandora_plugin_mccnn\">plugin</a>"
   ]
  },
  {
   "cell_type": "code",
   "execution_count": null,
   "id": "25911854",
   "metadata": {},
   "outputs": [],
   "source": [
    "dense_matching_mccnn_application = Application(\"dense_matching\", cfg={\"method\": \"mccnn_sgm\"})"
   ]
  },
  {
   "cell_type": "code",
   "execution_count": null,
   "id": "20af44b0",
   "metadata": {},
   "outputs": [],
   "source": [
    "corr_cfg = dense_matching_mccnn_application.loader.get_conf()\n",
    "left_image = inputs_conf[\"sensors\"][\"left\"][\"image\"]\n",
    "right_image = inputs_conf[\"sensors\"][\"right\"][\"image\"]\n",
    "dense_matching_mccnn_application.corr_config = (\n",
    "    dense_matching_census_application.loader.check_conf(\n",
    "        corr_cfg, left_image, right_image\n",
    "    )\n",
    ")"
   ]
  },
  {
   "cell_type": "code",
   "execution_count": null,
   "id": "35e12a3e",
   "metadata": {},
   "outputs": [],
   "source": [
    "epipolar_disparity_map_mccnn = dense_matching_mccnn_application.run(\n",
    "    new_epipolar_image_left,\n",
    "    new_epipolar_image_right,\n",
    "    local_tile_optimal_size_fun,\n",
    "    orchestrator=cars_orchestrator,\n",
    "    disp_range_grid=disp_range_grid,\n",
    ")"
   ]
  },
  {
   "cell_type": "code",
   "execution_count": null,
   "id": "ac17ae52",
   "metadata": {},
   "outputs": [],
   "source": [
    "data_disparity_mccnn = get_full_data(epipolar_disparity_map_mccnn, \"disp\")\n",
    "show_data(data_disparity_mccnn)"
   ]
  },
  {
   "cell_type": "markdown",
   "id": "88f08827",
   "metadata": {},
   "source": [
    "## Compute two DSM and compare them\n",
    "\n",
    "One  from disparity map computed by Census similarity measure and the other from disparity map from MC-CNN similarity measure"
   ]
  },
  {
   "cell_type": "code",
   "execution_count": null,
   "id": "582da209",
   "metadata": {},
   "outputs": [],
   "source": [
    "conf_outlier_removal_small_components = {\"method\": \"small_components\", \"activated\": True}\n",
    "pc_outlier_removal_small_comp_application = Application(\"point_cloud_outlier_removal\", cfg=conf_outlier_removal_small_components)"
   ]
  },
  {
   "cell_type": "code",
   "execution_count": null,
   "id": "6bd65e83",
   "metadata": {},
   "outputs": [],
   "source": [
    "conf_outlier_removal_statistical = {\"method\": \"statistical\", \"activated\": True}\n",
    "pc_outlier_removal_stats_application = Application(\"point_cloud_outlier_removal\", cfg=conf_outlier_removal_statistical)"
   ]
  },
  {
   "cell_type": "code",
   "execution_count": null,
   "id": "29026aa9",
   "metadata": {},
   "outputs": [],
   "source": [
    "pc_fusion_application = Application(\"point_cloud_fusion\")"
   ]
  },
  {
   "cell_type": "code",
   "execution_count": null,
   "id": "7e9b4640",
   "metadata": {},
   "outputs": [],
   "source": [
    "conf_rasterization = { \n",
    "    \"method\": \"simple_gaussian\",\n",
    "    \"dsm_radius\": 3,\n",
    "    \"sigma\": 0.3\n",
    "}\n",
    "rasterization_application = Application(\"point_cloud_rasterization\", cfg=conf_rasterization)"
   ]
  },
  {
   "cell_type": "markdown",
   "id": "b5e69a0e",
   "metadata": {},
   "source": [
    " Compute epsg"
   ]
  },
  {
   "cell_type": "code",
   "execution_count": null,
   "id": "dec60547",
   "metadata": {},
   "outputs": [],
   "source": [
    "epsg = preprocessing.compute_epsg(\n",
    "    sensor_image_left, \n",
    "    sensor_image_right,\n",
    "    grid_left,\n",
    "    corrected_grid_right,\n",
    "    geom_plugin_with_dem_and_geoid,\n",
    "    disp_min=np.min(disp_range_grid[0, 0][\"disp_min_grid\"].values),\n",
    "    disp_max=np.max(disp_range_grid[0, 0][\"disp_max_grid\"].values)\n",
    ")"
   ]
  },
  {
   "cell_type": "markdown",
   "id": "363b0843",
   "metadata": {},
   "source": [
    "### Triangulation : triangulate matches"
   ]
  },
  {
   "cell_type": "markdown",
   "id": "8c5e2f0b",
   "metadata": {},
   "source": [
    "From census disparity map"
   ]
  },
  {
   "cell_type": "code",
   "execution_count": null,
   "id": "31ee25dc",
   "metadata": {},
   "outputs": [],
   "source": [
    "epipolar_point_cloud_census = triangulation_application.run(\n",
    "    sensor_image_left,\n",
    "    sensor_image_right,\n",
    "    new_epipolar_image_left,\n",
    "    corrected_grid_left,\n",
    "    corrected_grid_right,\n",
    "    epipolar_disparity_map_census,\n",
    "    epsg,\n",
    "    geom_plugin_without_dem_and_geoid,\n",
    "    orchestrator=cars_orchestrator,\n",
    "    uncorrected_grid_right=grid_right,\n",
    "    geoid_path=updated_inputs_conf[sens_cst.INITIAL_ELEVATION][sens_cst.GEOID],\n",
    ")"
   ]
  },
  {
   "cell_type": "markdown",
   "id": "4b8339e8",
   "metadata": {},
   "source": [
    "From mccnn disparity map"
   ]
  },
  {
   "cell_type": "code",
   "execution_count": null,
   "id": "7c996ab7",
   "metadata": {},
   "outputs": [],
   "source": [
    "epipolar_point_cloud_mccnn = triangulation_application.run(\n",
    "    sensor_image_left,\n",
    "    sensor_image_right,\n",
    "    new_epipolar_image_left,\n",
    "    corrected_grid_left,\n",
    "    corrected_grid_right,\n",
    "    epipolar_disparity_map_mccnn,\n",
    "    epsg,\n",
    "    geom_plugin_without_dem_and_geoid,\n",
    "    orchestrator=cars_orchestrator,\n",
    "    uncorrected_grid_right=grid_right,\n",
    "    geoid_path=updated_inputs_conf[sens_cst.INITIAL_ELEVATION][sens_cst.GEOID],\n",
    ")"
   ]
  },
  {
   "cell_type": "markdown",
   "id": "d15240fb",
   "metadata": {},
   "source": [
    " #### Compute terrain bounding box"
   ]
  },
  {
   "cell_type": "code",
   "execution_count": null,
   "id": "ef2b2bf4",
   "metadata": {},
   "outputs": [],
   "source": [
    "current_terrain_roi_bbox, _ = preprocessing.compute_terrain_bbox(\n",
    "    sensor_image_left,\n",
    "    sensor_image_right,\n",
    "    new_epipolar_image_left,\n",
    "    grid_left,\n",
    "    corrected_grid_right,\n",
    "    epsg,\n",
    "    geom_plugin_with_dem_and_geoid,\n",
    "    resolution=0.5,\n",
    "    disp_min=np.min(disp_range_grid[0, 0][\"disp_min_grid\"].values),\n",
    "    disp_max=np.max(disp_range_grid[0, 0][\"disp_max_grid\"].values),\n",
    "    orchestrator=cars_orchestrator\n",
    ")\n",
    "terrain_bounds, optimal_terrain_tile_width = preprocessing.compute_terrain_bounds(\n",
    "    [current_terrain_roi_bbox],\n",
    "    resolution=0.5\n",
    ")"
   ]
  },
  {
   "cell_type": "markdown",
   "id": "82a7b611",
   "metadata": {},
   "source": [
    "#### Transform point cloud to terrain point cloud"
   ]
  },
  {
   "cell_type": "markdown",
   "id": "dab81883",
   "metadata": {},
   "source": [
    "From census disparity map"
   ]
  },
  {
   "cell_type": "code",
   "execution_count": null,
   "id": "1a4af96e",
   "metadata": {},
   "outputs": [],
   "source": [
    "merged_point_clouds_census = pc_fusion_application.run(\n",
    "    [epipolar_point_cloud_census],\n",
    "    terrain_bounds,\n",
    "    epsg,\n",
    "    orchestrator=cars_orchestrator,\n",
    "    margins=rasterization_application.get_margins(0.5),\n",
    "    optimal_terrain_tile_width=optimal_terrain_tile_width\n",
    ")"
   ]
  },
  {
   "cell_type": "markdown",
   "id": "ca58fd13",
   "metadata": {},
   "source": [
    "From mccnn disparity map"
   ]
  },
  {
   "cell_type": "code",
   "execution_count": null,
   "id": "5f3dfa0d",
   "metadata": {},
   "outputs": [],
   "source": [
    "merged_point_clouds_mccnn = pc_fusion_application.run(\n",
    "    [epipolar_point_cloud_mccnn],\n",
    "    terrain_bounds,\n",
    "    epsg,\n",
    "    orchestrator=cars_orchestrator,\n",
    "    margins=rasterization_application.get_margins(0.5),\n",
    "    optimal_terrain_tile_width=optimal_terrain_tile_width\n",
    ")"
   ]
  },
  {
   "cell_type": "markdown",
   "id": "5afb8b4f",
   "metadata": {},
   "source": [
    "### Point Cloud Outlier Removal : remove points with the small component removal method"
   ]
  },
  {
   "cell_type": "markdown",
   "id": "a80c86e3",
   "metadata": {},
   "source": [
    "From census disparity map"
   ]
  },
  {
   "cell_type": "code",
   "execution_count": null,
   "id": "aa4a6274",
   "metadata": {},
   "outputs": [],
   "source": [
    "filtered_sc_merged_point_clouds_census = pc_outlier_removal_small_comp_application.run(\n",
    "    merged_point_clouds_census,\n",
    "    orchestrator=cars_orchestrator,\n",
    ")"
   ]
  },
  {
   "cell_type": "markdown",
   "id": "01189792",
   "metadata": {},
   "source": [
    "From mccnn disparity map"
   ]
  },
  {
   "cell_type": "code",
   "execution_count": null,
   "id": "722ff513",
   "metadata": {},
   "outputs": [],
   "source": [
    "filtered_sc_merged_point_clouds_mccnn = pc_outlier_removal_small_comp_application.run(\n",
    "    merged_point_clouds_mccnn,\n",
    "    orchestrator=cars_orchestrator,\n",
    ")"
   ]
  },
  {
   "cell_type": "markdown",
   "id": "dcdacc34",
   "metadata": {},
   "source": [
    "### Point Cloud Outlier Removal: remove points with statistical removal method"
   ]
  },
  {
   "cell_type": "markdown",
   "id": "88f2570c",
   "metadata": {},
   "source": [
    "From census disparity map"
   ]
  },
  {
   "cell_type": "code",
   "execution_count": null,
   "id": "5af49793",
   "metadata": {},
   "outputs": [],
   "source": [
    "filtered_stats_merged_point_clouds_census = pc_outlier_removal_stats_application.run(\n",
    "    filtered_sc_merged_point_clouds_census,\n",
    "    orchestrator=cars_orchestrator,\n",
    ")"
   ]
  },
  {
   "cell_type": "markdown",
   "id": "66a69378",
   "metadata": {},
   "source": [
    "From mccnn disparity map"
   ]
  },
  {
   "cell_type": "code",
   "execution_count": null,
   "id": "01a4a05d",
   "metadata": {},
   "outputs": [],
   "source": [
    "filtered_stats_merged_point_clouds_mccnn = pc_outlier_removal_stats_application.run(\n",
    "    filtered_sc_merged_point_clouds_mccnn,\n",
    "    orchestrator=cars_orchestrator,\n",
    ")"
   ]
  },
  {
   "cell_type": "markdown",
   "id": "cf6fe8c4",
   "metadata": {},
   "source": [
    "### Rasterization : rasterize point cloud"
   ]
  },
  {
   "cell_type": "markdown",
   "id": "a0d5ef50",
   "metadata": {},
   "source": [
    "From census disparity map"
   ]
  },
  {
   "cell_type": "code",
   "execution_count": null,
   "id": "8a5b2ac9",
   "metadata": {},
   "outputs": [],
   "source": [
    "dsm_census = rasterization_application.run(\n",
    "    filtered_stats_merged_point_clouds_census,\n",
    "    epsg,\n",
    "    resolution=0.5,\n",
    "    orchestrator=cars_orchestrator\n",
    ")"
   ]
  },
  {
   "cell_type": "markdown",
   "id": "6e0d71bb",
   "metadata": {},
   "source": [
    "From mccnn disparity map"
   ]
  },
  {
   "cell_type": "code",
   "execution_count": null,
   "id": "0a63f456",
   "metadata": {},
   "outputs": [],
   "source": [
    "dsm_mccnn = rasterization_application.run(\n",
    "    filtered_stats_merged_point_clouds_mccnn,\n",
    "    epsg,\n",
    "    resolution=0.5,\n",
    "    orchestrator=cars_orchestrator\n",
    ")"
   ]
  },
  {
   "cell_type": "markdown",
   "id": "de0afabd",
   "metadata": {},
   "source": [
    "### Show DSM\n"
   ]
  },
  {
   "cell_type": "markdown",
   "id": "50218ffc",
   "metadata": {},
   "source": [
    "From census disparity map"
   ]
  },
  {
   "cell_type": "code",
   "execution_count": null,
   "id": "cb03a0f8",
   "metadata": {},
   "outputs": [],
   "source": [
    "data_dsm_census = get_full_data(dsm_census, \"hgt\")\n",
    "show_data(data_dsm_census, mode=\"dsm\")"
   ]
  },
  {
   "cell_type": "markdown",
   "id": "6a169eec",
   "metadata": {},
   "source": [
    "From mccnn disparity map"
   ]
  },
  {
   "cell_type": "code",
   "execution_count": null,
   "id": "b8e312a5",
   "metadata": {},
   "outputs": [],
   "source": [
    "data_dsm_mccnn = get_full_data(dsm_mccnn, \"hgt\")\n",
    "show_data(data_dsm_mccnn, mode=\"dsm\")"
   ]
  },
  {
   "cell_type": "markdown",
   "id": "db13fb5f",
   "metadata": {},
   "source": [
    "### Show ortho image"
   ]
  },
  {
   "cell_type": "markdown",
   "id": "29404e17",
   "metadata": {},
   "source": [
    "From census disparity map"
   ]
  },
  {
   "cell_type": "code",
   "execution_count": null,
   "id": "002168d6",
   "metadata": {},
   "outputs": [],
   "source": [
    "data_ortho_census = get_full_data(dsm_census, \"img\")\n",
    "show_data(data_ortho_census, mode='image')\n"
   ]
  },
  {
   "cell_type": "markdown",
   "id": "9be1c0e8",
   "metadata": {},
   "source": [
    "From mccnn disparity map"
   ]
  },
  {
   "cell_type": "code",
   "execution_count": null,
   "id": "97976961",
   "metadata": {},
   "outputs": [],
   "source": [
    "data_ortho_mccnn = get_full_data(dsm_mccnn, \"img\")\n",
    "show_data(data_dsm_mccnn, mode='image')\n"
   ]
  }
 ],
 "metadata": {
  "kernelspec": {
   "display_name": "Python 3 (ipykernel)",
   "language": "python",
   "name": "python3"
  },
  "language_info": {
   "codemirror_mode": {
    "name": "ipython",
    "version": 3
   },
   "file_extension": ".py",
   "mimetype": "text/x-python",
   "name": "python",
   "nbconvert_exporter": "python",
   "pygments_lexer": "ipython3",
   "version": "3.10.12"
  },
  "vscode": {
   "interpreter": {
    "hash": "0041c8a096542147678ce172f28dc37755329eb6be210e24ce9840eb2f3e2525"
   }
  }
 },
 "nbformat": 4,
 "nbformat_minor": 5
}
