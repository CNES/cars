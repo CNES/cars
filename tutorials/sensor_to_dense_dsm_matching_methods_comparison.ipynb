{
 "cells": [
  {
   "cell_type": "markdown",
   "id": "16eb7b25-7d54-4dc0-bdf6-f8ffad496dc2",
   "metadata": {},
   "source": [
    "<img src=\"images/picto_transparent.png\" alt=\"CARS logo\" width=\"100\" align=\"right\"/>\n",
    "\n",
    "# Dense dsm with stereo-matching methods comparison\n",
    "\n",
    "This notebook analyses the contribution of two different stereomatching methods available in Cars \n",
    "\n",
    "\n",
    "\n",
    "Please, let's see the sensor_to_dense_dsm_step_by_step notebook before this one"
   ]
  },
  {
   "cell_type": "markdown",
   "id": "1591b3bd-2f4c-4c5e-a65d-752b90e37418",
   "metadata": {},
   "source": [
    "### Imports"
   ]
  },
  {
   "cell_type": "code",
   "execution_count": null,
   "id": "7f7b6fe6-b60c-4f99-948b-2b7a1af4f52a",
   "metadata": {},
   "outputs": [],
   "source": [
    "# Notebook local imports\n",
    "\n",
    "import os\n",
    "import math\n",
    "###\n",
    "# Silent OTB info logs\n",
    "os.environ['OTB_LOGGER_LEVEL']='WARNING'\n",
    "import warnings\n",
    "# Filter warnings\n",
    "warnings.filterwarnings(\"ignore\",category=UserWarning)\n",
    "# import pretty print\n",
    "import pprint \n",
    "pp = pprint.PrettyPrinter(indent=4)\n",
    "\n",
    "# import external function for notebook\n",
    "from notebook_helpers import get_full_data, show_data, get_dir_path, set_up_demo_inputs\n",
    "\n"
   ]
  },
  {
   "cell_type": "code",
   "execution_count": null,
   "id": "72c0030d-8b0d-4ca9-84e7-370af1ecc8f4",
   "metadata": {},
   "outputs": [],
   "source": [
    "# CARS imports\n",
    "\n",
    "# Applications\n",
    "from cars.applications.application import Application\n",
    "from cars.applications.grid_generation import grid_correction\n",
    "from cars.applications.sparse_matching import sparse_matching_tools\n",
    "\n",
    "# Pipelines\n",
    "import cars.pipelines.sensor_to_dense_dsm.sensor_dense_dsm_constants as sens_cst\n",
    "from cars.pipelines.sensor_to_dense_dsm import sensors_inputs\n",
    "from cars.pipelines.sensor_to_dense_dsm import dsm_output\n",
    "\n",
    "# Conf, core, orchestrator\n",
    "from cars.core import cars_logging\n",
    "from cars.core import inputs, preprocessing\n",
    "from cars.core.utils import safe_makedirs\n",
    "from cars.orchestrator import orchestrator\n",
    "from cars.core.utils import make_relative_path_absolute"
   ]
  },
  {
   "cell_type": "code",
   "execution_count": null,
   "id": "7be5977b-c916-424f-8c50-8c2bc9ec63e8",
   "metadata": {},
   "outputs": [],
   "source": [
    "# Show CARS version\n",
    "from cars import __version__\n",
    "print(\"CARS version used : {}\".format(__version__))"
   ]
  },
  {
   "cell_type": "markdown",
   "id": "e345f961-0e80-453f-afe6-b15a7f026f28",
   "metadata": {},
   "source": [
    "---------\n",
    "\n",
    "## Inputs/Outputs"
   ]
  },
  {
   "cell_type": "markdown",
   "id": "b35429a0-0a8e-4a83-ae4f-506777fbfdb9",
   "metadata": {},
   "source": [
    "### Define outputs"
   ]
  },
  {
   "cell_type": "code",
   "execution_count": null,
   "id": "750644f6-96d5-45d9-979c-980183ad4e9a",
   "metadata": {},
   "outputs": [],
   "source": [
    "# Modify with your own output path if needed\n",
    "output_dir = os.path.join(get_dir_path(), \"output_notebook\")\n",
    "print(output_dir)"
   ]
  },
  {
   "cell_type": "markdown",
   "id": "e87bf76c-08c6-4e89-84a5-0657fe6f08c6",
   "metadata": {},
   "source": [
    "### Define inputs"
   ]
  },
  {
   "cell_type": "code",
   "execution_count": null,
   "id": "2f138b48-7fb7-4286-9cba-779cd6246212",
   "metadata": {},
   "outputs": [],
   "source": [
    "# By default, the notebook use data_gizeh_small.tar.bz2, data_gizeh is available also (performance dependent).\n",
    "# For you own data: Modify input_dir_path and modify all images, geometric models and color file names below\n",
    "input_dir_path = set_up_demo_inputs(\"data_gizeh_small\")\n",
    "\n",
    "inputs_conf = {\n",
    "    \"sensors\": {\n",
    "        \"left\": {\n",
    "            \"image\": os.path.join(input_dir_path, \"img1.tif\"),\n",
    "            \"geomodel\": {\n",
    "              \"path\": os.path.join(input_dir_path, \"img1.geom\")\n",
    "            },\n",
    "            \"color\": os.path.join(input_dir_path, \"color1.tif\"),\n",
    "            \"no_data\": 0,\n",
    "\n",
    "\n",
    "        },\n",
    "        \"right\": {\n",
    "            \"image\": os.path.join(input_dir_path, \"img2.tif\"),\n",
    "            \"geomodel\": {\n",
    "              \"path\": os.path.join(input_dir_path, \"img2.geom\")\n",
    "            },\n",
    "            \"no_data\": 0,\n",
    "        },   \n",
    "    },\n",
    "    \"pairing\": [[\"left\", \"right\"]],\n",
    "    \"initial_elevation\": os.path.join(input_dir_path, \"srtm_dir\")\n",
    "}\n",
    "\n",
    "inputs = sensors_inputs.sensors_check_inputs(inputs_conf)\n",
    "pp.pprint(inputs)"
   ]
  },
  {
   "cell_type": "code",
   "execution_count": null,
   "id": "6c5fb730",
   "metadata": {},
   "outputs": [],
   "source": [
    "# Get geometry plugin\n",
    "(\n",
    "    _,\n",
    "    geom_plugin_without_dem_and_geoid,\n",
    "    geom_plugin_with_dem_and_geoid,\n",
    ") = sensors_inputs.check_geometry_plugin(\n",
    "    None, inputs\n",
    ")"
   ]
  },
  {
   "cell_type": "markdown",
   "id": "d7b6424b-09a6-4c5c-ac55-3f9972a0d5c8",
   "metadata": {},
   "source": [
    "### Create orchestrator\n"
   ]
  },
  {
   "cell_type": "code",
   "execution_count": null,
   "id": "9df071c0-5478-464f-bec4-a08b46d3eeb3",
   "metadata": {},
   "outputs": [],
   "source": [
    "# Use sequential mode in notebook\n",
    "orchestrator_conf = {\"mode\": \"sequential\"}\n",
    "cars_orchestrator = orchestrator.Orchestrator(orchestrator_conf=orchestrator_conf, out_dir=output_dir)"
   ]
  },
  {
   "cell_type": "markdown",
   "id": "ced933d0-15a0-448e-b426-cd3171a609d7",
   "metadata": {},
   "source": [
    "---------\n",
    "\n",
    "## First, compute epipolar rectified images "
   ]
  },
  {
   "cell_type": "code",
   "execution_count": null,
   "id": "aa3ea1de",
   "metadata": {},
   "outputs": [],
   "source": [
    "epipolar_grid_generation_application = Application(\"grid_generation\")"
   ]
  },
  {
   "cell_type": "code",
   "execution_count": null,
   "id": "491611da",
   "metadata": {},
   "outputs": [],
   "source": [
    "resampling_application = Application(\"resampling\")"
   ]
  },
  {
   "cell_type": "code",
   "execution_count": null,
   "id": "fcb9681b",
   "metadata": {},
   "outputs": [],
   "source": [
    "sparse_matching_application = Application(\"sparse_matching\")"
   ]
  },
  {
   "cell_type": "markdown",
   "id": "02b096ba-cdd3-47e5-9778-ce4fa8f3a3c6",
   "metadata": {},
   "source": [
    "### Sensors images generation\n",
    "\n",
    "From input configuration \"inputs\" seen before"
   ]
  },
  {
   "cell_type": "code",
   "execution_count": null,
   "id": "1fc74dcd-eaa7-4bed-b1c9-ae5369e1a0bc",
   "metadata": {},
   "outputs": [],
   "source": [
    "_, sensor_image_left, sensor_image_right = sensors_inputs.generate_inputs(inputs, geom_plugin_without_dem_and_geoid)[0]"
   ]
  },
  {
   "cell_type": "markdown",
   "id": "35fa45cc-8969-444a-a524-f51acda84322",
   "metadata": {},
   "source": [
    "### Grid Generation : epipolar grid generation"
   ]
  },
  {
   "cell_type": "code",
   "execution_count": null,
   "id": "604e0309-5615-4320-ba1b-fc0e5f018c39",
   "metadata": {},
   "outputs": [],
   "source": [
    "grid_left, grid_right = epipolar_grid_generation_application.run(\n",
    "    sensor_image_left,\n",
    "    sensor_image_right,\n",
    "    geom_plugin_with_dem_and_geoid,\n",
    "    orchestrator=cars_orchestrator\n",
    ")"
   ]
  },
  {
   "cell_type": "markdown",
   "id": "bdc39b9a-b16a-40cb-b7a7-bbe6a9f15127",
   "metadata": {},
   "source": [
    "### Resampling : epipolar images generation\n"
   ]
  },
  {
   "cell_type": "code",
   "execution_count": null,
   "id": "249c01e1-7969-4059-9085-64d02ce5ba0a",
   "metadata": {},
   "outputs": [],
   "source": [
    "epipolar_image_left, epipolar_image_right = resampling_application.run(\n",
    "    sensor_image_left,\n",
    "    sensor_image_right,\n",
    "    grid_left,\n",
    "    grid_right,\n",
    "    orchestrator=cars_orchestrator,\n",
    "    margins=sparse_matching_application.get_margins()\n",
    ")"
   ]
  },
  {
   "cell_type": "markdown",
   "id": "48c814dd-91b9-4274-af24-4b54de1fd52a",
   "metadata": {},
   "source": [
    "###  Sparse matching: compute sifts"
   ]
  },
  {
   "cell_type": "code",
   "execution_count": null,
   "id": "ca76004f-257e-490e-b9db-3e4b8bc8beae",
   "metadata": {},
   "outputs": [],
   "source": [
    "epipolar_matches_left, _ = sparse_matching_application.run(\n",
    "    epipolar_image_left,\n",
    "    epipolar_image_right,\n",
    "    grid_left.attributes[\"disp_to_alt_ratio\"],\n",
    "    orchestrator=cars_orchestrator\n",
    ")"
   ]
  },
  {
   "cell_type": "markdown",
   "id": "fdd5aece-cacb-4d06-8421-4d0719c9ed18",
   "metadata": {},
   "source": [
    "### Grid correction: correct epipolar grids from sparse matches\n",
    "Find correction to apply, and generate new right epipolar grid"
   ]
  },
  {
   "cell_type": "markdown",
   "id": "ddebc80e-0e6e-4701-9aac-b80454b8fe97",
   "metadata": {},
   "source": [
    "#### Filter matches"
   ]
  },
  {
   "cell_type": "code",
   "execution_count": null,
   "id": "2a484184-b526-4828-ae47-b950aa387623",
   "metadata": {},
   "outputs": [],
   "source": [
    "matches_array = sparse_matching_application.filter_matches(epipolar_matches_left, orchestrator=cars_orchestrator)"
   ]
  },
  {
   "cell_type": "markdown",
   "id": "c3b1edad-5099-4eaa-b0f7-a8180c9e7c51",
   "metadata": {},
   "source": [
    "#### Estimate grid correction"
   ]
  },
  {
   "cell_type": "code",
   "execution_count": null,
   "id": "8428c2ca-29e7-4651-be90-96ac507f0608",
   "metadata": {},
   "outputs": [],
   "source": [
    "grid_correction_coef, corrected_matches_array,_, _, _ = grid_correction.estimate_right_grid_correction(matches_array, grid_right)"
   ]
  },
  {
   "cell_type": "markdown",
   "id": "6ff3538a-8925-450e-a7a1-431ad8ef5dd6",
   "metadata": {},
   "source": [
    "#### Correct right grid"
   ]
  },
  {
   "cell_type": "code",
   "execution_count": null,
   "id": "1cf32b1f-d1d8-4df4-aff1-650f33d8cf3f",
   "metadata": {},
   "outputs": [],
   "source": [
    "corrected_grid_right = grid_correction.correct_grid(grid_right, grid_correction_coef, False, output_dir)"
   ]
  },
  {
   "cell_type": "markdown",
   "id": "fdadcfb0-0e07-4913-a538-a9131043641a",
   "metadata": {},
   "source": [
    "### Estimate disp min and disp max from sparse matches"
   ]
  },
  {
   "cell_type": "markdown",
   "id": "84f3bbb1-20af-43df-8ba6-cf078224fea2",
   "metadata": {},
   "source": [
    "#### Compute margins used in dense matching, with corresponding disparity min and max"
   ]
  },
  {
   "cell_type": "code",
   "execution_count": null,
   "id": "ef135c4a",
   "metadata": {},
   "outputs": [],
   "source": [
    "triangulation_application = triangulation_application = Application(\"triangulation\")"
   ]
  },
  {
   "cell_type": "code",
   "execution_count": null,
   "id": "9350ebd0-2402-45a9-b2df-fddac16e2d69",
   "metadata": {},
   "outputs": [],
   "source": [
    "dense_matching_application = Application(\"dense_matching\")"
   ]
  },
  {
   "cell_type": "code",
   "execution_count": null,
   "id": "82c134d6-ca65-4273-84a7-47dbe47a6a22",
   "metadata": {},
   "outputs": [],
   "source": [
    "dmin, dmax = sparse_matching_tools.compute_disp_min_disp_max(\n",
    "                    sensor_image_left,\n",
    "                    sensor_image_right,\n",
    "                    grid_left,\n",
    "                    corrected_grid_right,\n",
    "                    corrected_matches_array,\n",
    "                    orchestrator=cars_orchestrator,\n",
    "                    disp_margin=(\n",
    "                        sparse_matching_application.get_disparity_margin()\n",
    "                    ),\n",
    "                    disp_to_alt_ratio=grid_left.attributes[\"disp_to_alt_ratio\"],\n",
    "                    geometry_plugin=geom_plugin_with_dem_and_geoid\n",
    ")"
   ]
  },
  {
   "cell_type": "code",
   "execution_count": null,
   "id": "c58aaccb-92ca-4f5d-b9b4-7ee5503bee0b",
   "metadata": {},
   "outputs": [],
   "source": [
    "dense_matching_margins, disp_min, disp_max = dense_matching_application.get_margins(\n",
    "    grid_left, disp_min=dmin, disp_max=dmax)"
   ]
  },
  {
   "cell_type": "markdown",
   "id": "e8a03294-f604-42b6-9090-d4067b55fd43",
   "metadata": {
    "tags": []
   },
   "source": [
    "###  Resampling: generate epipolar images with corrected grids and new margins"
   ]
  },
  {
   "cell_type": "code",
   "execution_count": null,
   "id": "492093fb-9817-4f58-a7fb-03f6ae7cc31f",
   "metadata": {},
   "outputs": [],
   "source": [
    "new_epipolar_image_left, new_epipolar_image_right = resampling_application.run(\n",
    "    sensor_image_left,\n",
    "    sensor_image_right,\n",
    "    grid_left,\n",
    "    corrected_grid_right,\n",
    "    orchestrator=cars_orchestrator,\n",
    "    margins=dense_matching_margins,\n",
    "    optimum_tile_size=(\n",
    "        dense_matching_application.get_optimal_tile_size(\n",
    "            disp_min, \n",
    "            disp_max,\n",
    "            cars_orchestrator.cluster.checked_conf_cluster[\n",
    "                \"max_ram_per_worker\"\n",
    "            ]\n",
    "        )\n",
    "    ),\n",
    "    add_color=True,\n",
    ")"
   ]
  },
  {
   "cell_type": "markdown",
   "id": "89073ed3-231f-4386-928d-92c40ede20e1",
   "metadata": {},
   "source": [
    "## Dense Matching: compute disparities with pandora by using two differents methods"
   ]
  },
  {
   "cell_type": "markdown",
   "id": "9b1bb4ca-36c9-490c-b20f-eb4987183e45",
   "metadata": {},
   "source": [
    "### Census similarity measure with semi-global matching (default method)\n"
   ]
  },
  {
   "cell_type": "code",
   "execution_count": null,
   "id": "9187b0a1-ffda-445d-a2ca-6305a55a1852",
   "metadata": {},
   "outputs": [],
   "source": [
    "dense_matching_census_application = Application(\"dense_matching\")"
   ]
  },
  {
   "cell_type": "code",
   "execution_count": null,
   "id": "2e2fb226-ce1b-44a0-aa6b-3fce976a3106",
   "metadata": {},
   "outputs": [],
   "source": [
    "epipolar_disparity_map_census = dense_matching_census_application.run(\n",
    "    new_epipolar_image_left,\n",
    "    new_epipolar_image_right,\n",
    "    orchestrator=cars_orchestrator,\n",
    "    disp_min=disp_min,\n",
    "    disp_max=disp_max,\n",
    ")"
   ]
  },
  {
   "cell_type": "markdown",
   "id": "03a61233-bdb9-48b5-ba28-1ddf8a63c9f5",
   "metadata": {},
   "source": [
    "#### Show full disparity map"
   ]
  },
  {
   "cell_type": "code",
   "execution_count": null,
   "id": "f6617882",
   "metadata": {},
   "outputs": [],
   "source": [
    "data_disparity_census = get_full_data(epipolar_disparity_map_census, \"disp\")\n",
    "show_data(data_disparity_census)"
   ]
  },
  {
   "cell_type": "markdown",
   "id": "e08b981e",
   "metadata": {},
   "source": [
    "### MC-CNN, the similarity measure produced by mc-cnn neural network\n",
    "\n",
    "<a href=\"https://github.com/CNES/Pandora_MCCNN\">MC-CNN algorithm</a> used by <a  href=\"https://github.com/CNES/Pandora\"> Pandora</a> as <a href=\"https://github.com/CNES/Pandora_plugin_mccnn\">plugin</a>"
   ]
  },
  {
   "cell_type": "code",
   "execution_count": null,
   "id": "f0f8d84f",
   "metadata": {},
   "outputs": [],
   "source": [
    "dense_matching_mccnn_application = Application(\"dense_matching\", cfg={\"method\": \"mccnn_sgm\"})"
   ]
  },
  {
   "cell_type": "code",
   "execution_count": null,
   "id": "31802e6d",
   "metadata": {},
   "outputs": [],
   "source": [
    "epipolar_disparity_map_mccnn = dense_matching_mccnn_application.run(\n",
    "    new_epipolar_image_left,\n",
    "    new_epipolar_image_right,\n",
    "    orchestrator=cars_orchestrator,\n",
    "    disp_min=disp_min,\n",
    "    disp_max=disp_max,\n",
    ")"
   ]
  },
  {
   "cell_type": "code",
   "execution_count": null,
   "id": "9f8f32cc",
   "metadata": {},
   "outputs": [],
   "source": [
    "data_disparity_mccnn = get_full_data(epipolar_disparity_map_mccnn, \"disp\")\n",
    "show_data(data_disparity_mccnn)"
   ]
  },
  {
   "cell_type": "markdown",
   "id": "edf6d076",
   "metadata": {},
   "source": [
    "## Compute two DSM and compare them\n",
    "\n",
    "One  from disparity map computed by Census similarity measure and the other from disparity map from MC-CNN similarity measure"
   ]
  },
  {
   "cell_type": "code",
   "execution_count": null,
   "id": "62f918a5",
   "metadata": {},
   "outputs": [],
   "source": [
    "conf_outlier_removing_small_components = {\"method\": \"small_components\", \"activated\": True}\n",
    "pc_outlier_removing_small_comp_application = Application(\"point_cloud_outliers_removing\", cfg=conf_outlier_removing_small_components)"
   ]
  },
  {
   "cell_type": "code",
   "execution_count": null,
   "id": "a84155d2",
   "metadata": {},
   "outputs": [],
   "source": [
    "conf_outlier_removing_small_statistical = {\"method\": \"statistical\", \"activated\": True}\n",
    "pc_outlier_removing_stats_application = Application(\"point_cloud_outliers_removing\", cfg=conf_outlier_removing_small_statistical)"
   ]
  },
  {
   "cell_type": "code",
   "execution_count": null,
   "id": "ab5ad725",
   "metadata": {},
   "outputs": [],
   "source": [
    "pc_fusion_application = Application(\"point_cloud_fusion\")"
   ]
  },
  {
   "cell_type": "code",
   "execution_count": null,
   "id": "5f7e60d3",
   "metadata": {},
   "outputs": [],
   "source": [
    "conf_rasterization = { \n",
    "    \"method\": \"simple_gaussian\",\n",
    "    \"dsm_radius\": 3,\n",
    "    \"sigma\": 0.3\n",
    "}\n",
    "rasterization_application = Application(\"point_cloud_rasterization\", cfg=conf_rasterization)"
   ]
  },
  {
   "cell_type": "markdown",
   "id": "86b31a15-634f-4098-a59e-7759d0a94681",
   "metadata": {},
   "source": [
    " Compute epsg"
   ]
  },
  {
   "cell_type": "code",
   "execution_count": null,
   "id": "0c447031-3cf3-487c-802a-676b7e11f68a",
   "metadata": {},
   "outputs": [],
   "source": [
    "epsg = preprocessing.compute_epsg(\n",
    "    sensor_image_left, \n",
    "    sensor_image_right,\n",
    "    grid_left,\n",
    "    corrected_grid_right,\n",
    "    geom_plugin_with_dem_and_geoid,\n",
    "    orchestrator=cars_orchestrator,\n",
    "    disp_min=disp_min,\n",
    "    disp_max=disp_max\n",
    ")"
   ]
  },
  {
   "cell_type": "markdown",
   "id": "15413f23-f082-4d62-85a9-474b58505bff",
   "metadata": {},
   "source": [
    "### Triangulation : triangulate matches"
   ]
  },
  {
   "cell_type": "markdown",
   "id": "71bea67a",
   "metadata": {},
   "source": [
    "From census disparity map"
   ]
  },
  {
   "cell_type": "code",
   "execution_count": null,
   "id": "2f43a59c-3cea-4ca7-9de5-eab30324211c",
   "metadata": {},
   "outputs": [],
   "source": [
    "epipolar_points_cloud_census = triangulation_application.run(\n",
    "    sensor_image_left,\n",
    "    sensor_image_right,\n",
    "    new_epipolar_image_left,\n",
    "    grid_left,\n",
    "    corrected_grid_right,\n",
    "    epipolar_disparity_map_census,\n",
    "    epsg,\n",
    "    geom_plugin_without_dem_and_geoid,\n",
    "    orchestrator=cars_orchestrator,\n",
    "    uncorrected_grid_right=grid_right,\n",
    "    geoid_path=inputs[sens_cst.GEOID],\n",
    "    disp_min=disp_min,\n",
    "    disp_max=disp_max,\n",
    ")"
   ]
  },
  {
   "cell_type": "markdown",
   "id": "691538e3",
   "metadata": {},
   "source": [
    "From mccnn disparity map"
   ]
  },
  {
   "cell_type": "code",
   "execution_count": null,
   "id": "b39fa548",
   "metadata": {},
   "outputs": [],
   "source": [
    "epipolar_points_cloud_mccnn = triangulation_application.run(\n",
    "    sensor_image_left,\n",
    "    sensor_image_right,\n",
    "    new_epipolar_image_left,\n",
    "    grid_left,\n",
    "    corrected_grid_right,\n",
    "    epipolar_disparity_map_mccnn,\n",
    "    epsg,\n",
    "    geom_plugin_without_dem_and_geoid,\n",
    "    orchestrator=cars_orchestrator,\n",
    "    uncorrected_grid_right=grid_right,\n",
    "    geoid_path=inputs[sens_cst.GEOID],\n",
    "    disp_min=disp_min,\n",
    "    disp_max=disp_max,\n",
    ")"
   ]
  },
  {
   "cell_type": "markdown",
   "id": "19e815a1-7c88-44ca-9c16-96ca332e094e",
   "metadata": {},
   "source": [
    " #### Compute terrain bounding box"
   ]
  },
  {
   "cell_type": "code",
   "execution_count": null,
   "id": "bda732cc-b761-4389-a14a-096e76fa89e0",
   "metadata": {},
   "outputs": [],
   "source": [
    "current_terrain_roi_bbox = preprocessing.compute_terrain_bbox(\n",
    "    sensor_image_left,\n",
    "    sensor_image_right,\n",
    "    new_epipolar_image_left,\n",
    "    grid_left,\n",
    "    corrected_grid_right,\n",
    "    epsg,\n",
    "    geom_plugin_with_dem_and_geoid,\n",
    "    resolution=rasterization_application.get_resolution(),\n",
    "    disp_min=disp_min,\n",
    "    disp_max=disp_max,\n",
    "    orchestrator=cars_orchestrator\n",
    ")\n",
    "terrain_bounds, optimal_terrain_tile_width = preprocessing.compute_terrain_bounds(\n",
    "    [current_terrain_roi_bbox],\n",
    "    resolution=rasterization_application.get_resolution()\n",
    ")"
   ]
  },
  {
   "cell_type": "markdown",
   "id": "4ff0dc69-3db3-4e09-bd99-dc8042abfbad",
   "metadata": {},
   "source": [
    "#### Transform point cloud to terrain point cloud"
   ]
  },
  {
   "cell_type": "markdown",
   "id": "d6db2ff5",
   "metadata": {},
   "source": [
    "From census disparity map"
   ]
  },
  {
   "cell_type": "code",
   "execution_count": null,
   "id": "20f2fc50-4ed8-48e7-b324-4dc8f71627fc",
   "metadata": {},
   "outputs": [],
   "source": [
    "merged_points_clouds_census = pc_fusion_application.run(\n",
    "    [epipolar_points_cloud_census],\n",
    "    terrain_bounds,\n",
    "    epsg,\n",
    "    orchestrator=cars_orchestrator,\n",
    "    margins=rasterization_application.get_margins(),\n",
    "    optimal_terrain_tile_width=optimal_terrain_tile_width\n",
    ")"
   ]
  },
  {
   "cell_type": "markdown",
   "id": "9cbcf479",
   "metadata": {},
   "source": [
    "From mccnn disparity map"
   ]
  },
  {
   "cell_type": "code",
   "execution_count": null,
   "id": "d9250b9c",
   "metadata": {},
   "outputs": [],
   "source": [
    "merged_points_clouds_mccnn = pc_fusion_application.run(\n",
    "    [epipolar_points_cloud_mccnn],\n",
    "    terrain_bounds,\n",
    "    epsg,\n",
    "    orchestrator=cars_orchestrator,\n",
    "    margins=rasterization_application.get_margins(),\n",
    "    optimal_terrain_tile_width=optimal_terrain_tile_width\n",
    ")"
   ]
  },
  {
   "cell_type": "markdown",
   "id": "9eb9052b-e0d7-4b63-8152-dd8541e23d0f",
   "metadata": {},
   "source": [
    "### Point Cloud Outlier Removing : remove points with small components removing method"
   ]
  },
  {
   "cell_type": "markdown",
   "id": "d0e49614",
   "metadata": {},
   "source": [
    "From census disparity map"
   ]
  },
  {
   "cell_type": "code",
   "execution_count": null,
   "id": "dd0f821b-21df-45b8-85cc-b0550ffe73bb",
   "metadata": {},
   "outputs": [],
   "source": [
    "filtered_sc_merged_points_clouds_census = pc_outlier_removing_small_comp_application.run(\n",
    "    merged_points_clouds_census,\n",
    "    orchestrator=cars_orchestrator,\n",
    ")"
   ]
  },
  {
   "cell_type": "markdown",
   "id": "7beb87df",
   "metadata": {},
   "source": [
    "From mccnn disparity map"
   ]
  },
  {
   "cell_type": "code",
   "execution_count": null,
   "id": "b113e4cb",
   "metadata": {},
   "outputs": [],
   "source": [
    "filtered_sc_merged_points_clouds_mccnn = pc_outlier_removing_small_comp_application.run(\n",
    "    merged_points_clouds_mccnn,\n",
    "    orchestrator=cars_orchestrator,\n",
    ")"
   ]
  },
  {
   "cell_type": "markdown",
   "id": "ae05e50b-ac50-4047-b90d-cd3459103fd3",
   "metadata": {},
   "source": [
    "### Point Cloud Outlier Removing: remove points with statistical removing method"
   ]
  },
  {
   "cell_type": "markdown",
   "id": "d7db9e12",
   "metadata": {},
   "source": [
    "From census disparity map"
   ]
  },
  {
   "cell_type": "code",
   "execution_count": null,
   "id": "688b93bb-7400-424e-837b-82a75e5efb71",
   "metadata": {},
   "outputs": [],
   "source": [
    "filtered_stats_merged_points_clouds_census = pc_outlier_removing_stats_application.run(\n",
    "    filtered_sc_merged_points_clouds_census,\n",
    "    orchestrator=cars_orchestrator,\n",
    ")"
   ]
  },
  {
   "cell_type": "markdown",
   "id": "14551b8a",
   "metadata": {},
   "source": [
    "From mccnn disparity map"
   ]
  },
  {
   "cell_type": "code",
   "execution_count": null,
   "id": "ca26b00c",
   "metadata": {},
   "outputs": [],
   "source": [
    "filtered_stats_merged_points_clouds_mccnn = pc_outlier_removing_stats_application.run(\n",
    "    filtered_sc_merged_points_clouds_mccnn,\n",
    "    orchestrator=cars_orchestrator,\n",
    ")"
   ]
  },
  {
   "cell_type": "markdown",
   "id": "5eb943f0-cea6-4774-b159-0c63e8a2512f",
   "metadata": {},
   "source": [
    "### Rasterization : rasterize point cloud"
   ]
  },
  {
   "cell_type": "markdown",
   "id": "19a9231f",
   "metadata": {},
   "source": [
    "From census disparity map"
   ]
  },
  {
   "cell_type": "code",
   "execution_count": null,
   "id": "2064961e-b868-4007-b8fc-3f5e1af614a4",
   "metadata": {},
   "outputs": [],
   "source": [
    "dsm_census = rasterization_application.run(\n",
    "    filtered_stats_merged_points_clouds_census,\n",
    "    epsg,\n",
    "    orchestrator=cars_orchestrator\n",
    ")"
   ]
  },
  {
   "cell_type": "markdown",
   "id": "6ce1420e",
   "metadata": {},
   "source": [
    "From mccnn disparity map"
   ]
  },
  {
   "cell_type": "code",
   "execution_count": null,
   "id": "00332236",
   "metadata": {},
   "outputs": [],
   "source": [
    "dsm_mccnn = rasterization_application.run(\n",
    "    filtered_stats_merged_points_clouds_mccnn,\n",
    "    epsg,\n",
    "    orchestrator=cars_orchestrator\n",
    ")"
   ]
  },
  {
   "cell_type": "markdown",
   "id": "16fdb7f8-93e0-46a1-9075-6a453c1ad734",
   "metadata": {},
   "source": [
    "### Show DSM\n"
   ]
  },
  {
   "cell_type": "markdown",
   "id": "53ea4039",
   "metadata": {},
   "source": [
    "From census disparity map"
   ]
  },
  {
   "cell_type": "code",
   "execution_count": null,
   "id": "24f618b3",
   "metadata": {},
   "outputs": [],
   "source": [
    "data_dsm_census = get_full_data(dsm_census, \"hgt\")\n",
    "show_data(data_dsm_census, mode=\"dsm\")"
   ]
  },
  {
   "cell_type": "markdown",
   "id": "ced3b826",
   "metadata": {},
   "source": [
    "From mccnn disparity map"
   ]
  },
  {
   "cell_type": "code",
   "execution_count": null,
   "id": "34dd7d4d-d40d-4ac4-8da9-c1e8d8fa886e",
   "metadata": {},
   "outputs": [],
   "source": [
    "data_dsm_mccnn = get_full_data(dsm_mccnn, \"hgt\")\n",
    "show_data(data_dsm_mccnn, mode=\"dsm\")"
   ]
  },
  {
   "cell_type": "markdown",
   "id": "db85381f-4a62-40a4-915c-933043f22491",
   "metadata": {},
   "source": [
    "### Show ortho image"
   ]
  },
  {
   "cell_type": "markdown",
   "id": "6e6c3eb7",
   "metadata": {},
   "source": [
    "From census disparity map"
   ]
  },
  {
   "cell_type": "code",
   "execution_count": null,
   "id": "c4f00e06-08c0-4c55-ac23-5d29359bdd07",
   "metadata": {},
   "outputs": [],
   "source": [
    "data_ortho_census = get_full_data(dsm_census, \"img\")\n",
    "show_data(data_ortho_census, mode='image')\n"
   ]
  },
  {
   "cell_type": "markdown",
   "id": "4fe28a8c",
   "metadata": {},
   "source": [
    "From mccnn disparity map"
   ]
  },
  {
   "cell_type": "code",
   "execution_count": null,
   "id": "4fae5419",
   "metadata": {},
   "outputs": [],
   "source": [
    "data_ortho_mccnn = get_full_data(dsm_mccnn, \"img\")\n",
    "show_data(data_dsm_mccnn, mode='image')\n"
   ]
  }
 ],
 "metadata": {
  "kernelspec": {
   "display_name": "Python 3 (ipykernel)",
   "language": "python",
   "name": "python3"
  },
  "language_info": {
   "codemirror_mode": {
    "name": "ipython",
    "version": 3
   },
   "file_extension": ".py",
   "mimetype": "text/x-python",
   "name": "python",
   "nbconvert_exporter": "python",
   "pygments_lexer": "ipython3",
   "version": "3.8.10"
  },
  "vscode": {
   "interpreter": {
    "hash": "0041c8a096542147678ce172f28dc37755329eb6be210e24ce9840eb2f3e2525"
   }
  }
 },
 "nbformat": 4,
 "nbformat_minor": 5
}
